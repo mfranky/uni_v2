{
 "cells": [
  {
   "cell_type": "markdown",
   "metadata": {
    "colab_type": "text",
    "id": "7x9AOw32i3Uf"
   },
   "source": [
    "# Praktikum: Session 1\n",
    "[Video](https://mstream.hm.edu/paella/ui/watch.html?id=d0961d10-1573-464a-a237-9aa3e23967df)"
   ]
  },
  {
   "cell_type": "markdown",
   "metadata": {
    "colab_type": "text",
    "id": "NHP8CyEGjIL3"
   },
   "source": [
    "# Clustern der Iris-Daten\n",
    "Clustern von Daten ist eine typische *unsupervised* Aufgabe. Dabei sollen nicht-gelabelte Daten in mehrere Gruppen (\"Cluster\") unterteilt werden.\n",
    "\n",
    "Wir wollen dies konkret anhand der klassischen Iris-Daten machen. *Wir verwenden hier nur die vierdimensionalen Daten, die Labels werden NICHT verwendet.*\n",
    "\n",
    "Wir beginnen mit Imports für die Grafik:"
   ]
  },
  {
   "cell_type": "code",
   "execution_count": null,
   "metadata": {
    "colab": {},
    "colab_type": "code",
    "id": "9l55W3DZj344"
   },
   "outputs": [],
   "source": [
    "%matplotlib inline\n",
    "import seaborn as sns; sns.set()"
   ]
  },
  {
   "cell_type": "markdown",
   "metadata": {
    "colab_type": "text",
    "id": "Q7lYSKwCkYyp"
   },
   "source": [
    "## 1. Clustern mit K-Means:\n",
    "Vorgehen entlang der 5 Schritte"
   ]
  },
  {
   "cell_type": "markdown",
   "metadata": {
    "colab_type": "text",
    "id": "qOpx3qzskkb_"
   },
   "source": [
    "###  1. Wähle Modellklasse"
   ]
  },
  {
   "cell_type": "markdown",
   "metadata": {
    "colab_type": "text",
    "id": "rp_sKuq4iL-l"
   },
   "source": [
    "Wir wollen K-Means Clustering verwenden. Importieren Sie diese aus ``sklearn.cluster``.\n",
    "\n",
    "*Hinweis: Wie genau die Modellklasse heißt, können Sie sich anzeigen lassen, indem Sie den Anfangsbuchstaben eingeben und dann kurz auf die Code-Vervollständigung warten.*"
   ]
  },
  {
   "cell_type": "code",
   "execution_count": null,
   "metadata": {
    "colab": {},
    "colab_type": "code",
    "id": "JD_aaY3DkotV"
   },
   "outputs": [],
   "source": []
  },
  {
   "cell_type": "markdown",
   "metadata": {
    "colab_type": "text",
    "id": "DdnX5pATjW5-"
   },
   "source": [
    "###  2. Wähle Modellparameter\n",
    "Informieren Sie sich, welche Parameter das Modell benötigt und wählen Sie diese passend. Geben Sie dem Modell den Namen ``model_KM``."
   ]
  },
  {
   "cell_type": "code",
   "execution_count": null,
   "metadata": {
    "colab": {},
    "colab_type": "code",
    "id": "bS-4hXIsjx83"
   },
   "outputs": [],
   "source": []
  },
  {
   "cell_type": "code",
   "execution_count": null,
   "metadata": {
    "colab": {},
    "colab_type": "code",
    "id": "3aEkpzUHlfwe"
   },
   "outputs": [],
   "source": []
  },
  {
   "cell_type": "markdown",
   "metadata": {
    "colab_type": "text",
    "id": "h59Xh6vakg8l"
   },
   "source": [
    "###  3. Bereite Daten vor\n",
    "Laden Sie die Iris Daten. Verschaffen Sie sich einen Überblick, wie die Daten strukturiert sind.\n",
    "\n",
    "*Hinweise:*\n",
    "- Die Iris Daten sind u.a. in der Bibliothek ``seaborn`` enthalten. Dort gibt es eine Funktion namens ``load_dataset``.\n",
    "- Durch Aufrufen von ``meine_daten.head()`` werden die ersten fünf Zeilen des DataFrame ``meine_daten`` angezeigt.\n",
    "\n",
    "\n"
   ]
  },
  {
   "cell_type": "code",
   "execution_count": null,
   "metadata": {
    "colab": {},
    "colab_type": "code",
    "id": "Rnc_h8SHo-ik"
   },
   "outputs": [],
   "source": []
  },
  {
   "cell_type": "markdown",
   "metadata": {
    "colab_type": "text",
    "id": "2YhR_BZ8qrJg"
   },
   "source": [
    "Plotten Sie die Daten, um einen Eindruck zu bekommen, ob ein Clustering vielversprechend ist.\n",
    "*Hinweis: Verwenden Sie eine ``plot``-Funktion von Seaborn. Die automatische Code-Vervollständigung kann Ihnen zeigen, welche Funktionen es gibt, die **plot** im Namen haben.*"
   ]
  },
  {
   "cell_type": "code",
   "execution_count": null,
   "metadata": {
    "colab": {},
    "colab_type": "code",
    "id": "XWNpTkJho_8U"
   },
   "outputs": [],
   "source": []
  },
  {
   "cell_type": "markdown",
   "metadata": {
    "colab_type": "text",
    "id": "DEslQLfImxi1"
   },
   "source": [
    "Extrahieren Sie aus den eingelesenen Daten die Features-Matrix ``X_iris`` und den Labels-Vektor ``y_iris``.\n",
    "\n",
    "*Hinweise:*\n",
    "- Aus einem DataFrame ``df`` können Spalten entfernt werden durch ``df.drop(['Namen der Spalten', 'die entfernt werden sollen'], axis=1)``\n",
    "- Auf eine einzelne Spalte eines DataFrame ``df`` kann zugegriffen werden durch ``df['Name der Spalte']``"
   ]
  },
  {
   "cell_type": "code",
   "execution_count": null,
   "metadata": {
    "colab": {},
    "colab_type": "code",
    "id": "8pNNLa2CpBxD"
   },
   "outputs": [],
   "source": []
  },
  {
   "cell_type": "markdown",
   "metadata": {
    "colab_type": "text",
    "id": "EwQhsBh0oUXF"
   },
   "source": [
    "###  4. Passe das Modell an die Daten an"
   ]
  },
  {
   "cell_type": "code",
   "execution_count": null,
   "metadata": {
    "colab": {},
    "colab_type": "code",
    "id": "ycUdcmvMpDvT"
   },
   "outputs": [],
   "source": []
  },
  {
   "cell_type": "markdown",
   "metadata": {
    "colab_type": "text",
    "id": "H9ACU4IMpDWb"
   },
   "source": [
    "###  5. Wende das Modell an\n",
    "Verwenden Sie das erzeugte Modell, um die Datensätze zu clustern.\n",
    "\n",
    "Konkret heißt das, dass für jeden einzelnen Datensatz vorhergesagt werden soll, in welchen Cluster er gehört. Schauen Sie sich an, in welcher Form diese Information durch das Modell bereitgestellt wird.\n",
    "\n",
    "*Hinweis: Verwenden Sie die ``predict`` Methode.*"
   ]
  },
  {
   "cell_type": "code",
   "execution_count": null,
   "metadata": {
    "colab": {},
    "colab_type": "code",
    "id": "fVahK2z2pFsS"
   },
   "outputs": [],
   "source": []
  },
  {
   "cell_type": "code",
   "execution_count": null,
   "metadata": {
    "colab": {},
    "colab_type": "code",
    "id": "ZRQkiWCZpFgS"
   },
   "outputs": [],
   "source": []
  },
  {
   "cell_type": "markdown",
   "metadata": {
    "colab_type": "text",
    "id": "HtO849EfpoJB"
   },
   "source": [
    "###  6. Betrachte Ergebnis\n"
   ]
  },
  {
   "cell_type": "markdown",
   "metadata": {
    "colab_type": "text",
    "id": "WPQCSB0lZs2v"
   },
   "source": [
    "Fügen Sie zunächst die in Schritt 5. erzeugten Cluster-Daten dem Iris-Datensatz hinzu.\n",
    "\n",
    "*Hinweis: Einem DataFrame ``df`` kann ein Array ``array`` als neue Spalte hinzugefügt werden durch ``df['Gewünschter Name der neuen Spalte'] = array``.*"
   ]
  },
  {
   "cell_type": "code",
   "execution_count": null,
   "metadata": {
    "colab": {},
    "colab_type": "code",
    "id": "JAUikK2KpHOK"
   },
   "outputs": [],
   "source": []
  },
  {
   "cell_type": "markdown",
   "metadata": {
    "colab_type": "text",
    "id": "O-PlIn4fbhXJ"
   },
   "source": [
    "Verwenden Sie die Funktion ``sns.lmplot``, um die Iris Daten entlang zweier von Ihnen gewählten Features darzustellen. Die Färbung soll gem. des Labels ``species`` gewählt werden. Die Zugehörigkeit zu den Clustern gem. dem K-Means Modell soll dadurch dargestellt werden, dass jeder Cluster seinen eigenen Subplot erhält.\n",
    "\n",
    "*Hinweis: Verwenden Sie ``sns.lmplot(\"Name Feature 1\", \"Name Feature 2\", data=iris, hue='nach was gefärbt werden soll', col='nach was die Subplots erstellt werden sollen', fit_reg=False)``*"
   ]
  },
  {
   "cell_type": "code",
   "execution_count": null,
   "metadata": {
    "colab": {},
    "colab_type": "code",
    "id": "XLUJ0V01pImh"
   },
   "outputs": [],
   "source": []
  },
  {
   "cell_type": "markdown",
   "metadata": {
    "colab_type": "text",
    "id": "IVJ90JK9p4UQ"
   },
   "source": [
    "## 2. Clustern mit Gaussian Mixture Model\n",
    "Vorgehen entlang der 5 Schritte"
   ]
  },
  {
   "cell_type": "markdown",
   "metadata": {
    "colab_type": "text",
    "id": "sHwR-ocOdxZi"
   },
   "source": [
    "###  1. Wähle Modellklasse\n",
    "Nun soll zum Clustern ein sog. Gaussian Mixture Model verwendet werden.\n",
    "\n",
    "*Hinweis: Dieses befindet sich in ``sklearn.mixture``.*"
   ]
  },
  {
   "cell_type": "code",
   "execution_count": null,
   "metadata": {
    "colab": {},
    "colab_type": "code",
    "id": "ZLovpscXpJ3x"
   },
   "outputs": [],
   "source": []
  },
  {
   "cell_type": "markdown",
   "metadata": {
    "colab_type": "text",
    "id": "fS9nNmS8eM_L"
   },
   "source": [
    "### 2. Wähle Modellparameter\n"
   ]
  },
  {
   "cell_type": "markdown",
   "metadata": {
    "colab_type": "text",
    "id": "uNRcNw0_ejpd"
   },
   "source": [
    "Informieren Sie sich, welche Parameter das Modell benötigt und wählen Sie diese passend. Geben Sie dem Modell den Namen ``model_GMM``."
   ]
  },
  {
   "cell_type": "code",
   "execution_count": null,
   "metadata": {
    "colab": {},
    "colab_type": "code",
    "id": "cBV0cxAtpK2x"
   },
   "outputs": [],
   "source": []
  },
  {
   "cell_type": "markdown",
   "metadata": {
    "colab_type": "text",
    "id": "35QWrnylenjc"
   },
   "source": [
    "### 3. Bereite Daten vor\n",
    "Die Iris Daten sind ja bereits geladen und somit noch immer verfügbar. Extrahieren Sie daraus die Features-Matrix ``X_iris`` und den Labels-Vektor ``y_iris``.\n",
    "\n",
    "*Hinweis: Sie hatten in Teil 1 die Iris Daten verändert, indem Sie das Ergebnis des Clusterings hinzugefügt haben. Stellen Sie sicher, dass ``X_iris`` und ``y_iris`` korrekt sind. Eine gute Möglichkeit wäre es, die Daten noch einmal zu betrachten (``head()``).*"
   ]
  },
  {
   "cell_type": "code",
   "execution_count": null,
   "metadata": {
    "colab": {},
    "colab_type": "code",
    "id": "GLooS8kipMqx"
   },
   "outputs": [],
   "source": []
  },
  {
   "cell_type": "code",
   "execution_count": null,
   "metadata": {
    "colab": {},
    "colab_type": "code",
    "id": "TCA2VEwLpMjw"
   },
   "outputs": [],
   "source": []
  },
  {
   "cell_type": "markdown",
   "metadata": {
    "colab_type": "text",
    "id": "6WYmbF-kfpzV"
   },
   "source": [
    "### 4. Passe das Modell an die Daten an"
   ]
  },
  {
   "cell_type": "code",
   "execution_count": null,
   "metadata": {
    "colab": {},
    "colab_type": "code",
    "id": "ZcqdcLEGpNjI"
   },
   "outputs": [],
   "source": []
  },
  {
   "cell_type": "markdown",
   "metadata": {
    "colab_type": "text",
    "id": "xFXML6PCftrD"
   },
   "source": [
    "### 5. Wende das Modell an\n",
    "Verwenden Sie das neu erzeugte Modell, um die Datensätze zu clustern.\n",
    "\n",
    "Konkret heißt das, dass für jeden einzelnen Datensatz vorhergesagt werden soll, in welchen Cluster er gehört. Schauen Sie sich an, in welcher Form diese Information durch das Modell bereitgestellt wird.\n",
    "\n",
    "*Hinweis: Verwenden Sie die ``predict`` Methode.*"
   ]
  },
  {
   "cell_type": "code",
   "execution_count": null,
   "metadata": {
    "colab": {},
    "colab_type": "code",
    "id": "SKwQGAuUpOVw"
   },
   "outputs": [],
   "source": []
  },
  {
   "cell_type": "markdown",
   "metadata": {
    "colab_type": "text",
    "id": "Hs-gJtkBf-PH"
   },
   "source": [
    "### 6. Betrachte Ergebnis\n",
    "Fügen Sie zunächst die in Schritt 5 erzeugten neuen Clusterdaten dem Iris-Datensatz hinzu."
   ]
  },
  {
   "cell_type": "code",
   "execution_count": null,
   "metadata": {
    "colab": {},
    "colab_type": "code",
    "id": "WP_Vz2xWpQCw"
   },
   "outputs": [],
   "source": []
  },
  {
   "cell_type": "code",
   "execution_count": null,
   "metadata": {
    "colab": {},
    "colab_type": "code",
    "id": "btQEoswxpP2I"
   },
   "outputs": [],
   "source": []
  },
  {
   "cell_type": "markdown",
   "metadata": {
    "colab_type": "text",
    "id": "s2-WON5vloJc"
   },
   "source": [
    "Verwenden Sie die Funktion ``sns.lmplot``, um die Iris Daten entlang zweier von Ihnen gewählten Features darzustellen. Die Färbung soll gem. des Labels ``species`` gewählt werden.\n",
    "Die Zugehörigkeit zu den Clustern gem. dem K-Means Modell soll weiterhin dadurch dargestellt werden, dass jeder Cluster seinen eigenen Subplot innerhalb einer Zeile erhält.\n",
    "Die Zugehörigkeit zu den Clustern gem. dem Gaussian Mixture Modell soll  dadurch dargestellt werden, dass jeder Cluster seinen eigenen Subplot innerhalb einer *Spalte* erhält.\n",
    "\n",
    "Somit ergiben sich 9 Subplots angeordnet in einem 3x3 Schema. Dabei gilt:\n",
    "- eine Zeile enthält alle Punkte eines GMM-Clusters;\n",
    "- eine Spalte enthält alle Punkte eines KM-Clusters."
   ]
  },
  {
   "cell_type": "code",
   "execution_count": null,
   "metadata": {
    "colab": {},
    "colab_type": "code",
    "id": "7VGk6P76pRa_"
   },
   "outputs": [],
   "source": []
  },
  {
   "cell_type": "markdown",
   "metadata": {
    "colab_type": "text",
    "id": "e2c8OO9ngt9p"
   },
   "source": [
    "Interpretieren Sie die Grafik. Welches Clustering ist besser?"
   ]
  },
  {
   "cell_type": "markdown",
   "metadata": {
    "colab_type": "text",
    "id": "U_AAMFs0oZQR"
   },
   "source": [
    "## 3. Daten mit besonderer Struktur\n",
    "Nun betrachten wir künstlich generierte Daten mit einer besonderen Struktur. Wir wollen vergleichen, wie die beiden Algorithmen darauf performen.\n",
    "\n",
    "Führen Sie die beiden folgenden Zellen aus, um die Daten zu generieren. Diese liegen dann analog zu den Iris Daten als ``DataFrame`` Objekt mit Namen ``df`` und auch als ``ndarray`` mit Namen ``X_aniso`` vor."
   ]
  },
  {
   "cell_type": "code",
   "execution_count": null,
   "metadata": {
    "colab": {},
    "colab_type": "code",
    "id": "Oka98_nLAQlE"
   },
   "outputs": [],
   "source": [
    "import numpy as np\n",
    "import pandas as pd\n",
    "\n",
    "from sklearn import datasets"
   ]
  },
  {
   "cell_type": "code",
   "execution_count": null,
   "metadata": {
    "colab": {},
    "colab_type": "code",
    "id": "F1m5SCGDATQc"
   },
   "outputs": [],
   "source": [
    "n_samples = 1500\n",
    "# Anisotropicly distributed data\n",
    "random_state = 170\n",
    "X,y = datasets.make_blobs(n_samples=n_samples, random_state=random_state)\n",
    "transformation = [[0.6, -0.6], [-0.4, 0.8]]\n",
    "X_aniso = np.dot(X, transformation)\n",
    "df = pd.DataFrame({'x':X_aniso[:,0], 'y':X_aniso[:,1]})"
   ]
  },
  {
   "cell_type": "markdown",
   "metadata": {
    "colab_type": "text",
    "id": "Qd0Uikh_AV3l"
   },
   "source": [
    "Betrachten Sie die Daten und erzeugen Sie einen Plot. Welche Struktur fällt Ihnen auf, d.h. wie sollte ein Algorithmus diese Daten clustern?"
   ]
  },
  {
   "cell_type": "code",
   "execution_count": null,
   "metadata": {
    "colab": {},
    "colab_type": "code",
    "id": "993TyDGxAX-8"
   },
   "outputs": [],
   "source": []
  },
  {
   "cell_type": "markdown",
   "metadata": {
    "colab_type": "text",
    "id": "871SVeiwAYTs"
   },
   "source": [
    "###  Clustern mit K-Means\n",
    "Verwenden Sie den K-Means-Algorithmus um die Daten zu clustern. Visualisieren Sie das Ergebnis und bewerten Sie es basierend darauf."
   ]
  },
  {
   "cell_type": "code",
   "execution_count": null,
   "metadata": {
    "colab": {},
    "colab_type": "code",
    "id": "hi7iQ4LQAamE"
   },
   "outputs": [],
   "source": []
  },
  {
   "cell_type": "markdown",
   "metadata": {
    "colab_type": "text",
    "id": "qVSO2s46Aa__"
   },
   "source": [
    "###  Clustern mit GMM\n",
    "Verwenden Sie ein Gaussian Mixture Model um die Daten zu clustern. Visualisieren Sie das Ergebnis und bewerten Sie es basierend darauf."
   ]
  },
  {
   "cell_type": "code",
   "execution_count": null,
   "metadata": {
    "colab": {},
    "colab_type": "code",
    "id": "j466v8qWAei8"
   },
   "outputs": [],
   "source": []
  }
 ],
 "metadata": {
  "colab": {
   "collapsed_sections": [],
   "name": "Pr1_Clustering_blank.ipynb",
   "provenance": []
  },
  "kernelspec": {
   "display_name": "Python 3.10.6 ('base')",
   "language": "python",
   "name": "python3"
  },
  "language_info": {
   "codemirror_mode": {
    "name": "ipython",
    "version": 3
   },
   "file_extension": ".py",
   "mimetype": "text/x-python",
   "name": "python",
   "nbconvert_exporter": "python",
   "pygments_lexer": "ipython3",
   "version": "3.10.6"
  },
  "vscode": {
   "interpreter": {
    "hash": "5f6be06f36b8fbd0cb6cce7df88eea03d98e08046f2de63828be6e7085aac85f"
   }
  }
 },
 "nbformat": 4,
 "nbformat_minor": 1
}
