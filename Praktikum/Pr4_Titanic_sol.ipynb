{
 "cells": [
  {
   "cell_type": "markdown",
   "metadata": {
    "id": "GA_IivNCzcCU"
   },
   "source": [
    "Dieses Notebook ist angelehnt an das *SciPy 2018 Scikit-learn Tutorial* von Andreas Mueller und Guillaume Lemaitre, verfügbar auf [GitHub](https://github.com/amueller/scipy-2018-sklearn)."
   ]
  },
  {
   "cell_type": "markdown",
   "metadata": {
    "id": "g7iqUy9vzcCU"
   },
   "source": [
    "# Praktikum: Session 4\n",
    "[Video](https://mstream.hm.edu/paella/ui/watch.html?id=24e59ad3-e319-4d41-8a04-a482b90091a3)\n",
    "\n",
    "In dieser Session soll ein Modell entwickelt werden, welches basierend auf der Passagierliste der HMS Titanic das Überleben der einzelnen Passagiere vorhersagt.\n",
    "\n",
    "Dazu verwenden wir eine Version der Titanic-Daten von [hier](http://biostat.mc.vanderbilt.edu/wiki/pub/Main/DataSets/titanic3.xls). Solch externe Daten können auf unterschiedliche Arten bereitgestellt werden:\n",
    "\n",
    "\n",
    "*   direktes Einlesen aus der Quelle in einen Dateframe durch den Befehl `pd.read_excel('Adresse der Quelle')`.\n",
    "*   Herunterladen der Quelle und einlesen vom gewählten Speicherort (ebefalls durch `pd.read_excel`). Wenn Sie Colab verwenden können Sie durch das Menü links den Dateibaum einblenden und dorthin Dateien hochladen. Den genauen Pfad der Datei (um ihn in den `pd.read_***` Befehl einzufügen, erhalten Sie am einfachsten durch einen Rechtsklick auf die Datei, Kontextmenü \"Pfad kopieren\".)\n",
    "\n",
    "Pandas kann viele Datenformate nativ einlesen, so gibt es z.B. auch `pd.read_csv()` etc.\n",
    "\n",
    "Diese Daten werden nun eingelesen. Dabei werden die Daten der ersten Zeile als Spaltennamen interpretiert. Diese lassen wir direkt anzeigen:"
   ]
  },
  {
   "cell_type": "code",
   "execution_count": 2,
   "metadata": {
    "colab": {
     "base_uri": "https://localhost:8080/"
    },
    "executionInfo": {
     "elapsed": 2332,
     "status": "ok",
     "timestamp": 1604591857030,
     "user": {
      "displayName": "Christian Moeller",
      "photoUrl": "",
      "userId": "02505173711259660088"
     },
     "user_tz": -60
    },
    "id": "LYSfcm1HzcCV",
    "outputId": "9cb428e6-d327-46d3-a0c9-5f6b68858c92"
   },
   "outputs": [
    {
     "name": "stdout",
     "output_type": "stream",
     "text": [
      "Index(['pclass', 'survived', 'name', 'sex', 'age', 'sibsp', 'parch', 'ticket',\n",
      "       'fare', 'cabin', 'embarked', 'boat', 'body', 'home.dest'],\n",
      "      dtype='object')\n"
     ]
    }
   ],
   "source": [
    "import os\n",
    "import pandas as pd\n",
    "\n",
    "titanic = pd.read_excel('https://biostat.app.vumc.org/wiki/pub/Main/DataSets/titanic3.xls')\n",
    "#titanic = pd.read_csv(os.path.join('datasets', 'titanic3.csv'))\n",
    "print(titanic.columns)"
   ]
  },
  {
   "cell_type": "markdown",
   "metadata": {
    "id": "tjN5_8BwzcCY"
   },
   "source": [
    "Was hat es mit diesen Spalten auf sich?\n",
    "\n",
    "Hier eine knappe Beschreibung:\n",
    "```\n",
    "pclass          Passenger Class\n",
    "                (1 = 1st; 2 = 2nd; 3 = 3rd)\n",
    "survival        Survival\n",
    "                (0 = No; 1 = Yes)\n",
    "name            Name\n",
    "sex             Sex\n",
    "age             Age\n",
    "sibsp           Number of Siblings/Spouses Aboard\n",
    "parch           Number of Parents/Children Aboard\n",
    "ticket          Ticket Number\n",
    "fare            Passenger Fare\n",
    "cabin           Cabin\n",
    "embarked        Port of Embarkation\n",
    "                (C = Cherbourg; Q = Queenstown; S = Southampton)\n",
    "boat            Lifeboat\n",
    "body            Body Identification Number\n",
    "home.dest       Home/Destination\n",
    "```\n",
    "\n",
    "Welche dieser Features sollte man als kategorische Features auffassen, welche als numerische?"
   ]
  },
  {
   "cell_type": "markdown",
   "metadata": {
    "id": "WPK63jQizcCY"
   },
   "source": [
    "**Kategorische Features:** `name`, `sex`, `cabin`, `embarked`, `boat`, `body`, und `homedest`\n",
    "\n",
    "**Weitere kategorische Features:** ``pclass`` - dieses ist zwar als Zahl angegeben, allerdings liegt hier keine algebraische Logik zugrunde."
   ]
  },
  {
   "cell_type": "markdown",
   "metadata": {
    "id": "pZMAasKnzcCZ"
   },
   "source": [
    "Durch das Einlesen der Daten oben haben wir einen Pandas DataFrame angelegt. Verschaffen Sie sich ein erstes Gefühl für die Daten, indem Sie die ersten fünf Einträge betrachten."
   ]
  },
  {
   "cell_type": "code",
   "execution_count": 3,
   "metadata": {
    "colab": {
     "base_uri": "https://localhost:8080/",
     "height": 267
    },
    "executionInfo": {
     "elapsed": 728,
     "status": "ok",
     "timestamp": 1604592258073,
     "user": {
      "displayName": "Christian Moeller",
      "photoUrl": "",
      "userId": "02505173711259660088"
     },
     "user_tz": -60
    },
    "id": "Tm8q8zzHzcCZ",
    "outputId": "15f97982-d5c7-416e-d14a-109923e9a614"
   },
   "outputs": [
    {
     "data": {
      "text/html": [
       "<div>\n",
       "<style scoped>\n",
       "    .dataframe tbody tr th:only-of-type {\n",
       "        vertical-align: middle;\n",
       "    }\n",
       "\n",
       "    .dataframe tbody tr th {\n",
       "        vertical-align: top;\n",
       "    }\n",
       "\n",
       "    .dataframe thead th {\n",
       "        text-align: right;\n",
       "    }\n",
       "</style>\n",
       "<table border=\"1\" class=\"dataframe\">\n",
       "  <thead>\n",
       "    <tr style=\"text-align: right;\">\n",
       "      <th></th>\n",
       "      <th>pclass</th>\n",
       "      <th>survived</th>\n",
       "      <th>name</th>\n",
       "      <th>sex</th>\n",
       "      <th>age</th>\n",
       "      <th>sibsp</th>\n",
       "      <th>parch</th>\n",
       "      <th>ticket</th>\n",
       "      <th>fare</th>\n",
       "      <th>cabin</th>\n",
       "      <th>embarked</th>\n",
       "      <th>boat</th>\n",
       "      <th>body</th>\n",
       "      <th>home.dest</th>\n",
       "    </tr>\n",
       "  </thead>\n",
       "  <tbody>\n",
       "    <tr>\n",
       "      <th>0</th>\n",
       "      <td>1</td>\n",
       "      <td>1</td>\n",
       "      <td>Allen, Miss. Elisabeth Walton</td>\n",
       "      <td>female</td>\n",
       "      <td>29.0000</td>\n",
       "      <td>0</td>\n",
       "      <td>0</td>\n",
       "      <td>24160</td>\n",
       "      <td>211.3375</td>\n",
       "      <td>B5</td>\n",
       "      <td>S</td>\n",
       "      <td>2</td>\n",
       "      <td>NaN</td>\n",
       "      <td>St Louis, MO</td>\n",
       "    </tr>\n",
       "    <tr>\n",
       "      <th>1</th>\n",
       "      <td>1</td>\n",
       "      <td>1</td>\n",
       "      <td>Allison, Master. Hudson Trevor</td>\n",
       "      <td>male</td>\n",
       "      <td>0.9167</td>\n",
       "      <td>1</td>\n",
       "      <td>2</td>\n",
       "      <td>113781</td>\n",
       "      <td>151.5500</td>\n",
       "      <td>C22 C26</td>\n",
       "      <td>S</td>\n",
       "      <td>11</td>\n",
       "      <td>NaN</td>\n",
       "      <td>Montreal, PQ / Chesterville, ON</td>\n",
       "    </tr>\n",
       "    <tr>\n",
       "      <th>2</th>\n",
       "      <td>1</td>\n",
       "      <td>0</td>\n",
       "      <td>Allison, Miss. Helen Loraine</td>\n",
       "      <td>female</td>\n",
       "      <td>2.0000</td>\n",
       "      <td>1</td>\n",
       "      <td>2</td>\n",
       "      <td>113781</td>\n",
       "      <td>151.5500</td>\n",
       "      <td>C22 C26</td>\n",
       "      <td>S</td>\n",
       "      <td>NaN</td>\n",
       "      <td>NaN</td>\n",
       "      <td>Montreal, PQ / Chesterville, ON</td>\n",
       "    </tr>\n",
       "    <tr>\n",
       "      <th>3</th>\n",
       "      <td>1</td>\n",
       "      <td>0</td>\n",
       "      <td>Allison, Mr. Hudson Joshua Creighton</td>\n",
       "      <td>male</td>\n",
       "      <td>30.0000</td>\n",
       "      <td>1</td>\n",
       "      <td>2</td>\n",
       "      <td>113781</td>\n",
       "      <td>151.5500</td>\n",
       "      <td>C22 C26</td>\n",
       "      <td>S</td>\n",
       "      <td>NaN</td>\n",
       "      <td>135.0</td>\n",
       "      <td>Montreal, PQ / Chesterville, ON</td>\n",
       "    </tr>\n",
       "    <tr>\n",
       "      <th>4</th>\n",
       "      <td>1</td>\n",
       "      <td>0</td>\n",
       "      <td>Allison, Mrs. Hudson J C (Bessie Waldo Daniels)</td>\n",
       "      <td>female</td>\n",
       "      <td>25.0000</td>\n",
       "      <td>1</td>\n",
       "      <td>2</td>\n",
       "      <td>113781</td>\n",
       "      <td>151.5500</td>\n",
       "      <td>C22 C26</td>\n",
       "      <td>S</td>\n",
       "      <td>NaN</td>\n",
       "      <td>NaN</td>\n",
       "      <td>Montreal, PQ / Chesterville, ON</td>\n",
       "    </tr>\n",
       "  </tbody>\n",
       "</table>\n",
       "</div>"
      ],
      "text/plain": [
       "   pclass  survived                                             name     sex  \\\n",
       "0       1         1                    Allen, Miss. Elisabeth Walton  female   \n",
       "1       1         1                   Allison, Master. Hudson Trevor    male   \n",
       "2       1         0                     Allison, Miss. Helen Loraine  female   \n",
       "3       1         0             Allison, Mr. Hudson Joshua Creighton    male   \n",
       "4       1         0  Allison, Mrs. Hudson J C (Bessie Waldo Daniels)  female   \n",
       "\n",
       "       age  sibsp  parch  ticket      fare    cabin embarked boat   body  \\\n",
       "0  29.0000      0      0   24160  211.3375       B5        S    2    NaN   \n",
       "1   0.9167      1      2  113781  151.5500  C22 C26        S   11    NaN   \n",
       "2   2.0000      1      2  113781  151.5500  C22 C26        S  NaN    NaN   \n",
       "3  30.0000      1      2  113781  151.5500  C22 C26        S  NaN  135.0   \n",
       "4  25.0000      1      2  113781  151.5500  C22 C26        S  NaN    NaN   \n",
       "\n",
       "                         home.dest  \n",
       "0                     St Louis, MO  \n",
       "1  Montreal, PQ / Chesterville, ON  \n",
       "2  Montreal, PQ / Chesterville, ON  \n",
       "3  Montreal, PQ / Chesterville, ON  \n",
       "4  Montreal, PQ / Chesterville, ON  "
      ]
     },
     "execution_count": 3,
     "metadata": {},
     "output_type": "execute_result"
    }
   ],
   "source": [
    "titanic.head()"
   ]
  },
  {
   "cell_type": "markdown",
   "metadata": {
    "id": "KVbxzqGxzcCc"
   },
   "source": [
    "Ziel ist es, ein Modell zu bauen, welches für jeden Passagier vorhersagt, ob diese überlebt oder nicht. Welche Features sollte man für solch ein Modell sinnvollerweise verwenden? Was ist das gewünschte Label/Target?\n",
    "\n",
    "- Legen Sie einen Vektor ``labels`` an, der die Labels enthält.\n",
    "- Legen Sie entsprechend Ihrer Wahl eine Features-Matrix an.\n",
    "\n",
    "Kontrollieren Sie, ob die erstellten Objekte sich so verhalten wie gewünscht, d.h. betrachten Sie diese kurz.\n",
    "\n",
    "*Hinweise:*\n",
    "- Welche sind für die Fragestellung offensichtlich irrelevant, welche enthalten die gesuchte Information bereits auf offensichtliche Weise?\n",
    "- Einzelne Spalten können aus einem DataFrame ``df`` extrahiert werden durch ``df[['Spaltenname1', ..., 'SpaltennameN']]``\n",
    "- Ist man nur an den Werten interessiert, d.h. an einem Vektor ohne die zugehörigen Indizierung, so kann man noch ``.values`` anhängen."
   ]
  },
  {
   "cell_type": "markdown",
   "metadata": {
    "id": "lzgSd1AszcCd"
   },
   "source": [
    "Wir verwenden die Features \"pclass\", \"sex\", \"age\", \"sibsp\", \"parch\", \"fare\" und \"embarked\"."
   ]
  },
  {
   "cell_type": "code",
   "execution_count": 4,
   "metadata": {
    "executionInfo": {
     "elapsed": 899,
     "status": "ok",
     "timestamp": 1604592625299,
     "user": {
      "displayName": "Christian Moeller",
      "photoUrl": "",
      "userId": "02505173711259660088"
     },
     "user_tz": -60
    },
    "id": "6rFmMEogzcCd"
   },
   "outputs": [],
   "source": [
    "labels = titanic['survived'].values\n",
    "features = titanic[['pclass', 'sex', 'age', 'sibsp', 'parch', 'fare', 'embarked']]"
   ]
  },
  {
   "cell_type": "code",
   "execution_count": 5,
   "metadata": {
    "colab": {
     "base_uri": "https://localhost:8080/"
    },
    "executionInfo": {
     "elapsed": 790,
     "status": "ok",
     "timestamp": 1604592639234,
     "user": {
      "displayName": "Christian Moeller",
      "photoUrl": "",
      "userId": "02505173711259660088"
     },
     "user_tz": -60
    },
    "id": "hLpHIXXXzcCf",
    "outputId": "a40093ba-961f-4e2f-b29f-2aaf9fcbcb6d"
   },
   "outputs": [
    {
     "data": {
      "text/plain": [
       "(1309, 7)"
      ]
     },
     "execution_count": 5,
     "metadata": {},
     "output_type": "execute_result"
    }
   ],
   "source": [
    "features.shape"
   ]
  },
  {
   "cell_type": "code",
   "execution_count": 6,
   "metadata": {
    "colab": {
     "base_uri": "https://localhost:8080/",
     "height": 199
    },
    "executionInfo": {
     "elapsed": 819,
     "status": "ok",
     "timestamp": 1604592649213,
     "user": {
      "displayName": "Christian Moeller",
      "photoUrl": "",
      "userId": "02505173711259660088"
     },
     "user_tz": -60
    },
    "id": "6TQiU3zxzcCh",
    "outputId": "be639729-51f1-4460-ac3d-d34f9e184f45"
   },
   "outputs": [
    {
     "data": {
      "text/html": [
       "<div>\n",
       "<style scoped>\n",
       "    .dataframe tbody tr th:only-of-type {\n",
       "        vertical-align: middle;\n",
       "    }\n",
       "\n",
       "    .dataframe tbody tr th {\n",
       "        vertical-align: top;\n",
       "    }\n",
       "\n",
       "    .dataframe thead th {\n",
       "        text-align: right;\n",
       "    }\n",
       "</style>\n",
       "<table border=\"1\" class=\"dataframe\">\n",
       "  <thead>\n",
       "    <tr style=\"text-align: right;\">\n",
       "      <th></th>\n",
       "      <th>pclass</th>\n",
       "      <th>sex</th>\n",
       "      <th>age</th>\n",
       "      <th>sibsp</th>\n",
       "      <th>parch</th>\n",
       "      <th>fare</th>\n",
       "      <th>embarked</th>\n",
       "    </tr>\n",
       "  </thead>\n",
       "  <tbody>\n",
       "    <tr>\n",
       "      <th>0</th>\n",
       "      <td>1</td>\n",
       "      <td>female</td>\n",
       "      <td>29.0000</td>\n",
       "      <td>0</td>\n",
       "      <td>0</td>\n",
       "      <td>211.3375</td>\n",
       "      <td>S</td>\n",
       "    </tr>\n",
       "    <tr>\n",
       "      <th>1</th>\n",
       "      <td>1</td>\n",
       "      <td>male</td>\n",
       "      <td>0.9167</td>\n",
       "      <td>1</td>\n",
       "      <td>2</td>\n",
       "      <td>151.5500</td>\n",
       "      <td>S</td>\n",
       "    </tr>\n",
       "    <tr>\n",
       "      <th>2</th>\n",
       "      <td>1</td>\n",
       "      <td>female</td>\n",
       "      <td>2.0000</td>\n",
       "      <td>1</td>\n",
       "      <td>2</td>\n",
       "      <td>151.5500</td>\n",
       "      <td>S</td>\n",
       "    </tr>\n",
       "    <tr>\n",
       "      <th>3</th>\n",
       "      <td>1</td>\n",
       "      <td>male</td>\n",
       "      <td>30.0000</td>\n",
       "      <td>1</td>\n",
       "      <td>2</td>\n",
       "      <td>151.5500</td>\n",
       "      <td>S</td>\n",
       "    </tr>\n",
       "    <tr>\n",
       "      <th>4</th>\n",
       "      <td>1</td>\n",
       "      <td>female</td>\n",
       "      <td>25.0000</td>\n",
       "      <td>1</td>\n",
       "      <td>2</td>\n",
       "      <td>151.5500</td>\n",
       "      <td>S</td>\n",
       "    </tr>\n",
       "  </tbody>\n",
       "</table>\n",
       "</div>"
      ],
      "text/plain": [
       "   pclass     sex      age  sibsp  parch      fare embarked\n",
       "0       1  female  29.0000      0      0  211.3375        S\n",
       "1       1    male   0.9167      1      2  151.5500        S\n",
       "2       1  female   2.0000      1      2  151.5500        S\n",
       "3       1    male  30.0000      1      2  151.5500        S\n",
       "4       1  female  25.0000      1      2  151.5500        S"
      ]
     },
     "execution_count": 6,
     "metadata": {},
     "output_type": "execute_result"
    }
   ],
   "source": [
    "features.head()"
   ]
  },
  {
   "cell_type": "markdown",
   "metadata": {
    "id": "v4e1-k1CzcCj"
   },
   "source": [
    "Der DataFrame ``features`` enthält nun nur noch nützliche Features, allerdings liegen diese noch nicht in einer nutzbaren Form vor (nicht-numerische Daten). Im Folgenden sollen die Daten aufbereitet werden."
   ]
  },
  {
   "cell_type": "markdown",
   "metadata": {
    "id": "lbre95EWzcCj"
   },
   "source": [
    "## Datenaufbereitung mit Pandas\n",
    "Da unsere Daten in einem DataFrame vorliegen, können wir Möglichkeiten der Bibliothek ``Pandas`` (in welcher DataFrames definiert sind) nutzen, um die nötigen Manipulationen durchzuführen.\n",
    "\n",
    "Offensichtlich verändert werden müssen die Features ``sex`` und ``embarked``; die naheliegende Option ist ein One-Hot-Encoding. Eine solche One-Hot-Codierung aller nicht-numerischen Spalten kann in Pandas sehr einfach z.B. durch die Methode ``get_dummies()`` durchgeführt werden. Wenden Sie diese Methode auf die Daten an und betrachten Sie das Ergebnis.\n",
    "\n",
    "*Hinweis:* Die Methode stammt aus der Bibliothek ``pandas``, welche wir ganz oben importiert haben; wir haben sie unter dem (Standard-)Kürzel ``pd`` bereitgestellt. Somit können Sie die gewünschete Methode aufrufen mit ``pd.get_dummies(zu_verarbeitende_Daten)`` aufrufen."
   ]
  },
  {
   "cell_type": "code",
   "execution_count": 7,
   "metadata": {
    "colab": {
     "base_uri": "https://localhost:8080/",
     "height": 199
    },
    "executionInfo": {
     "elapsed": 1409,
     "status": "ok",
     "timestamp": 1604592725726,
     "user": {
      "displayName": "Christian Moeller",
      "photoUrl": "",
      "userId": "02505173711259660088"
     },
     "user_tz": -60
    },
    "id": "VWs01YM3zcCj",
    "outputId": "65b9cee3-2c2a-438b-d0cf-3a66c03dee5c"
   },
   "outputs": [
    {
     "data": {
      "text/html": [
       "<div>\n",
       "<style scoped>\n",
       "    .dataframe tbody tr th:only-of-type {\n",
       "        vertical-align: middle;\n",
       "    }\n",
       "\n",
       "    .dataframe tbody tr th {\n",
       "        vertical-align: top;\n",
       "    }\n",
       "\n",
       "    .dataframe thead th {\n",
       "        text-align: right;\n",
       "    }\n",
       "</style>\n",
       "<table border=\"1\" class=\"dataframe\">\n",
       "  <thead>\n",
       "    <tr style=\"text-align: right;\">\n",
       "      <th></th>\n",
       "      <th>pclass</th>\n",
       "      <th>age</th>\n",
       "      <th>sibsp</th>\n",
       "      <th>parch</th>\n",
       "      <th>fare</th>\n",
       "      <th>sex_female</th>\n",
       "      <th>sex_male</th>\n",
       "      <th>embarked_C</th>\n",
       "      <th>embarked_Q</th>\n",
       "      <th>embarked_S</th>\n",
       "    </tr>\n",
       "  </thead>\n",
       "  <tbody>\n",
       "    <tr>\n",
       "      <th>0</th>\n",
       "      <td>1</td>\n",
       "      <td>29.0000</td>\n",
       "      <td>0</td>\n",
       "      <td>0</td>\n",
       "      <td>211.3375</td>\n",
       "      <td>1</td>\n",
       "      <td>0</td>\n",
       "      <td>0</td>\n",
       "      <td>0</td>\n",
       "      <td>1</td>\n",
       "    </tr>\n",
       "    <tr>\n",
       "      <th>1</th>\n",
       "      <td>1</td>\n",
       "      <td>0.9167</td>\n",
       "      <td>1</td>\n",
       "      <td>2</td>\n",
       "      <td>151.5500</td>\n",
       "      <td>0</td>\n",
       "      <td>1</td>\n",
       "      <td>0</td>\n",
       "      <td>0</td>\n",
       "      <td>1</td>\n",
       "    </tr>\n",
       "    <tr>\n",
       "      <th>2</th>\n",
       "      <td>1</td>\n",
       "      <td>2.0000</td>\n",
       "      <td>1</td>\n",
       "      <td>2</td>\n",
       "      <td>151.5500</td>\n",
       "      <td>1</td>\n",
       "      <td>0</td>\n",
       "      <td>0</td>\n",
       "      <td>0</td>\n",
       "      <td>1</td>\n",
       "    </tr>\n",
       "    <tr>\n",
       "      <th>3</th>\n",
       "      <td>1</td>\n",
       "      <td>30.0000</td>\n",
       "      <td>1</td>\n",
       "      <td>2</td>\n",
       "      <td>151.5500</td>\n",
       "      <td>0</td>\n",
       "      <td>1</td>\n",
       "      <td>0</td>\n",
       "      <td>0</td>\n",
       "      <td>1</td>\n",
       "    </tr>\n",
       "    <tr>\n",
       "      <th>4</th>\n",
       "      <td>1</td>\n",
       "      <td>25.0000</td>\n",
       "      <td>1</td>\n",
       "      <td>2</td>\n",
       "      <td>151.5500</td>\n",
       "      <td>1</td>\n",
       "      <td>0</td>\n",
       "      <td>0</td>\n",
       "      <td>0</td>\n",
       "      <td>1</td>\n",
       "    </tr>\n",
       "  </tbody>\n",
       "</table>\n",
       "</div>"
      ],
      "text/plain": [
       "   pclass      age  sibsp  parch      fare  sex_female  sex_male  embarked_C  \\\n",
       "0       1  29.0000      0      0  211.3375           1         0           0   \n",
       "1       1   0.9167      1      2  151.5500           0         1           0   \n",
       "2       1   2.0000      1      2  151.5500           1         0           0   \n",
       "3       1  30.0000      1      2  151.5500           0         1           0   \n",
       "4       1  25.0000      1      2  151.5500           1         0           0   \n",
       "\n",
       "   embarked_Q  embarked_S  \n",
       "0           0           1  \n",
       "1           0           1  \n",
       "2           0           1  \n",
       "3           0           1  \n",
       "4           0           1  "
      ]
     },
     "execution_count": 7,
     "metadata": {},
     "output_type": "execute_result"
    }
   ],
   "source": [
    "pd.get_dummies(features).head()"
   ]
  },
  {
   "cell_type": "markdown",
   "metadata": {
    "id": "A3XirP49zcCm"
   },
   "source": [
    "Oben hatten wir überlegt, dass es sinnvoll wäre, auch das Feature ``pclass`` als kategorisch aufzufassen. Verwenden Sie wieder die ``get_dummies()`` Methode, um auch ``pclass`` durch One-Hot-Encoding darzustellen.\n",
    "\n",
    "*Hinweis:* ``get_dummies()`` kann das optionale Argument ``columns`` übergeben werden. Durch dieses kann eine Liste an Features explizit angegeben werden, die One-Hot kodiert werden sollen."
   ]
  },
  {
   "cell_type": "code",
   "execution_count": 8,
   "metadata": {
    "colab": {
     "base_uri": "https://localhost:8080/",
     "height": 199
    },
    "executionInfo": {
     "elapsed": 1090,
     "status": "ok",
     "timestamp": 1604592802717,
     "user": {
      "displayName": "Christian Moeller",
      "photoUrl": "",
      "userId": "02505173711259660088"
     },
     "user_tz": -60
    },
    "id": "o-di2F_HzcCm",
    "outputId": "91408e9f-3733-4093-e149-f078cc4ffaff"
   },
   "outputs": [
    {
     "data": {
      "text/html": [
       "<div>\n",
       "<style scoped>\n",
       "    .dataframe tbody tr th:only-of-type {\n",
       "        vertical-align: middle;\n",
       "    }\n",
       "\n",
       "    .dataframe tbody tr th {\n",
       "        vertical-align: top;\n",
       "    }\n",
       "\n",
       "    .dataframe thead th {\n",
       "        text-align: right;\n",
       "    }\n",
       "</style>\n",
       "<table border=\"1\" class=\"dataframe\">\n",
       "  <thead>\n",
       "    <tr style=\"text-align: right;\">\n",
       "      <th></th>\n",
       "      <th>age</th>\n",
       "      <th>sibsp</th>\n",
       "      <th>parch</th>\n",
       "      <th>fare</th>\n",
       "      <th>pclass_1</th>\n",
       "      <th>pclass_2</th>\n",
       "      <th>pclass_3</th>\n",
       "      <th>sex_female</th>\n",
       "      <th>sex_male</th>\n",
       "      <th>embarked_C</th>\n",
       "      <th>embarked_Q</th>\n",
       "      <th>embarked_S</th>\n",
       "    </tr>\n",
       "  </thead>\n",
       "  <tbody>\n",
       "    <tr>\n",
       "      <th>0</th>\n",
       "      <td>29.0000</td>\n",
       "      <td>0</td>\n",
       "      <td>0</td>\n",
       "      <td>211.3375</td>\n",
       "      <td>1</td>\n",
       "      <td>0</td>\n",
       "      <td>0</td>\n",
       "      <td>1</td>\n",
       "      <td>0</td>\n",
       "      <td>0</td>\n",
       "      <td>0</td>\n",
       "      <td>1</td>\n",
       "    </tr>\n",
       "    <tr>\n",
       "      <th>1</th>\n",
       "      <td>0.9167</td>\n",
       "      <td>1</td>\n",
       "      <td>2</td>\n",
       "      <td>151.5500</td>\n",
       "      <td>1</td>\n",
       "      <td>0</td>\n",
       "      <td>0</td>\n",
       "      <td>0</td>\n",
       "      <td>1</td>\n",
       "      <td>0</td>\n",
       "      <td>0</td>\n",
       "      <td>1</td>\n",
       "    </tr>\n",
       "    <tr>\n",
       "      <th>2</th>\n",
       "      <td>2.0000</td>\n",
       "      <td>1</td>\n",
       "      <td>2</td>\n",
       "      <td>151.5500</td>\n",
       "      <td>1</td>\n",
       "      <td>0</td>\n",
       "      <td>0</td>\n",
       "      <td>1</td>\n",
       "      <td>0</td>\n",
       "      <td>0</td>\n",
       "      <td>0</td>\n",
       "      <td>1</td>\n",
       "    </tr>\n",
       "    <tr>\n",
       "      <th>3</th>\n",
       "      <td>30.0000</td>\n",
       "      <td>1</td>\n",
       "      <td>2</td>\n",
       "      <td>151.5500</td>\n",
       "      <td>1</td>\n",
       "      <td>0</td>\n",
       "      <td>0</td>\n",
       "      <td>0</td>\n",
       "      <td>1</td>\n",
       "      <td>0</td>\n",
       "      <td>0</td>\n",
       "      <td>1</td>\n",
       "    </tr>\n",
       "    <tr>\n",
       "      <th>4</th>\n",
       "      <td>25.0000</td>\n",
       "      <td>1</td>\n",
       "      <td>2</td>\n",
       "      <td>151.5500</td>\n",
       "      <td>1</td>\n",
       "      <td>0</td>\n",
       "      <td>0</td>\n",
       "      <td>1</td>\n",
       "      <td>0</td>\n",
       "      <td>0</td>\n",
       "      <td>0</td>\n",
       "      <td>1</td>\n",
       "    </tr>\n",
       "  </tbody>\n",
       "</table>\n",
       "</div>"
      ],
      "text/plain": [
       "       age  sibsp  parch      fare  pclass_1  pclass_2  pclass_3  sex_female  \\\n",
       "0  29.0000      0      0  211.3375         1         0         0           1   \n",
       "1   0.9167      1      2  151.5500         1         0         0           0   \n",
       "2   2.0000      1      2  151.5500         1         0         0           1   \n",
       "3  30.0000      1      2  151.5500         1         0         0           0   \n",
       "4  25.0000      1      2  151.5500         1         0         0           1   \n",
       "\n",
       "   sex_male  embarked_C  embarked_Q  embarked_S  \n",
       "0         0           0           0           1  \n",
       "1         1           0           0           1  \n",
       "2         0           0           0           1  \n",
       "3         1           0           0           1  \n",
       "4         0           0           0           1  "
      ]
     },
     "execution_count": 8,
     "metadata": {},
     "output_type": "execute_result"
    }
   ],
   "source": [
    "features_dummies = pd.get_dummies(features, columns=['pclass', 'sex', 'embarked'])\n",
    "features_dummies.head()"
   ]
  },
  {
   "cell_type": "markdown",
   "metadata": {
    "id": "__LwS5r_zcCo"
   },
   "source": [
    "Damit liegen die Daten nun in einer geeigneten Form vor. Den DataFrame brauchen wir für unser Modell eigentlich nicht mehr, daher extrahieren wir die Daten daraus mit\n",
    "    ```data = features_dummies.values```."
   ]
  },
  {
   "cell_type": "code",
   "execution_count": 9,
   "metadata": {
    "executionInfo": {
     "elapsed": 1311,
     "status": "ok",
     "timestamp": 1604592830813,
     "user": {
      "displayName": "Christian Moeller",
      "photoUrl": "",
      "userId": "02505173711259660088"
     },
     "user_tz": -60
    },
    "id": "_2ASxwv0zcCo"
   },
   "outputs": [],
   "source": [
    "data = features_dummies.values"
   ]
  },
  {
   "cell_type": "code",
   "execution_count": 10,
   "metadata": {
    "colab": {
     "base_uri": "https://localhost:8080/"
    },
    "executionInfo": {
     "elapsed": 721,
     "status": "ok",
     "timestamp": 1604592882912,
     "user": {
      "displayName": "Christian Moeller",
      "photoUrl": "",
      "userId": "02505173711259660088"
     },
     "user_tz": -60
    },
    "id": "ZSsamqLqL5Ia",
    "outputId": "18059e2a-673c-489f-88d4-979f74102495"
   },
   "outputs": [
    {
     "data": {
      "text/plain": [
       "array([[29.    ,  0.    ,  0.    , ...,  0.    ,  0.    ,  1.    ],\n",
       "       [ 0.9167,  1.    ,  2.    , ...,  0.    ,  0.    ,  1.    ],\n",
       "       [ 2.    ,  1.    ,  2.    , ...,  0.    ,  0.    ,  1.    ],\n",
       "       ...,\n",
       "       [26.5   ,  0.    ,  0.    , ...,  1.    ,  0.    ,  0.    ],\n",
       "       [27.    ,  0.    ,  0.    , ...,  1.    ,  0.    ,  0.    ],\n",
       "       [29.    ,  0.    ,  0.    , ...,  0.    ,  0.    ,  1.    ]])"
      ]
     },
     "execution_count": 10,
     "metadata": {},
     "output_type": "execute_result"
    }
   ],
   "source": [
    "data"
   ]
  },
  {
   "cell_type": "markdown",
   "metadata": {
    "id": "fOkW9vNfzcCq"
   },
   "source": [
    "## Fehlende Daten\n",
    "Wir müssen aber noch prüfen, ob evtl. Daten fehlen, d.h. ob manche Einträge den Wert ``NaN`` (not a number) haben und damit ungültig sind. Das kann z.B. mit Hilfe der Methode ``isnan()`` gemacht werden. Diese steht in der Bibliothek ``numpy`` bereit (welche standardmäßig mit dem ``np`` importiert wird) und liefert bei Anwendung auf ein Array ein Array der gleichen Form zurück, welches nur die Einträge ``True`` und ``False`` hat. ``True`` steht an jeder Position, an der das Ausgangsarray den Wert ``NaN`` hat, ``False`` überall dort, wo gültige Daten vorliegen.\n",
    "\n",
    "Somit interessiert uns eigentlich nur, ob dieses große \"``True/False``-Array\" irgendwo den Wert ``True`` hat. Dies kann durch die Methode ``any()`` realisiert werden."
   ]
  },
  {
   "cell_type": "code",
   "execution_count": 11,
   "metadata": {
    "colab": {
     "base_uri": "https://localhost:8080/"
    },
    "executionInfo": {
     "elapsed": 698,
     "status": "ok",
     "timestamp": 1604592908235,
     "user": {
      "displayName": "Christian Moeller",
      "photoUrl": "",
      "userId": "02505173711259660088"
     },
     "user_tz": -60
    },
    "id": "U9j_ffTCzcCq",
    "outputId": "4d68f900-9b31-4592-f76f-8322991f6479"
   },
   "outputs": [
    {
     "data": {
      "text/plain": [
       "array([[False, False, False, ..., False, False, False],\n",
       "       [False, False, False, ..., False, False, False],\n",
       "       [False, False, False, ..., False, False, False],\n",
       "       ...,\n",
       "       [False, False, False, ..., False, False, False],\n",
       "       [False, False, False, ..., False, False, False],\n",
       "       [False, False, False, ..., False, False, False]])"
      ]
     },
     "execution_count": 11,
     "metadata": {},
     "output_type": "execute_result"
    }
   ],
   "source": [
    "import numpy as np\n",
    "np.isnan(data)"
   ]
  },
  {
   "cell_type": "code",
   "execution_count": 12,
   "metadata": {
    "colab": {
     "base_uri": "https://localhost:8080/"
    },
    "executionInfo": {
     "elapsed": 775,
     "status": "ok",
     "timestamp": 1604592964806,
     "user": {
      "displayName": "Christian Moeller",
      "photoUrl": "",
      "userId": "02505173711259660088"
     },
     "user_tz": -60
    },
    "id": "Khk9I7yyzcCs",
    "outputId": "e4ec8445-ffe4-43be-809a-4ed3d1f46967"
   },
   "outputs": [
    {
     "data": {
      "text/plain": [
       "True"
      ]
     },
     "execution_count": 12,
     "metadata": {},
     "output_type": "execute_result"
    }
   ],
   "source": [
    "np.isnan(data).any()"
   ]
  },
  {
   "cell_type": "markdown",
   "metadata": {
    "id": "CzttfBFGzcCu"
   },
   "source": [
    "Da es also fehlende Daten gibt, müssen diese ersetzt werden. Dafür wollen wir den ``SimpleImputer`` verwenden.\n",
    "\n",
    "**VORSICHT: Bevor ein Imputer verwendet wird, müssen die Daten in Trainings- und Testdaten aufgeteilt werden!** Warum?"
   ]
  },
  {
   "cell_type": "markdown",
   "metadata": {
    "id": "jVOjQaZrzcCu"
   },
   "source": [
    "Der Imputer verwendet die gesamten ihm \"gefütterten\" Daten, um zu bestimmen, was mit den fehlenden Daten gemacht wird (z.B. durch den Mittelwert ersetzen). Somit geht Information aus der Datenmenge, auf die der Imputer Zugriff hat überall dort ein, wo Daten fehlen. Damit werden möglicherweise die Trainingsdaten verunreinigt.\n",
    "\n",
    "Konkret: In den Trainingsdaten fehlen Werte für den Fahrpreis. Wenn der Imputer nun den Mittelwert aus den *gesamten* Daten bildet, um fehlende zu ersetzen, geht Information aus dem Testset implizit in das Training ein."
   ]
  },
  {
   "cell_type": "markdown",
   "metadata": {
    "id": "Ct9ZJOjDzcCu"
   },
   "source": [
    "- Teilen Sie die vorliegenden (und bereits aufbereiteten) Daten auf in Trainings- und Testdaten.\n",
    "- Verwenden Sie den ``SimpleImputer`` um fehlende Werte zu ergänzen.\n",
    "- Prüfen Sie nochmals, ob nun noch ``NaN`` vorhanden ist."
   ]
  },
  {
   "cell_type": "code",
   "execution_count": 13,
   "metadata": {
    "executionInfo": {
     "elapsed": 724,
     "status": "ok",
     "timestamp": 1604593285975,
     "user": {
      "displayName": "Christian Moeller",
      "photoUrl": "",
      "userId": "02505173711259660088"
     },
     "user_tz": -60
    },
    "id": "4IGjG8zQzcCv"
   },
   "outputs": [],
   "source": [
    "from sklearn.model_selection import train_test_split\n",
    "from sklearn.impute import SimpleImputer\n",
    "\n",
    "train_data, test_data, train_labels, test_labels = train_test_split(data, labels, random_state=0)\n",
    "\n",
    "imp = SimpleImputer()\n",
    "imp.fit(train_data)\n",
    "train_data_finite = imp.transform(train_data)\n",
    "test_data_finite = imp.transform(test_data)"
   ]
  },
  {
   "cell_type": "code",
   "execution_count": 14,
   "metadata": {
    "colab": {
     "base_uri": "https://localhost:8080/"
    },
    "executionInfo": {
     "elapsed": 716,
     "status": "ok",
     "timestamp": 1604593301470,
     "user": {
      "displayName": "Christian Moeller",
      "photoUrl": "",
      "userId": "02505173711259660088"
     },
     "user_tz": -60
    },
    "id": "pmuwSrIrzcCx",
    "outputId": "d1e7ec2b-94e7-462a-9c9b-3d5944828c48"
   },
   "outputs": [
    {
     "name": "stdout",
     "output_type": "stream",
     "text": [
      "Fehlernde Werte in Trainingsdaten:  False\n",
      "Fehlernde Werte in Testdaten:  False\n"
     ]
    }
   ],
   "source": [
    "print(\"Fehlernde Werte in Trainingsdaten: \", np.isnan(train_data_finite).any())\n",
    "print(\"Fehlernde Werte in Testdaten: \", np.isnan(test_data_finite).any())"
   ]
  },
  {
   "cell_type": "markdown",
   "metadata": {
    "id": "Mh_w1QEBzcCz"
   },
   "source": [
    "## Betrachtung von Modellen\n",
    "Nun sind die Daten soweit aufbereitet, dass man ein Modell damit trainieren kann. Es stellt sich wie immer die Frage: Welches Ergebnis ist gut?"
   ]
  },
  {
   "cell_type": "markdown",
   "metadata": {
    "id": "C5ucwalYzcCz"
   },
   "source": [
    "### Baseline: Dummy Classifier\n",
    "Verwenden Sie den ``DummyClassifier`` mit der Strategie ``most_frequent``, um eine untere Grenze für eine akzeptable Vorhersagegenauigkeit zu erhalten. Was macht dieser Dummy Classifier?\n",
    "\n",
    "*Hinweis:* Diesen Classifier finden Sie in ``sklearn.dummy``."
   ]
  },
  {
   "cell_type": "code",
   "execution_count": 17,
   "metadata": {
    "colab": {
     "base_uri": "https://localhost:8080/"
    },
    "executionInfo": {
     "elapsed": 710,
     "status": "ok",
     "timestamp": 1604593520480,
     "user": {
      "displayName": "Christian Moeller",
      "photoUrl": "",
      "userId": "02505173711259660088"
     },
     "user_tz": -60
    },
    "id": "eMjmv3D8zcC0",
    "outputId": "5acb7d4b-6161-46c6-d3d9-6170989361ff"
   },
   "outputs": [
    {
     "name": "stdout",
     "output_type": "stream",
     "text": [
      "Genauigkeit Dummy Classifier: 0.634146\n"
     ]
    }
   ],
   "source": [
    "from sklearn.dummy import DummyClassifier\n",
    "\n",
    "clf = DummyClassifier(strategy='most_frequent')\n",
    "clf.fit(train_data_finite, train_labels)\n",
    "print(\"Genauigkeit Dummy Classifier: %f\"\n",
    "      % clf.score(test_data_finite, test_labels))"
   ]
  },
  {
   "cell_type": "markdown",
   "metadata": {
    "id": "ihJnTDnazcC1"
   },
   "source": [
    "### Naive Bayes\n",
    "Verwenden Sie einen Naive Bayes Classifier und bestimmen Sie dessen Genauigkeit."
   ]
  },
  {
   "cell_type": "code",
   "execution_count": 18,
   "metadata": {
    "colab": {
     "base_uri": "https://localhost:8080/"
    },
    "executionInfo": {
     "elapsed": 783,
     "status": "ok",
     "timestamp": 1604593608118,
     "user": {
      "displayName": "Christian Moeller",
      "photoUrl": "",
      "userId": "02505173711259660088"
     },
     "user_tz": -60
    },
    "id": "8_Lqxo2VzcC1",
    "outputId": "cc23f450-7105-4b2b-8761-62b1f1989263"
   },
   "outputs": [
    {
     "name": "stdout",
     "output_type": "stream",
     "text": [
      "Genauigkeit Gaussian Naive Bayes: 0.780488\n"
     ]
    }
   ],
   "source": [
    "from sklearn.naive_bayes import GaussianNB\n",
    "\n",
    "gnb = GaussianNB()\n",
    "gnb.fit(train_data_finite, train_labels)\n",
    "print(\"Genauigkeit Gaussian Naive Bayes: %f\"\n",
    "      % gnb.score(test_data_finite, test_labels))"
   ]
  },
  {
   "cell_type": "markdown",
   "metadata": {
    "id": "YzNmBtkXzcC3"
   },
   "source": [
    "### Ensemble Methode: RandomForestClassifier\n",
    "Verwenden Sie den RandomForestClassifier und bestimmen Sie dessen Genauigkeit.\n",
    "*Hinweis:* Diesen finden Sie in ``sklearn.ensemble``."
   ]
  },
  {
   "cell_type": "code",
   "execution_count": 19,
   "metadata": {
    "colab": {
     "base_uri": "https://localhost:8080/"
    },
    "executionInfo": {
     "elapsed": 811,
     "status": "ok",
     "timestamp": 1604593802549,
     "user": {
      "displayName": "Christian Moeller",
      "photoUrl": "",
      "userId": "02505173711259660088"
     },
     "user_tz": -60
    },
    "id": "fbKboFjPzcC3",
    "outputId": "8ff6671d-a38c-4397-aac0-c7e3bdfdbd6c"
   },
   "outputs": [
    {
     "name": "stdout",
     "output_type": "stream",
     "text": [
      "Genauigkeit Random Forest: 0.777439\n"
     ]
    }
   ],
   "source": [
    "from sklearn.ensemble import RandomForestClassifier\n",
    "rf = RandomForestClassifier(random_state=0).fit(train_data_finite, train_labels)\n",
    "print(\"Genauigkeit Random Forest: %f\" % rf.score(test_data_finite, test_labels))"
   ]
  },
  {
   "cell_type": "markdown",
   "metadata": {
    "id": "DvrlFUyzzcC5"
   },
   "source": [
    "Entfernen Sie die Features ``embark`` und ``parch`` aus dem Datensatz und trainieren und bewerten Sie erneut das gleiche RandomForest Modell."
   ]
  },
  {
   "cell_type": "code",
   "execution_count": 20,
   "metadata": {
    "colab": {
     "base_uri": "https://localhost:8080/"
    },
    "executionInfo": {
     "elapsed": 937,
     "status": "ok",
     "timestamp": 1604594054052,
     "user": {
      "displayName": "Christian Moeller",
      "photoUrl": "",
      "userId": "02505173711259660088"
     },
     "user_tz": -60
    },
    "id": "p9gZ_5IXzcC5",
    "outputId": "739e45b9-fc9f-4d82-c512-2c83c1e9cb5e"
   },
   "outputs": [
    {
     "name": "stdout",
     "output_type": "stream",
     "text": [
      "Genauigkeit Random Forest ohne 'embark' und 'parch': 0.798780\n"
     ]
    }
   ],
   "source": [
    "features_dummies_sub = pd.get_dummies(features[['pclass', 'sex', 'age', 'sibsp',  'fare']])\n",
    "data_sub = features_dummies_sub.values\n",
    "\n",
    "train_data_sub, test_data_sub, train_labels, test_labels = train_test_split(data_sub, labels, random_state=0)\n",
    "\n",
    "imp = SimpleImputer()\n",
    "imp.fit(train_data_sub)\n",
    "train_data_finite_sub = imp.transform(train_data_sub)\n",
    "test_data_finite_sub = imp.transform(test_data_sub)\n",
    "                                         \n",
    "rf = RandomForestClassifier(random_state=0).fit(train_data_finite_sub, train_labels)\n",
    "print(\"Genauigkeit Random Forest ohne 'embark' und 'parch': %f\" % rf.score(test_data_finite_sub, test_labels))"
   ]
  },
  {
   "cell_type": "markdown",
   "metadata": {
    "id": "vx7vw2AtzcC7"
   },
   "source": [
    "### Support Vector Classifier (SVC)\n",
    "Verwenden Sie einen Support Vector Classifier und bestimmen Sie dessen Genauigkeit."
   ]
  },
  {
   "cell_type": "code",
   "execution_count": 21,
   "metadata": {
    "colab": {
     "base_uri": "https://localhost:8080/"
    },
    "executionInfo": {
     "elapsed": 670,
     "status": "ok",
     "timestamp": 1604594078446,
     "user": {
      "displayName": "Christian Moeller",
      "photoUrl": "",
      "userId": "02505173711259660088"
     },
     "user_tz": -60
    },
    "id": "mi4TCh-KzcC7",
    "outputId": "9cd19002-4b20-42b1-fd1a-110d9bcdbc88",
    "scrolled": true
   },
   "outputs": [
    {
     "name": "stdout",
     "output_type": "stream",
     "text": [
      "Genauigkeit SVC: 0.689024\n"
     ]
    }
   ],
   "source": [
    "from sklearn.svm import SVC\n",
    "\n",
    "svc = SVC()\n",
    "svc.fit(train_data_finite, train_labels)\n",
    "print(\"Genauigkeit SVC: %f\"\n",
    "      % svc.score(test_data_finite, test_labels))"
   ]
  },
  {
   "cell_type": "markdown",
   "metadata": {
    "id": "kcdEGeaGzcC9"
   },
   "source": [
    "Der Classifier SVC biete im Gegensatz zu Naive Bayes einige Hyperparameter, die es zu wählen gilt. Verwenden Sie eine GridSearch, um eine geeignete Kombination zu finden."
   ]
  },
  {
   "cell_type": "code",
   "execution_count": 22,
   "metadata": {
    "executionInfo": {
     "elapsed": 687,
     "status": "ok",
     "timestamp": 1604594288358,
     "user": {
      "displayName": "Christian Moeller",
      "photoUrl": "",
      "userId": "02505173711259660088"
     },
     "user_tz": -60
    },
    "id": "YqTobBbgzcC9"
   },
   "outputs": [],
   "source": [
    "from sklearn.model_selection import GridSearchCV\n",
    "\n",
    "param_grid = {'C': [0.1, 1, 10], 'kernel': ['linear', 'rbf'], 'gamma': [0.01, 0.1, 1]}\n",
    "grid = GridSearchCV(SVC(), param_grid=param_grid, cv=3, verbose=3, n_jobs=-1)"
   ]
  },
  {
   "cell_type": "code",
   "execution_count": 23,
   "metadata": {
    "colab": {
     "base_uri": "https://localhost:8080/",
     "height": 349
    },
    "executionInfo": {
     "elapsed": 52559,
     "status": "error",
     "timestamp": 1604588921923,
     "user": {
      "displayName": "Christian Moeller",
      "photoUrl": "",
      "userId": "02505173711259660088"
     },
     "user_tz": -60
    },
    "id": "MFHUFIMyzcC_",
    "outputId": "62280b54-296e-408d-90ea-2a3d59077620"
   },
   "outputs": [
    {
     "name": "stdout",
     "output_type": "stream",
     "text": [
      "Fitting 3 folds for each of 18 candidates, totalling 54 fits\n"
     ]
    },
    {
     "name": "stderr",
     "output_type": "stream",
     "text": [
      "[Parallel(n_jobs=-1)]: Using backend LokyBackend with 16 concurrent workers.\n",
      "[Parallel(n_jobs=-1)]: Done  42 out of  54 | elapsed:   10.5s remaining:    2.9s\n",
      "[Parallel(n_jobs=-1)]: Done  54 out of  54 | elapsed:   43.8s finished\n"
     ]
    },
    {
     "data": {
      "text/plain": [
       "GridSearchCV(cv=3, estimator=SVC(), n_jobs=-1,\n",
       "             param_grid={'C': [0.1, 1, 10], 'gamma': [0.01, 0.1, 1],\n",
       "                         'kernel': ['linear', 'rbf']},\n",
       "             verbose=3)"
      ]
     },
     "execution_count": 23,
     "metadata": {},
     "output_type": "execute_result"
    }
   ],
   "source": [
    "grid.fit(train_data_finite, train_labels)"
   ]
  },
  {
   "cell_type": "code",
   "execution_count": 24,
   "metadata": {
    "id": "mtRkX7hHzcDB",
    "outputId": "63d93427-341f-4fb9-af2e-0f7270cda0e1"
   },
   "outputs": [
    {
     "name": "stdout",
     "output_type": "stream",
     "text": [
      "Genauigkeit bester betrachteter SVC: 0.777439\n"
     ]
    }
   ],
   "source": [
    "print(\"Genauigkeit bester betrachteter SVC: %f\"\n",
    "      % grid.score(test_data_finite, test_labels))"
   ]
  },
  {
   "cell_type": "code",
   "execution_count": 25,
   "metadata": {
    "id": "VaOQqX4BzcDC",
    "outputId": "fe4fa4f7-70bf-47e4-fcee-57c4f0f1014c"
   },
   "outputs": [
    {
     "data": {
      "text/plain": [
       "{'C': 0.1, 'gamma': 0.01, 'kernel': 'linear'}"
      ]
     },
     "execution_count": 25,
     "metadata": {},
     "output_type": "execute_result"
    }
   ],
   "source": [
    "grid.best_params_"
   ]
  },
  {
   "cell_type": "markdown",
   "metadata": {
    "id": "RK6N1m8yzcDG"
   },
   "source": [
    "Wir wollen das Grid um die besten gefundenen Hyperparameterwerte feiner machen in der Hoffnung, eine weitere Verbesserung zu erzielen:"
   ]
  },
  {
   "cell_type": "code",
   "execution_count": 26,
   "metadata": {
    "id": "IU0u4rByzcDG",
    "outputId": "94ab40fa-8072-465e-bb44-31b3c7e63763"
   },
   "outputs": [
    {
     "name": "stdout",
     "output_type": "stream",
     "text": [
      "Fitting 3 folds for each of 16 candidates, totalling 48 fits\n"
     ]
    },
    {
     "name": "stderr",
     "output_type": "stream",
     "text": [
      "[Parallel(n_jobs=-1)]: Using backend LokyBackend with 16 concurrent workers.\n",
      "[Parallel(n_jobs=-1)]: Done  34 out of  48 | elapsed:    1.3s remaining:    0.5s\n",
      "[Parallel(n_jobs=-1)]: Done  48 out of  48 | elapsed:    5.3s finished\n"
     ]
    },
    {
     "data": {
      "text/plain": [
       "GridSearchCV(cv=3, estimator=SVC(), n_jobs=-1,\n",
       "             param_grid={'C': [0.01, 0.05, 0.1, 0.2],\n",
       "                         'gamma': [0.001, 0.005, 0.01, 0.05],\n",
       "                         'kernel': ['linear']},\n",
       "             verbose=3)"
      ]
     },
     "execution_count": 26,
     "metadata": {},
     "output_type": "execute_result"
    }
   ],
   "source": [
    "param_grid = {'C': [0.01, 0.05, 0.1, 0.2], 'kernel': ['linear'], 'gamma': [0.001, 0.005, 0.01, 0.05]}\n",
    "grid = GridSearchCV(SVC(), param_grid=param_grid, cv=3, verbose=3, n_jobs=-1)\n",
    "grid.fit(train_data_finite, train_labels)"
   ]
  },
  {
   "cell_type": "code",
   "execution_count": 27,
   "metadata": {
    "id": "-cU_7T-5zcDI",
    "outputId": "a8b04678-09f3-4515-8cbf-09f1908d2f5c"
   },
   "outputs": [
    {
     "name": "stdout",
     "output_type": "stream",
     "text": [
      "Genauigkeit bester betrachteter SVC: 0.777439\n"
     ]
    }
   ],
   "source": [
    "print(\"Genauigkeit bester betrachteter SVC: %f\"\n",
    "      % grid.score(test_data_finite, test_labels))"
   ]
  },
  {
   "cell_type": "code",
   "execution_count": 28,
   "metadata": {
    "id": "JyNwF7tQzcDK",
    "outputId": "c4cd0e75-946d-4a7b-8ec6-bdd240acd6fe"
   },
   "outputs": [
    {
     "data": {
      "text/plain": [
       "{'C': 0.05, 'gamma': 0.001, 'kernel': 'linear'}"
      ]
     },
     "execution_count": 28,
     "metadata": {},
     "output_type": "execute_result"
    }
   ],
   "source": [
    "grid.best_params_"
   ]
  },
  {
   "cell_type": "markdown",
   "metadata": {
    "id": "LkGx32F7zcDL"
   },
   "source": [
    "Das hatte nicht den gewünschten Effekt..."
   ]
  },
  {
   "cell_type": "code",
   "execution_count": null,
   "metadata": {
    "id": "mtsCHljLzcDL"
   },
   "outputs": [],
   "source": []
  }
 ],
 "metadata": {
  "colab": {
   "collapsed_sections": [],
   "name": "Pr4_Titanic_sol.ipynb",
   "provenance": []
  },
  "kernelspec": {
   "display_name": "Python 3",
   "language": "python",
   "name": "python3"
  },
  "language_info": {
   "codemirror_mode": {
    "name": "ipython",
    "version": 3
   },
   "file_extension": ".py",
   "mimetype": "text/x-python",
   "name": "python",
   "nbconvert_exporter": "python",
   "pygments_lexer": "ipython3",
   "version": "3.8.5"
  }
 },
 "nbformat": 4,
 "nbformat_minor": 4
}
