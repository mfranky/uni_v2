{
 "cells": [
  {
   "cell_type": "markdown",
   "metadata": {
    "id": "5unJaTc5-zNz"
   },
   "source": [
    "Dieses Notebook ist angelehnt an das Buch *Python Data Science Handbook* von Jake VanderPlas, auch verfügbar auf [GitHubPages](https://jakevdp.github.io/PythonDataScienceHandbook/05.06-linear-regression.html#Example:-Predicting-Bicycle-Traffic)."
   ]
  },
  {
   "cell_type": "code",
   "execution_count": 1,
   "metadata": {
    "id": "ewBdG2KK-zN2"
   },
   "outputs": [],
   "source": [
    "%matplotlib inline\n",
    "import matplotlib.pyplot as plt\n",
    "import seaborn as sns; sns.set()\n",
    "import numpy as np"
   ]
  },
  {
   "cell_type": "markdown",
   "metadata": {
    "id": "zHXzBCTP-zN6"
   },
   "source": [
    "# Praktikum: Session 5\n",
    "[Video](https://mstream.hm.edu/paella/ui/watch.html?id=bcb4dac3-6114-475e-a5ef-436926cf0497)\n",
    "\n",
    "In dieser Session stehen zwei Punkte im Vordergrund:\n",
    "\n",
    "1.   Datenaufbereitung\n",
    "2.   Interpretation von Modellen\n",
    "\n",
    "Um den zweiten Punkt gut abbilden zu können, verwenden wir ein lineares Modell.\n",
    "\n",
    "Als Anwendungsfall betrachten wir die Anzahl der Fahrradfahrten über die Fremont Bridge in Seattle (dort sind entsprechende Sensoren installiert und die Daten seit Oktober 2012 verfügbar). Ziel ist es, diese Anzahl der Fahrten für einen gegebenen Tag vorherzusagen. Zu diesem Zweck wollen wir ein lineares Modell erstellen."
   ]
  },
  {
   "cell_type": "markdown",
   "metadata": {
    "id": "uV0bGAmv-zN7"
   },
   "source": [
    "## 1. (Roh-)Daten\n",
    "Die Rohdaten der Fremont Bridge können einfach heruntergeladen werden:"
   ]
  },
  {
   "cell_type": "code",
   "execution_count": 2,
   "metadata": {
    "colab": {
     "base_uri": "https://localhost:8080/"
    },
    "executionInfo": {
     "elapsed": 217422,
     "status": "ok",
     "timestamp": 1605876186642,
     "user": {
      "displayName": "Christian Moeller",
      "photoUrl": "",
      "userId": "02505173711259660088"
     },
     "user_tz": -60
    },
    "id": "ZPSw1SUY-zN8",
    "outputId": "169e6368-aedf-4282-94fa-8a4ff59e686f",
    "scrolled": true
   },
   "outputs": [
    {
     "name": "stderr",
     "output_type": "stream",
     "text": [
      "  % Total    % Received % Xferd  Average Speed   Time    Time     Time  Current\n",
      "                                 Dload  Upload   Total   Spent    Left  Speed\n",
      "\n",
      "  0     0    0     0    0     0      0      0 --:--:-- --:--:-- --:--:--     0\n",
      "  0     0    0     0    0     0      0      0 --:--:-- --:--:-- --:--:--     0\n",
      "  0     0    0     0    0     0      0      0 --:--:--  0:00:01 --:--:--     0\n",
      "100 1342k    0 1342k    0     0   633k      0 --:--:--  0:00:02 --:--:--  632k\n",
      "100 3022k    0 3022k    0     0   970k      0 --:--:--  0:00:03 --:--:--  970k\n",
      "100 4541k    0 4541k    0     0  1117k      0 --:--:--  0:00:04 --:--:-- 1117k\n"
     ]
    }
   ],
   "source": [
    "!curl -o FremontBridge.csv https://data.seattle.gov/api/views/65db-xm6k/rows.csv?accessType=DOWNLOAD"
   ]
  },
  {
   "cell_type": "code",
   "execution_count": 3,
   "metadata": {
    "id": "f_M92uF5-zOB"
   },
   "outputs": [],
   "source": [
    "import pandas as pd\n",
    "counts = pd.read_csv('FremontBridge.csv', index_col='Date', parse_dates=True)"
   ]
  },
  {
   "cell_type": "code",
   "execution_count": 4,
   "metadata": {
    "colab": {
     "base_uri": "https://localhost:8080/",
     "height": 440
    },
    "executionInfo": {
     "elapsed": 231695,
     "status": "ok",
     "timestamp": 1605876200924,
     "user": {
      "displayName": "Christian Moeller",
      "photoUrl": "",
      "userId": "02505173711259660088"
     },
     "user_tz": -60
    },
    "id": "3GZf8EmN0i1M",
    "outputId": "3ee9d447-da49-4174-9dbf-186b98774017"
   },
   "outputs": [
    {
     "data": {
      "text/html": [
       "<div>\n",
       "<style scoped>\n",
       "    .dataframe tbody tr th:only-of-type {\n",
       "        vertical-align: middle;\n",
       "    }\n",
       "\n",
       "    .dataframe tbody tr th {\n",
       "        vertical-align: top;\n",
       "    }\n",
       "\n",
       "    .dataframe thead th {\n",
       "        text-align: right;\n",
       "    }\n",
       "</style>\n",
       "<table border=\"1\" class=\"dataframe\">\n",
       "  <thead>\n",
       "    <tr style=\"text-align: right;\">\n",
       "      <th></th>\n",
       "      <th>Fremont Bridge Total</th>\n",
       "      <th>Fremont Bridge East Sidewalk</th>\n",
       "      <th>Fremont Bridge West Sidewalk</th>\n",
       "    </tr>\n",
       "    <tr>\n",
       "      <th>Date</th>\n",
       "      <th></th>\n",
       "      <th></th>\n",
       "      <th></th>\n",
       "    </tr>\n",
       "  </thead>\n",
       "  <tbody>\n",
       "    <tr>\n",
       "      <th>2012-10-03 00:00:00</th>\n",
       "      <td>13.0</td>\n",
       "      <td>4.0</td>\n",
       "      <td>9.0</td>\n",
       "    </tr>\n",
       "    <tr>\n",
       "      <th>2012-10-03 00:00:00</th>\n",
       "      <td>13.0</td>\n",
       "      <td>4.0</td>\n",
       "      <td>9.0</td>\n",
       "    </tr>\n",
       "    <tr>\n",
       "      <th>2012-10-03 01:00:00</th>\n",
       "      <td>10.0</td>\n",
       "      <td>4.0</td>\n",
       "      <td>6.0</td>\n",
       "    </tr>\n",
       "    <tr>\n",
       "      <th>2012-10-03 01:00:00</th>\n",
       "      <td>10.0</td>\n",
       "      <td>4.0</td>\n",
       "      <td>6.0</td>\n",
       "    </tr>\n",
       "    <tr>\n",
       "      <th>2012-10-03 02:00:00</th>\n",
       "      <td>2.0</td>\n",
       "      <td>1.0</td>\n",
       "      <td>1.0</td>\n",
       "    </tr>\n",
       "    <tr>\n",
       "      <th>...</th>\n",
       "      <td>...</td>\n",
       "      <td>...</td>\n",
       "      <td>...</td>\n",
       "    </tr>\n",
       "    <tr>\n",
       "      <th>2021-10-30 19:00:00</th>\n",
       "      <td>83.0</td>\n",
       "      <td>24.0</td>\n",
       "      <td>59.0</td>\n",
       "    </tr>\n",
       "    <tr>\n",
       "      <th>2021-10-30 20:00:00</th>\n",
       "      <td>32.0</td>\n",
       "      <td>19.0</td>\n",
       "      <td>13.0</td>\n",
       "    </tr>\n",
       "    <tr>\n",
       "      <th>2021-10-30 21:00:00</th>\n",
       "      <td>41.0</td>\n",
       "      <td>13.0</td>\n",
       "      <td>28.0</td>\n",
       "    </tr>\n",
       "    <tr>\n",
       "      <th>2021-10-30 22:00:00</th>\n",
       "      <td>21.0</td>\n",
       "      <td>10.0</td>\n",
       "      <td>11.0</td>\n",
       "    </tr>\n",
       "    <tr>\n",
       "      <th>2021-10-30 23:00:00</th>\n",
       "      <td>11.0</td>\n",
       "      <td>6.0</td>\n",
       "      <td>5.0</td>\n",
       "    </tr>\n",
       "  </tbody>\n",
       "</table>\n",
       "<p>145814 rows × 3 columns</p>\n",
       "</div>"
      ],
      "text/plain": [
       "                     Fremont Bridge Total  Fremont Bridge East Sidewalk  \\\n",
       "Date                                                                      \n",
       "2012-10-03 00:00:00                  13.0                           4.0   \n",
       "2012-10-03 00:00:00                  13.0                           4.0   \n",
       "2012-10-03 01:00:00                  10.0                           4.0   \n",
       "2012-10-03 01:00:00                  10.0                           4.0   \n",
       "2012-10-03 02:00:00                   2.0                           1.0   \n",
       "...                                   ...                           ...   \n",
       "2021-10-30 19:00:00                  83.0                          24.0   \n",
       "2021-10-30 20:00:00                  32.0                          19.0   \n",
       "2021-10-30 21:00:00                  41.0                          13.0   \n",
       "2021-10-30 22:00:00                  21.0                          10.0   \n",
       "2021-10-30 23:00:00                  11.0                           6.0   \n",
       "\n",
       "                     Fremont Bridge West Sidewalk  \n",
       "Date                                               \n",
       "2012-10-03 00:00:00                           9.0  \n",
       "2012-10-03 00:00:00                           9.0  \n",
       "2012-10-03 01:00:00                           6.0  \n",
       "2012-10-03 01:00:00                           6.0  \n",
       "2012-10-03 02:00:00                           1.0  \n",
       "...                                           ...  \n",
       "2021-10-30 19:00:00                          59.0  \n",
       "2021-10-30 20:00:00                          13.0  \n",
       "2021-10-30 21:00:00                          28.0  \n",
       "2021-10-30 22:00:00                          11.0  \n",
       "2021-10-30 23:00:00                           5.0  \n",
       "\n",
       "[145814 rows x 3 columns]"
      ]
     },
     "execution_count": 4,
     "metadata": {},
     "output_type": "execute_result"
    }
   ],
   "source": [
    "counts.sort_index()"
   ]
  },
  {
   "cell_type": "markdown",
   "metadata": {
    "id": "h35uuxHYm3Xm"
   },
   "source": [
    "### 0. Säuberung der Daten\n",
    "Leider enthält dieser Datensatz (Stand 11.11.2020) einen Großteil der Daten doppelt:"
   ]
  },
  {
   "cell_type": "code",
   "execution_count": 12,
   "metadata": {
    "colab": {
     "base_uri": "https://localhost:8080/"
    },
    "executionInfo": {
     "elapsed": 231688,
     "status": "ok",
     "timestamp": 1605876200925,
     "user": {
      "displayName": "Christian Moeller",
      "photoUrl": "",
      "userId": "02505173711259660088"
     },
     "user_tz": -60
    },
    "id": "bWsRkxWdnJUS",
    "outputId": "a129503c-6b53-44e3-8973-06cb0eee6130"
   },
   "outputs": [
    {
     "name": "stdout",
     "output_type": "stream",
     "text": [
      "counts enthält 136334 Einträge.\n",
      "Es gibt aber nur 70080 einzigartige Zeitstempel.\n",
      "Hier ein Auszug aus der Häufigkeitsverteilung:\n"
     ]
    },
    {
     "data": {
      "text/plain": [
       "2019-06-15 03:00:00    2\n",
       "2016-02-18 09:00:00    2\n",
       "2018-03-21 17:00:00    2\n",
       "2013-08-26 17:00:00    2\n",
       "2019-05-21 16:00:00    2\n",
       "                      ..\n",
       "2020-07-10 08:00:00    1\n",
       "2020-06-08 13:00:00    1\n",
       "2020-09-12 21:00:00    1\n",
       "2020-03-30 14:00:00    1\n",
       "2020-03-29 15:00:00    1\n",
       "Name: Date, Length: 70080, dtype: int64"
      ]
     },
     "execution_count": 12,
     "metadata": {},
     "output_type": "execute_result"
    }
   ],
   "source": [
    "print(\"counts enthält %d Einträge.\" % counts.index.shape)\n",
    "print(\"Es gibt aber nur %d einzigartige Zeitstempel.\" % counts.index.unique().shape)\n",
    "print(\"Hier ein Auszug aus der Häufigkeitsverteilung:\")\n",
    "counts.index.value_counts()"
   ]
  },
  {
   "cell_type": "markdown",
   "metadata": {
    "id": "5fxHQrbIvGSi"
   },
   "source": [
    "Bevor wir diese entfernen, sollten wir prüfen, ob es fehlende Daten gibt. Diese sollten ggf. entfernt werden, **bevor** doppelte Zeilen gelöscht werden (*warum?*)."
   ]
  },
  {
   "cell_type": "code",
   "execution_count": 5,
   "metadata": {
    "colab": {
     "base_uri": "https://localhost:8080/",
     "height": 714
    },
    "executionInfo": {
     "elapsed": 231681,
     "status": "ok",
     "timestamp": 1605876200925,
     "user": {
      "displayName": "Christian Moeller",
      "photoUrl": "",
      "userId": "02505173711259660088"
     },
     "user_tz": -60
    },
    "id": "hR3BIs7UvGSj",
    "outputId": "1d945ee7-cd7a-4c7a-ba1a-cadfa0679c38"
   },
   "outputs": [
    {
     "data": {
      "text/html": [
       "<div>\n",
       "<style scoped>\n",
       "    .dataframe tbody tr th:only-of-type {\n",
       "        vertical-align: middle;\n",
       "    }\n",
       "\n",
       "    .dataframe tbody tr th {\n",
       "        vertical-align: top;\n",
       "    }\n",
       "\n",
       "    .dataframe thead th {\n",
       "        text-align: right;\n",
       "    }\n",
       "</style>\n",
       "<table border=\"1\" class=\"dataframe\">\n",
       "  <thead>\n",
       "    <tr style=\"text-align: right;\">\n",
       "      <th></th>\n",
       "      <th>Fremont Bridge Total</th>\n",
       "      <th>Fremont Bridge East Sidewalk</th>\n",
       "      <th>Fremont Bridge West Sidewalk</th>\n",
       "    </tr>\n",
       "    <tr>\n",
       "      <th>Date</th>\n",
       "      <th></th>\n",
       "      <th></th>\n",
       "      <th></th>\n",
       "    </tr>\n",
       "  </thead>\n",
       "  <tbody>\n",
       "    <tr>\n",
       "      <th>2013-06-14 09:00:00</th>\n",
       "      <td>NaN</td>\n",
       "      <td>NaN</td>\n",
       "      <td>NaN</td>\n",
       "    </tr>\n",
       "    <tr>\n",
       "      <th>2013-06-14 10:00:00</th>\n",
       "      <td>NaN</td>\n",
       "      <td>NaN</td>\n",
       "      <td>NaN</td>\n",
       "    </tr>\n",
       "    <tr>\n",
       "      <th>2014-03-09 02:00:00</th>\n",
       "      <td>NaN</td>\n",
       "      <td>NaN</td>\n",
       "      <td>NaN</td>\n",
       "    </tr>\n",
       "    <tr>\n",
       "      <th>2015-03-08 02:00:00</th>\n",
       "      <td>NaN</td>\n",
       "      <td>NaN</td>\n",
       "      <td>NaN</td>\n",
       "    </tr>\n",
       "    <tr>\n",
       "      <th>2015-04-21 11:00:00</th>\n",
       "      <td>NaN</td>\n",
       "      <td>NaN</td>\n",
       "      <td>NaN</td>\n",
       "    </tr>\n",
       "    <tr>\n",
       "      <th>2015-04-21 12:00:00</th>\n",
       "      <td>NaN</td>\n",
       "      <td>NaN</td>\n",
       "      <td>NaN</td>\n",
       "    </tr>\n",
       "    <tr>\n",
       "      <th>2016-03-13 02:00:00</th>\n",
       "      <td>NaN</td>\n",
       "      <td>NaN</td>\n",
       "      <td>NaN</td>\n",
       "    </tr>\n",
       "    <tr>\n",
       "      <th>2017-03-12 02:00:00</th>\n",
       "      <td>NaN</td>\n",
       "      <td>NaN</td>\n",
       "      <td>NaN</td>\n",
       "    </tr>\n",
       "    <tr>\n",
       "      <th>2018-03-11 02:00:00</th>\n",
       "      <td>NaN</td>\n",
       "      <td>NaN</td>\n",
       "      <td>NaN</td>\n",
       "    </tr>\n",
       "    <tr>\n",
       "      <th>2013-06-14 09:00:00</th>\n",
       "      <td>NaN</td>\n",
       "      <td>NaN</td>\n",
       "      <td>NaN</td>\n",
       "    </tr>\n",
       "    <tr>\n",
       "      <th>2013-06-14 10:00:00</th>\n",
       "      <td>NaN</td>\n",
       "      <td>NaN</td>\n",
       "      <td>NaN</td>\n",
       "    </tr>\n",
       "    <tr>\n",
       "      <th>2014-03-09 02:00:00</th>\n",
       "      <td>NaN</td>\n",
       "      <td>NaN</td>\n",
       "      <td>NaN</td>\n",
       "    </tr>\n",
       "    <tr>\n",
       "      <th>2015-03-08 02:00:00</th>\n",
       "      <td>NaN</td>\n",
       "      <td>NaN</td>\n",
       "      <td>NaN</td>\n",
       "    </tr>\n",
       "    <tr>\n",
       "      <th>2015-04-21 11:00:00</th>\n",
       "      <td>NaN</td>\n",
       "      <td>NaN</td>\n",
       "      <td>NaN</td>\n",
       "    </tr>\n",
       "    <tr>\n",
       "      <th>2015-04-21 12:00:00</th>\n",
       "      <td>NaN</td>\n",
       "      <td>NaN</td>\n",
       "      <td>NaN</td>\n",
       "    </tr>\n",
       "    <tr>\n",
       "      <th>2016-03-13 02:00:00</th>\n",
       "      <td>NaN</td>\n",
       "      <td>NaN</td>\n",
       "      <td>NaN</td>\n",
       "    </tr>\n",
       "    <tr>\n",
       "      <th>2017-03-12 02:00:00</th>\n",
       "      <td>NaN</td>\n",
       "      <td>NaN</td>\n",
       "      <td>NaN</td>\n",
       "    </tr>\n",
       "    <tr>\n",
       "      <th>2018-03-11 02:00:00</th>\n",
       "      <td>NaN</td>\n",
       "      <td>NaN</td>\n",
       "      <td>NaN</td>\n",
       "    </tr>\n",
       "    <tr>\n",
       "      <th>2019-03-10 02:00:00</th>\n",
       "      <td>NaN</td>\n",
       "      <td>NaN</td>\n",
       "      <td>NaN</td>\n",
       "    </tr>\n",
       "    <tr>\n",
       "      <th>2019-03-10 02:00:00</th>\n",
       "      <td>NaN</td>\n",
       "      <td>NaN</td>\n",
       "      <td>NaN</td>\n",
       "    </tr>\n",
       "    <tr>\n",
       "      <th>2020-03-08 02:00:00</th>\n",
       "      <td>NaN</td>\n",
       "      <td>NaN</td>\n",
       "      <td>NaN</td>\n",
       "    </tr>\n",
       "    <tr>\n",
       "      <th>2021-03-14 02:00:00</th>\n",
       "      <td>NaN</td>\n",
       "      <td>NaN</td>\n",
       "      <td>NaN</td>\n",
       "    </tr>\n",
       "  </tbody>\n",
       "</table>\n",
       "</div>"
      ],
      "text/plain": [
       "                     Fremont Bridge Total  Fremont Bridge East Sidewalk  \\\n",
       "Date                                                                      \n",
       "2013-06-14 09:00:00                   NaN                           NaN   \n",
       "2013-06-14 10:00:00                   NaN                           NaN   \n",
       "2014-03-09 02:00:00                   NaN                           NaN   \n",
       "2015-03-08 02:00:00                   NaN                           NaN   \n",
       "2015-04-21 11:00:00                   NaN                           NaN   \n",
       "2015-04-21 12:00:00                   NaN                           NaN   \n",
       "2016-03-13 02:00:00                   NaN                           NaN   \n",
       "2017-03-12 02:00:00                   NaN                           NaN   \n",
       "2018-03-11 02:00:00                   NaN                           NaN   \n",
       "2013-06-14 09:00:00                   NaN                           NaN   \n",
       "2013-06-14 10:00:00                   NaN                           NaN   \n",
       "2014-03-09 02:00:00                   NaN                           NaN   \n",
       "2015-03-08 02:00:00                   NaN                           NaN   \n",
       "2015-04-21 11:00:00                   NaN                           NaN   \n",
       "2015-04-21 12:00:00                   NaN                           NaN   \n",
       "2016-03-13 02:00:00                   NaN                           NaN   \n",
       "2017-03-12 02:00:00                   NaN                           NaN   \n",
       "2018-03-11 02:00:00                   NaN                           NaN   \n",
       "2019-03-10 02:00:00                   NaN                           NaN   \n",
       "2019-03-10 02:00:00                   NaN                           NaN   \n",
       "2020-03-08 02:00:00                   NaN                           NaN   \n",
       "2021-03-14 02:00:00                   NaN                           NaN   \n",
       "\n",
       "                     Fremont Bridge West Sidewalk  \n",
       "Date                                               \n",
       "2013-06-14 09:00:00                           NaN  \n",
       "2013-06-14 10:00:00                           NaN  \n",
       "2014-03-09 02:00:00                           NaN  \n",
       "2015-03-08 02:00:00                           NaN  \n",
       "2015-04-21 11:00:00                           NaN  \n",
       "2015-04-21 12:00:00                           NaN  \n",
       "2016-03-13 02:00:00                           NaN  \n",
       "2017-03-12 02:00:00                           NaN  \n",
       "2018-03-11 02:00:00                           NaN  \n",
       "2013-06-14 09:00:00                           NaN  \n",
       "2013-06-14 10:00:00                           NaN  \n",
       "2014-03-09 02:00:00                           NaN  \n",
       "2015-03-08 02:00:00                           NaN  \n",
       "2015-04-21 11:00:00                           NaN  \n",
       "2015-04-21 12:00:00                           NaN  \n",
       "2016-03-13 02:00:00                           NaN  \n",
       "2017-03-12 02:00:00                           NaN  \n",
       "2018-03-11 02:00:00                           NaN  \n",
       "2019-03-10 02:00:00                           NaN  \n",
       "2019-03-10 02:00:00                           NaN  \n",
       "2020-03-08 02:00:00                           NaN  \n",
       "2021-03-14 02:00:00                           NaN  "
      ]
     },
     "execution_count": 5,
     "metadata": {},
     "output_type": "execute_result"
    }
   ],
   "source": [
    "counts[counts.isna().any(axis=1)]"
   ]
  },
  {
   "cell_type": "markdown",
   "metadata": {
    "id": "fjAu51CivGSl"
   },
   "source": [
    "Es gibt also 21 Zeilen, die fehlende Daten enthalten. Da wir wissen, dass es Doppelungen in den Indices gibt, besteht die Chance, dass die hier fehlenden Daten in der gedoppelten Zeile eingetragen sind. Prüfen wir das:"
   ]
  },
  {
   "cell_type": "code",
   "execution_count": 6,
   "metadata": {
    "colab": {
     "base_uri": "https://localhost:8080/",
     "height": 1000
    },
    "executionInfo": {
     "elapsed": 231674,
     "status": "ok",
     "timestamp": 1605876200926,
     "user": {
      "displayName": "Christian Moeller",
      "photoUrl": "",
      "userId": "02505173711259660088"
     },
     "user_tz": -60
    },
    "id": "Xm8ameeyvGSm",
    "outputId": "bf712f89-ba4b-4e95-efa7-7649ad2087d2"
   },
   "outputs": [
    {
     "data": {
      "text/html": [
       "<div>\n",
       "<style scoped>\n",
       "    .dataframe tbody tr th:only-of-type {\n",
       "        vertical-align: middle;\n",
       "    }\n",
       "\n",
       "    .dataframe tbody tr th {\n",
       "        vertical-align: top;\n",
       "    }\n",
       "\n",
       "    .dataframe thead th {\n",
       "        text-align: right;\n",
       "    }\n",
       "</style>\n",
       "<table border=\"1\" class=\"dataframe\">\n",
       "  <thead>\n",
       "    <tr style=\"text-align: right;\">\n",
       "      <th></th>\n",
       "      <th>Fremont Bridge Total</th>\n",
       "      <th>Fremont Bridge East Sidewalk</th>\n",
       "      <th>Fremont Bridge West Sidewalk</th>\n",
       "    </tr>\n",
       "    <tr>\n",
       "      <th>Date</th>\n",
       "      <th></th>\n",
       "      <th></th>\n",
       "      <th></th>\n",
       "    </tr>\n",
       "  </thead>\n",
       "  <tbody>\n",
       "    <tr>\n",
       "      <th>2013-06-14 09:00:00</th>\n",
       "      <td>NaN</td>\n",
       "      <td>NaN</td>\n",
       "      <td>NaN</td>\n",
       "    </tr>\n",
       "    <tr>\n",
       "      <th>2013-06-14 09:00:00</th>\n",
       "      <td>NaN</td>\n",
       "      <td>NaN</td>\n",
       "      <td>NaN</td>\n",
       "    </tr>\n",
       "    <tr>\n",
       "      <th>2013-06-14 10:00:00</th>\n",
       "      <td>NaN</td>\n",
       "      <td>NaN</td>\n",
       "      <td>NaN</td>\n",
       "    </tr>\n",
       "    <tr>\n",
       "      <th>2013-06-14 10:00:00</th>\n",
       "      <td>NaN</td>\n",
       "      <td>NaN</td>\n",
       "      <td>NaN</td>\n",
       "    </tr>\n",
       "    <tr>\n",
       "      <th>2014-03-09 02:00:00</th>\n",
       "      <td>NaN</td>\n",
       "      <td>NaN</td>\n",
       "      <td>NaN</td>\n",
       "    </tr>\n",
       "    <tr>\n",
       "      <th>2014-03-09 02:00:00</th>\n",
       "      <td>NaN</td>\n",
       "      <td>NaN</td>\n",
       "      <td>NaN</td>\n",
       "    </tr>\n",
       "    <tr>\n",
       "      <th>2015-03-08 02:00:00</th>\n",
       "      <td>NaN</td>\n",
       "      <td>NaN</td>\n",
       "      <td>NaN</td>\n",
       "    </tr>\n",
       "    <tr>\n",
       "      <th>2015-03-08 02:00:00</th>\n",
       "      <td>NaN</td>\n",
       "      <td>NaN</td>\n",
       "      <td>NaN</td>\n",
       "    </tr>\n",
       "    <tr>\n",
       "      <th>2015-04-21 11:00:00</th>\n",
       "      <td>NaN</td>\n",
       "      <td>NaN</td>\n",
       "      <td>NaN</td>\n",
       "    </tr>\n",
       "    <tr>\n",
       "      <th>2015-04-21 11:00:00</th>\n",
       "      <td>NaN</td>\n",
       "      <td>NaN</td>\n",
       "      <td>NaN</td>\n",
       "    </tr>\n",
       "    <tr>\n",
       "      <th>2015-04-21 12:00:00</th>\n",
       "      <td>NaN</td>\n",
       "      <td>NaN</td>\n",
       "      <td>NaN</td>\n",
       "    </tr>\n",
       "    <tr>\n",
       "      <th>2015-04-21 12:00:00</th>\n",
       "      <td>NaN</td>\n",
       "      <td>NaN</td>\n",
       "      <td>NaN</td>\n",
       "    </tr>\n",
       "    <tr>\n",
       "      <th>2016-03-13 02:00:00</th>\n",
       "      <td>NaN</td>\n",
       "      <td>NaN</td>\n",
       "      <td>NaN</td>\n",
       "    </tr>\n",
       "    <tr>\n",
       "      <th>2016-03-13 02:00:00</th>\n",
       "      <td>NaN</td>\n",
       "      <td>NaN</td>\n",
       "      <td>NaN</td>\n",
       "    </tr>\n",
       "    <tr>\n",
       "      <th>2017-03-12 02:00:00</th>\n",
       "      <td>NaN</td>\n",
       "      <td>NaN</td>\n",
       "      <td>NaN</td>\n",
       "    </tr>\n",
       "    <tr>\n",
       "      <th>2017-03-12 02:00:00</th>\n",
       "      <td>NaN</td>\n",
       "      <td>NaN</td>\n",
       "      <td>NaN</td>\n",
       "    </tr>\n",
       "    <tr>\n",
       "      <th>2018-03-11 02:00:00</th>\n",
       "      <td>NaN</td>\n",
       "      <td>NaN</td>\n",
       "      <td>NaN</td>\n",
       "    </tr>\n",
       "    <tr>\n",
       "      <th>2018-03-11 02:00:00</th>\n",
       "      <td>NaN</td>\n",
       "      <td>NaN</td>\n",
       "      <td>NaN</td>\n",
       "    </tr>\n",
       "    <tr>\n",
       "      <th>2013-06-14 09:00:00</th>\n",
       "      <td>NaN</td>\n",
       "      <td>NaN</td>\n",
       "      <td>NaN</td>\n",
       "    </tr>\n",
       "    <tr>\n",
       "      <th>2013-06-14 09:00:00</th>\n",
       "      <td>NaN</td>\n",
       "      <td>NaN</td>\n",
       "      <td>NaN</td>\n",
       "    </tr>\n",
       "    <tr>\n",
       "      <th>2013-06-14 10:00:00</th>\n",
       "      <td>NaN</td>\n",
       "      <td>NaN</td>\n",
       "      <td>NaN</td>\n",
       "    </tr>\n",
       "    <tr>\n",
       "      <th>2013-06-14 10:00:00</th>\n",
       "      <td>NaN</td>\n",
       "      <td>NaN</td>\n",
       "      <td>NaN</td>\n",
       "    </tr>\n",
       "    <tr>\n",
       "      <th>2014-03-09 02:00:00</th>\n",
       "      <td>NaN</td>\n",
       "      <td>NaN</td>\n",
       "      <td>NaN</td>\n",
       "    </tr>\n",
       "    <tr>\n",
       "      <th>2014-03-09 02:00:00</th>\n",
       "      <td>NaN</td>\n",
       "      <td>NaN</td>\n",
       "      <td>NaN</td>\n",
       "    </tr>\n",
       "    <tr>\n",
       "      <th>2015-03-08 02:00:00</th>\n",
       "      <td>NaN</td>\n",
       "      <td>NaN</td>\n",
       "      <td>NaN</td>\n",
       "    </tr>\n",
       "    <tr>\n",
       "      <th>2015-03-08 02:00:00</th>\n",
       "      <td>NaN</td>\n",
       "      <td>NaN</td>\n",
       "      <td>NaN</td>\n",
       "    </tr>\n",
       "    <tr>\n",
       "      <th>2015-04-21 11:00:00</th>\n",
       "      <td>NaN</td>\n",
       "      <td>NaN</td>\n",
       "      <td>NaN</td>\n",
       "    </tr>\n",
       "    <tr>\n",
       "      <th>2015-04-21 11:00:00</th>\n",
       "      <td>NaN</td>\n",
       "      <td>NaN</td>\n",
       "      <td>NaN</td>\n",
       "    </tr>\n",
       "    <tr>\n",
       "      <th>2015-04-21 12:00:00</th>\n",
       "      <td>NaN</td>\n",
       "      <td>NaN</td>\n",
       "      <td>NaN</td>\n",
       "    </tr>\n",
       "    <tr>\n",
       "      <th>2015-04-21 12:00:00</th>\n",
       "      <td>NaN</td>\n",
       "      <td>NaN</td>\n",
       "      <td>NaN</td>\n",
       "    </tr>\n",
       "    <tr>\n",
       "      <th>2016-03-13 02:00:00</th>\n",
       "      <td>NaN</td>\n",
       "      <td>NaN</td>\n",
       "      <td>NaN</td>\n",
       "    </tr>\n",
       "    <tr>\n",
       "      <th>2016-03-13 02:00:00</th>\n",
       "      <td>NaN</td>\n",
       "      <td>NaN</td>\n",
       "      <td>NaN</td>\n",
       "    </tr>\n",
       "    <tr>\n",
       "      <th>2017-03-12 02:00:00</th>\n",
       "      <td>NaN</td>\n",
       "      <td>NaN</td>\n",
       "      <td>NaN</td>\n",
       "    </tr>\n",
       "    <tr>\n",
       "      <th>2017-03-12 02:00:00</th>\n",
       "      <td>NaN</td>\n",
       "      <td>NaN</td>\n",
       "      <td>NaN</td>\n",
       "    </tr>\n",
       "    <tr>\n",
       "      <th>2018-03-11 02:00:00</th>\n",
       "      <td>NaN</td>\n",
       "      <td>NaN</td>\n",
       "      <td>NaN</td>\n",
       "    </tr>\n",
       "    <tr>\n",
       "      <th>2018-03-11 02:00:00</th>\n",
       "      <td>NaN</td>\n",
       "      <td>NaN</td>\n",
       "      <td>NaN</td>\n",
       "    </tr>\n",
       "    <tr>\n",
       "      <th>2019-03-10 02:00:00</th>\n",
       "      <td>NaN</td>\n",
       "      <td>NaN</td>\n",
       "      <td>NaN</td>\n",
       "    </tr>\n",
       "    <tr>\n",
       "      <th>2019-03-10 02:00:00</th>\n",
       "      <td>NaN</td>\n",
       "      <td>NaN</td>\n",
       "      <td>NaN</td>\n",
       "    </tr>\n",
       "    <tr>\n",
       "      <th>2019-03-10 02:00:00</th>\n",
       "      <td>NaN</td>\n",
       "      <td>NaN</td>\n",
       "      <td>NaN</td>\n",
       "    </tr>\n",
       "    <tr>\n",
       "      <th>2019-03-10 02:00:00</th>\n",
       "      <td>NaN</td>\n",
       "      <td>NaN</td>\n",
       "      <td>NaN</td>\n",
       "    </tr>\n",
       "    <tr>\n",
       "      <th>2020-03-08 02:00:00</th>\n",
       "      <td>0.0</td>\n",
       "      <td>0.0</td>\n",
       "      <td>0.0</td>\n",
       "    </tr>\n",
       "    <tr>\n",
       "      <th>2020-03-08 02:00:00</th>\n",
       "      <td>NaN</td>\n",
       "      <td>NaN</td>\n",
       "      <td>NaN</td>\n",
       "    </tr>\n",
       "    <tr>\n",
       "      <th>2021-03-14 02:00:00</th>\n",
       "      <td>NaN</td>\n",
       "      <td>NaN</td>\n",
       "      <td>NaN</td>\n",
       "    </tr>\n",
       "  </tbody>\n",
       "</table>\n",
       "</div>"
      ],
      "text/plain": [
       "                     Fremont Bridge Total  Fremont Bridge East Sidewalk  \\\n",
       "Date                                                                      \n",
       "2013-06-14 09:00:00                   NaN                           NaN   \n",
       "2013-06-14 09:00:00                   NaN                           NaN   \n",
       "2013-06-14 10:00:00                   NaN                           NaN   \n",
       "2013-06-14 10:00:00                   NaN                           NaN   \n",
       "2014-03-09 02:00:00                   NaN                           NaN   \n",
       "2014-03-09 02:00:00                   NaN                           NaN   \n",
       "2015-03-08 02:00:00                   NaN                           NaN   \n",
       "2015-03-08 02:00:00                   NaN                           NaN   \n",
       "2015-04-21 11:00:00                   NaN                           NaN   \n",
       "2015-04-21 11:00:00                   NaN                           NaN   \n",
       "2015-04-21 12:00:00                   NaN                           NaN   \n",
       "2015-04-21 12:00:00                   NaN                           NaN   \n",
       "2016-03-13 02:00:00                   NaN                           NaN   \n",
       "2016-03-13 02:00:00                   NaN                           NaN   \n",
       "2017-03-12 02:00:00                   NaN                           NaN   \n",
       "2017-03-12 02:00:00                   NaN                           NaN   \n",
       "2018-03-11 02:00:00                   NaN                           NaN   \n",
       "2018-03-11 02:00:00                   NaN                           NaN   \n",
       "2013-06-14 09:00:00                   NaN                           NaN   \n",
       "2013-06-14 09:00:00                   NaN                           NaN   \n",
       "2013-06-14 10:00:00                   NaN                           NaN   \n",
       "2013-06-14 10:00:00                   NaN                           NaN   \n",
       "2014-03-09 02:00:00                   NaN                           NaN   \n",
       "2014-03-09 02:00:00                   NaN                           NaN   \n",
       "2015-03-08 02:00:00                   NaN                           NaN   \n",
       "2015-03-08 02:00:00                   NaN                           NaN   \n",
       "2015-04-21 11:00:00                   NaN                           NaN   \n",
       "2015-04-21 11:00:00                   NaN                           NaN   \n",
       "2015-04-21 12:00:00                   NaN                           NaN   \n",
       "2015-04-21 12:00:00                   NaN                           NaN   \n",
       "2016-03-13 02:00:00                   NaN                           NaN   \n",
       "2016-03-13 02:00:00                   NaN                           NaN   \n",
       "2017-03-12 02:00:00                   NaN                           NaN   \n",
       "2017-03-12 02:00:00                   NaN                           NaN   \n",
       "2018-03-11 02:00:00                   NaN                           NaN   \n",
       "2018-03-11 02:00:00                   NaN                           NaN   \n",
       "2019-03-10 02:00:00                   NaN                           NaN   \n",
       "2019-03-10 02:00:00                   NaN                           NaN   \n",
       "2019-03-10 02:00:00                   NaN                           NaN   \n",
       "2019-03-10 02:00:00                   NaN                           NaN   \n",
       "2020-03-08 02:00:00                   0.0                           0.0   \n",
       "2020-03-08 02:00:00                   NaN                           NaN   \n",
       "2021-03-14 02:00:00                   NaN                           NaN   \n",
       "\n",
       "                     Fremont Bridge West Sidewalk  \n",
       "Date                                               \n",
       "2013-06-14 09:00:00                           NaN  \n",
       "2013-06-14 09:00:00                           NaN  \n",
       "2013-06-14 10:00:00                           NaN  \n",
       "2013-06-14 10:00:00                           NaN  \n",
       "2014-03-09 02:00:00                           NaN  \n",
       "2014-03-09 02:00:00                           NaN  \n",
       "2015-03-08 02:00:00                           NaN  \n",
       "2015-03-08 02:00:00                           NaN  \n",
       "2015-04-21 11:00:00                           NaN  \n",
       "2015-04-21 11:00:00                           NaN  \n",
       "2015-04-21 12:00:00                           NaN  \n",
       "2015-04-21 12:00:00                           NaN  \n",
       "2016-03-13 02:00:00                           NaN  \n",
       "2016-03-13 02:00:00                           NaN  \n",
       "2017-03-12 02:00:00                           NaN  \n",
       "2017-03-12 02:00:00                           NaN  \n",
       "2018-03-11 02:00:00                           NaN  \n",
       "2018-03-11 02:00:00                           NaN  \n",
       "2013-06-14 09:00:00                           NaN  \n",
       "2013-06-14 09:00:00                           NaN  \n",
       "2013-06-14 10:00:00                           NaN  \n",
       "2013-06-14 10:00:00                           NaN  \n",
       "2014-03-09 02:00:00                           NaN  \n",
       "2014-03-09 02:00:00                           NaN  \n",
       "2015-03-08 02:00:00                           NaN  \n",
       "2015-03-08 02:00:00                           NaN  \n",
       "2015-04-21 11:00:00                           NaN  \n",
       "2015-04-21 11:00:00                           NaN  \n",
       "2015-04-21 12:00:00                           NaN  \n",
       "2015-04-21 12:00:00                           NaN  \n",
       "2016-03-13 02:00:00                           NaN  \n",
       "2016-03-13 02:00:00                           NaN  \n",
       "2017-03-12 02:00:00                           NaN  \n",
       "2017-03-12 02:00:00                           NaN  \n",
       "2018-03-11 02:00:00                           NaN  \n",
       "2018-03-11 02:00:00                           NaN  \n",
       "2019-03-10 02:00:00                           NaN  \n",
       "2019-03-10 02:00:00                           NaN  \n",
       "2019-03-10 02:00:00                           NaN  \n",
       "2019-03-10 02:00:00                           NaN  \n",
       "2020-03-08 02:00:00                           0.0  \n",
       "2020-03-08 02:00:00                           NaN  \n",
       "2021-03-14 02:00:00                           NaN  "
      ]
     },
     "execution_count": 6,
     "metadata": {},
     "output_type": "execute_result"
    }
   ],
   "source": [
    "counts.loc[counts[counts.isna().any(axis=1)].index]"
   ]
  },
  {
   "cell_type": "markdown",
   "metadata": {
    "id": "SgXKjHoSvGSo"
   },
   "source": [
    "Eine Korrektur rentiert sich hier wohl eher nicht... Daher löschen wir sie:"
   ]
  },
  {
   "cell_type": "code",
   "execution_count": 7,
   "metadata": {
    "id": "-DcBmsI5vGSo"
   },
   "outputs": [],
   "source": [
    "counts.dropna(inplace=True)"
   ]
  },
  {
   "cell_type": "markdown",
   "metadata": {
    "id": "iKQKSrbBvGSq"
   },
   "source": [
    "Nun wollen wir diejenigen Zeilen, der Index (also der Zeitstempel) doppelt auftreten löschen; genauer: wir wollen die Doppelungen löschen, die jeweils erste Instanz soll beibehalten werden.\n",
    "\n",
    "Mit ``counts.index`` können wir auf den Index zugreifen. Die Methode ``duplicated()`` liefert uns Informationen darüber, ab es sich jeweils um ein Duplikat handelt (``True``) oder nicht (``False``). Die jeweils erste Instanz wird dabei nicht als Duplikat markiert. Durch den Operator ``~`` können wir eine logische Negation durchführen und erhalten damit einen Index, der genau dort den Wert ``True`` hat, wo *kein* Duplikat steht. Die dazu korrespondierenden Zeilen wollen wir behalten."
   ]
  },
  {
   "cell_type": "code",
   "execution_count": 8,
   "metadata": {
    "colab": {
     "base_uri": "https://localhost:8080/"
    },
    "executionInfo": {
     "elapsed": 231663,
     "status": "ok",
     "timestamp": 1605876200926,
     "user": {
      "displayName": "Christian Moeller",
      "photoUrl": "",
      "userId": "02505173711259660088"
     },
     "user_tz": -60
    },
    "id": "U9Nd0O5evGSr",
    "outputId": "190510f1-0254-40ce-b183-bd898265abf4"
   },
   "outputs": [
    {
     "data": {
      "text/plain": [
       "array([ True,  True,  True, ...,  True,  True,  True])"
      ]
     },
     "execution_count": 8,
     "metadata": {},
     "output_type": "execute_result"
    }
   ],
   "source": [
    "~counts.index.duplicated()"
   ]
  },
  {
   "cell_type": "code",
   "execution_count": 9,
   "metadata": {
    "id": "gpAvDyZ3vGSt"
   },
   "outputs": [],
   "source": [
    "counts = counts[~counts.index.duplicated()]"
   ]
  },
  {
   "cell_type": "code",
   "execution_count": 10,
   "metadata": {
    "colab": {
     "base_uri": "https://localhost:8080/"
    },
    "executionInfo": {
     "elapsed": 231653,
     "status": "ok",
     "timestamp": 1605876200927,
     "user": {
      "displayName": "Christian Moeller",
      "photoUrl": "",
      "userId": "02505173711259660088"
     },
     "user_tz": -60
    },
    "id": "KgBgmNMOvGSv",
    "outputId": "2ed52c7e-36ae-4d08-aa3e-038e43614749"
   },
   "outputs": [
    {
     "data": {
      "text/plain": [
       "(79549,)"
      ]
     },
     "execution_count": 10,
     "metadata": {},
     "output_type": "execute_result"
    }
   ],
   "source": [
    "counts.index.shape"
   ]
  },
  {
   "cell_type": "markdown",
   "metadata": {
    "id": "QQnidhUe-zOI"
   },
   "source": [
    "Offenbar sind hier die Überquerungen in einem Stundenraster vorhanden. Außerdem ist neben dem Gesamtverkehr auch noch die Aufteilung in östliche und westliche Sput vorhanden (westlich: Richtung Downtown). Wir wollen diese Daten noch abändern, denn:\n",
    "- Wir sind nur am gesamten Verkehr interessiert.\n",
    "- Wir interessieren uns nur für die gesamten Überquerungen eines ganzen Tages.\n",
    "\n",
    "Für diese für uns relevanten Informationen legen wir einen DataFrame ``daily`` an:"
   ]
  },
  {
   "cell_type": "code",
   "execution_count": 11,
   "metadata": {
    "id": "r1k7Q_f9-zOJ"
   },
   "outputs": [],
   "source": [
    "daily = counts.resample('d').sum()\n",
    "daily['Total'] = daily['Fremont Bridge Total']\n",
    "daily = daily[['Total']]"
   ]
  },
  {
   "cell_type": "code",
   "execution_count": 12,
   "metadata": {
    "colab": {
     "base_uri": "https://localhost:8080/",
     "height": 230
    },
    "executionInfo": {
     "elapsed": 231846,
     "status": "ok",
     "timestamp": 1605876201131,
     "user": {
      "displayName": "Christian Moeller",
      "photoUrl": "",
      "userId": "02505173711259660088"
     },
     "user_tz": -60
    },
    "id": "MV0kBM7y-zOM",
    "outputId": "8fb723c8-cf06-4bea-ffa8-737f1e22324c"
   },
   "outputs": [
    {
     "data": {
      "text/html": [
       "<div>\n",
       "<style scoped>\n",
       "    .dataframe tbody tr th:only-of-type {\n",
       "        vertical-align: middle;\n",
       "    }\n",
       "\n",
       "    .dataframe tbody tr th {\n",
       "        vertical-align: top;\n",
       "    }\n",
       "\n",
       "    .dataframe thead th {\n",
       "        text-align: right;\n",
       "    }\n",
       "</style>\n",
       "<table border=\"1\" class=\"dataframe\">\n",
       "  <thead>\n",
       "    <tr style=\"text-align: right;\">\n",
       "      <th></th>\n",
       "      <th>Total</th>\n",
       "    </tr>\n",
       "    <tr>\n",
       "      <th>Date</th>\n",
       "      <th></th>\n",
       "    </tr>\n",
       "  </thead>\n",
       "  <tbody>\n",
       "    <tr>\n",
       "      <th>2012-10-03</th>\n",
       "      <td>3521.0</td>\n",
       "    </tr>\n",
       "    <tr>\n",
       "      <th>2012-10-04</th>\n",
       "      <td>3475.0</td>\n",
       "    </tr>\n",
       "    <tr>\n",
       "      <th>2012-10-05</th>\n",
       "      <td>3148.0</td>\n",
       "    </tr>\n",
       "    <tr>\n",
       "      <th>2012-10-06</th>\n",
       "      <td>2006.0</td>\n",
       "    </tr>\n",
       "    <tr>\n",
       "      <th>2012-10-07</th>\n",
       "      <td>2142.0</td>\n",
       "    </tr>\n",
       "  </tbody>\n",
       "</table>\n",
       "</div>"
      ],
      "text/plain": [
       "             Total\n",
       "Date              \n",
       "2012-10-03  3521.0\n",
       "2012-10-04  3475.0\n",
       "2012-10-05  3148.0\n",
       "2012-10-06  2006.0\n",
       "2012-10-07  2142.0"
      ]
     },
     "execution_count": 12,
     "metadata": {},
     "output_type": "execute_result"
    }
   ],
   "source": [
    "daily.head()"
   ]
  },
  {
   "cell_type": "markdown",
   "metadata": {
    "id": "0KJH7zjl-zOQ"
   },
   "source": [
    "Basierend darauf können wir noch kein Modell erstellen, wir werden weitere Daten brauchen.\n",
    "- Überlegen Sie, von welchen Einflussgrößen der tägliche Fahrradverkehr abhängen könnte."
   ]
  },
  {
   "cell_type": "markdown",
   "metadata": {
    "id": "d8zj0QwL-zOR"
   },
   "source": [
    "Folgende Daten wollen wir als Features verwenden:\n",
    "1. Wochentag\n",
    "2. Feiertag ja/nein\n",
    "3. Zeitpunkt im Jahr (genauer: Stunden mit Tageslicht)\n",
    "4. Temperatur\n",
    "5. Niederschlag\n",
    "6. Trend von Jahr zu Jahr"
   ]
  },
  {
   "cell_type": "markdown",
   "metadata": {
    "id": "WNnDd7ll-zOS"
   },
   "source": [
    "### 1. Wochentag\n",
    "Hierfür brauchen wir keine neuen Daten, denn die Information ist implizit mit dem Datum bereits vorhanden. Allerdings müssen wir sie extrahieren, denn sonst kann sie ein lineares Modell nicht bekommen (da nichtlinearer, periodischer Zusammenhang).\n",
    "Wir wollen für jeden Wochentag eine eigene Spalte anlegen, die genau dann eine 1 enthält, wenn der aktuelle Tag dieser Wochentag ist, sonst soll sie 0 enthalten.\n",
    "\n",
    "* Hinweis: ``daily.index`` gibt nur den Index des DataFrame ``daily`` zurück. In diesem Fall besteht dieser aus kalendarischen Daten, welche direkt in Form eine ``DatetimeIndex`` vorliegen. Das ist praktisch, denn solch ein ``DatetimeIndex`` hat die Methode ``dayofweek``, d.h. ``daily.index.dayofweek`` gibt die Information über den Wochentag zurück."
   ]
  },
  {
   "cell_type": "code",
   "execution_count": 13,
   "metadata": {
    "colab": {
     "base_uri": "https://localhost:8080/"
    },
    "executionInfo": {
     "elapsed": 231840,
     "status": "ok",
     "timestamp": 1605876201131,
     "user": {
      "displayName": "Christian Moeller",
      "photoUrl": "",
      "userId": "02505173711259660088"
     },
     "user_tz": -60
    },
    "id": "yWYxXkDzFMxG",
    "outputId": "4c26a80d-cae7-4b0b-86fd-a4940638c5ab"
   },
   "outputs": [
    {
     "data": {
      "text/plain": [
       "Int64Index([2, 3, 4, 5, 6, 0, 1, 2, 3, 4,\n",
       "            ...\n",
       "            3, 4, 5, 6, 0, 1, 2, 3, 4, 5],\n",
       "           dtype='int64', name='Date', length=3315)"
      ]
     },
     "execution_count": 13,
     "metadata": {},
     "output_type": "execute_result"
    }
   ],
   "source": [
    "daily.index.dayofweek"
   ]
  },
  {
   "cell_type": "code",
   "execution_count": 14,
   "metadata": {
    "id": "m_QOo07s-zOT"
   },
   "outputs": [],
   "source": [
    "days = ['Mon', 'Tue', 'Wed', 'Thu', 'Fri', 'Sat', 'Sun']\n",
    "for i in range(7):\n",
    "    daily[days[i]] = (daily.index.dayofweek == i).astype(int)"
   ]
  },
  {
   "cell_type": "code",
   "execution_count": 15,
   "metadata": {
    "colab": {
     "base_uri": "https://localhost:8080/",
     "height": 230
    },
    "executionInfo": {
     "elapsed": 231830,
     "status": "ok",
     "timestamp": 1605876201132,
     "user": {
      "displayName": "Christian Moeller",
      "photoUrl": "",
      "userId": "02505173711259660088"
     },
     "user_tz": -60
    },
    "id": "ScuUuF4X-zOW",
    "outputId": "9f27e0f3-8215-4382-9b10-cefb39646b84"
   },
   "outputs": [
    {
     "data": {
      "text/html": [
       "<div>\n",
       "<style scoped>\n",
       "    .dataframe tbody tr th:only-of-type {\n",
       "        vertical-align: middle;\n",
       "    }\n",
       "\n",
       "    .dataframe tbody tr th {\n",
       "        vertical-align: top;\n",
       "    }\n",
       "\n",
       "    .dataframe thead th {\n",
       "        text-align: right;\n",
       "    }\n",
       "</style>\n",
       "<table border=\"1\" class=\"dataframe\">\n",
       "  <thead>\n",
       "    <tr style=\"text-align: right;\">\n",
       "      <th></th>\n",
       "      <th>Total</th>\n",
       "      <th>Mon</th>\n",
       "      <th>Tue</th>\n",
       "      <th>Wed</th>\n",
       "      <th>Thu</th>\n",
       "      <th>Fri</th>\n",
       "      <th>Sat</th>\n",
       "      <th>Sun</th>\n",
       "    </tr>\n",
       "    <tr>\n",
       "      <th>Date</th>\n",
       "      <th></th>\n",
       "      <th></th>\n",
       "      <th></th>\n",
       "      <th></th>\n",
       "      <th></th>\n",
       "      <th></th>\n",
       "      <th></th>\n",
       "      <th></th>\n",
       "    </tr>\n",
       "  </thead>\n",
       "  <tbody>\n",
       "    <tr>\n",
       "      <th>2012-10-03</th>\n",
       "      <td>3521.0</td>\n",
       "      <td>0</td>\n",
       "      <td>0</td>\n",
       "      <td>1</td>\n",
       "      <td>0</td>\n",
       "      <td>0</td>\n",
       "      <td>0</td>\n",
       "      <td>0</td>\n",
       "    </tr>\n",
       "    <tr>\n",
       "      <th>2012-10-04</th>\n",
       "      <td>3475.0</td>\n",
       "      <td>0</td>\n",
       "      <td>0</td>\n",
       "      <td>0</td>\n",
       "      <td>1</td>\n",
       "      <td>0</td>\n",
       "      <td>0</td>\n",
       "      <td>0</td>\n",
       "    </tr>\n",
       "    <tr>\n",
       "      <th>2012-10-05</th>\n",
       "      <td>3148.0</td>\n",
       "      <td>0</td>\n",
       "      <td>0</td>\n",
       "      <td>0</td>\n",
       "      <td>0</td>\n",
       "      <td>1</td>\n",
       "      <td>0</td>\n",
       "      <td>0</td>\n",
       "    </tr>\n",
       "    <tr>\n",
       "      <th>2012-10-06</th>\n",
       "      <td>2006.0</td>\n",
       "      <td>0</td>\n",
       "      <td>0</td>\n",
       "      <td>0</td>\n",
       "      <td>0</td>\n",
       "      <td>0</td>\n",
       "      <td>1</td>\n",
       "      <td>0</td>\n",
       "    </tr>\n",
       "    <tr>\n",
       "      <th>2012-10-07</th>\n",
       "      <td>2142.0</td>\n",
       "      <td>0</td>\n",
       "      <td>0</td>\n",
       "      <td>0</td>\n",
       "      <td>0</td>\n",
       "      <td>0</td>\n",
       "      <td>0</td>\n",
       "      <td>1</td>\n",
       "    </tr>\n",
       "  </tbody>\n",
       "</table>\n",
       "</div>"
      ],
      "text/plain": [
       "             Total  Mon  Tue  Wed  Thu  Fri  Sat  Sun\n",
       "Date                                                 \n",
       "2012-10-03  3521.0    0    0    1    0    0    0    0\n",
       "2012-10-04  3475.0    0    0    0    1    0    0    0\n",
       "2012-10-05  3148.0    0    0    0    0    1    0    0\n",
       "2012-10-06  2006.0    0    0    0    0    0    1    0\n",
       "2012-10-07  2142.0    0    0    0    0    0    0    1"
      ]
     },
     "execution_count": 15,
     "metadata": {},
     "output_type": "execute_result"
    }
   ],
   "source": [
    "daily.head()"
   ]
  },
  {
   "cell_type": "markdown",
   "metadata": {
    "id": "F-cSZNue-zOa"
   },
   "source": [
    "### 2. Feiertage\n",
    "Diese Information ist rein aus dem Datum noch nicht ablesbar, wir brauchen zusätzlich noch einen Feiertagskalender. Dieser wird im Folgenden eingelesen und unserem DataFrame ``daily`` hinzugefügt.\n",
    "- Untersuchen Sie, wie dies geschieht."
   ]
  },
  {
   "cell_type": "code",
   "execution_count": 16,
   "metadata": {
    "id": "pKBUZkrM-zOb"
   },
   "outputs": [],
   "source": [
    "from pandas.tseries.holiday import USFederalHolidayCalendar\n",
    "cal = USFederalHolidayCalendar()\n",
    "holidays = cal.holidays('2012', 'today')\n",
    "daily = daily.join(pd.Series(1, index=holidays, name='holiday'))\n",
    "#daily['holiday'].fillna(0, inplace=True)"
   ]
  },
  {
   "cell_type": "code",
   "execution_count": 17,
   "metadata": {
    "colab": {
     "base_uri": "https://localhost:8080/",
     "height": 230
    },
    "executionInfo": {
     "elapsed": 231821,
     "status": "ok",
     "timestamp": 1605876201133,
     "user": {
      "displayName": "Christian Moeller",
      "photoUrl": "",
      "userId": "02505173711259660088"
     },
     "user_tz": -60
    },
    "id": "Pt3A4WPt3hTB",
    "outputId": "242e059e-0edb-4da2-9e41-ead092aca8a9"
   },
   "outputs": [
    {
     "data": {
      "text/html": [
       "<div>\n",
       "<style scoped>\n",
       "    .dataframe tbody tr th:only-of-type {\n",
       "        vertical-align: middle;\n",
       "    }\n",
       "\n",
       "    .dataframe tbody tr th {\n",
       "        vertical-align: top;\n",
       "    }\n",
       "\n",
       "    .dataframe thead th {\n",
       "        text-align: right;\n",
       "    }\n",
       "</style>\n",
       "<table border=\"1\" class=\"dataframe\">\n",
       "  <thead>\n",
       "    <tr style=\"text-align: right;\">\n",
       "      <th></th>\n",
       "      <th>Total</th>\n",
       "      <th>Mon</th>\n",
       "      <th>Tue</th>\n",
       "      <th>Wed</th>\n",
       "      <th>Thu</th>\n",
       "      <th>Fri</th>\n",
       "      <th>Sat</th>\n",
       "      <th>Sun</th>\n",
       "      <th>holiday</th>\n",
       "    </tr>\n",
       "    <tr>\n",
       "      <th>Date</th>\n",
       "      <th></th>\n",
       "      <th></th>\n",
       "      <th></th>\n",
       "      <th></th>\n",
       "      <th></th>\n",
       "      <th></th>\n",
       "      <th></th>\n",
       "      <th></th>\n",
       "      <th></th>\n",
       "    </tr>\n",
       "  </thead>\n",
       "  <tbody>\n",
       "    <tr>\n",
       "      <th>2012-10-03</th>\n",
       "      <td>3521.0</td>\n",
       "      <td>0</td>\n",
       "      <td>0</td>\n",
       "      <td>1</td>\n",
       "      <td>0</td>\n",
       "      <td>0</td>\n",
       "      <td>0</td>\n",
       "      <td>0</td>\n",
       "      <td>0.0</td>\n",
       "    </tr>\n",
       "    <tr>\n",
       "      <th>2012-10-04</th>\n",
       "      <td>3475.0</td>\n",
       "      <td>0</td>\n",
       "      <td>0</td>\n",
       "      <td>0</td>\n",
       "      <td>1</td>\n",
       "      <td>0</td>\n",
       "      <td>0</td>\n",
       "      <td>0</td>\n",
       "      <td>0.0</td>\n",
       "    </tr>\n",
       "    <tr>\n",
       "      <th>2012-10-05</th>\n",
       "      <td>3148.0</td>\n",
       "      <td>0</td>\n",
       "      <td>0</td>\n",
       "      <td>0</td>\n",
       "      <td>0</td>\n",
       "      <td>1</td>\n",
       "      <td>0</td>\n",
       "      <td>0</td>\n",
       "      <td>0.0</td>\n",
       "    </tr>\n",
       "    <tr>\n",
       "      <th>2012-10-06</th>\n",
       "      <td>2006.0</td>\n",
       "      <td>0</td>\n",
       "      <td>0</td>\n",
       "      <td>0</td>\n",
       "      <td>0</td>\n",
       "      <td>0</td>\n",
       "      <td>1</td>\n",
       "      <td>0</td>\n",
       "      <td>0.0</td>\n",
       "    </tr>\n",
       "    <tr>\n",
       "      <th>2012-10-07</th>\n",
       "      <td>2142.0</td>\n",
       "      <td>0</td>\n",
       "      <td>0</td>\n",
       "      <td>0</td>\n",
       "      <td>0</td>\n",
       "      <td>0</td>\n",
       "      <td>0</td>\n",
       "      <td>1</td>\n",
       "      <td>0.0</td>\n",
       "    </tr>\n",
       "  </tbody>\n",
       "</table>\n",
       "</div>"
      ],
      "text/plain": [
       "             Total  Mon  Tue  Wed  Thu  Fri  Sat  Sun  holiday\n",
       "Date                                                          \n",
       "2012-10-03  3521.0    0    0    1    0    0    0    0      0.0\n",
       "2012-10-04  3475.0    0    0    0    1    0    0    0      0.0\n",
       "2012-10-05  3148.0    0    0    0    0    1    0    0      0.0\n",
       "2012-10-06  2006.0    0    0    0    0    0    1    0      0.0\n",
       "2012-10-07  2142.0    0    0    0    0    0    0    1      0.0"
      ]
     },
     "execution_count": 17,
     "metadata": {},
     "output_type": "execute_result"
    }
   ],
   "source": [
    "daily['holiday'].fillna(0, inplace=True)\n",
    "daily.head()"
   ]
  },
  {
   "cell_type": "markdown",
   "metadata": {
    "id": "35rfBWnA-zOe"
   },
   "source": [
    "### 3. Tageslichtstunden\n",
    "Auch die Information, wie lang die einzelnen Tage sind (Tageslichtstunden), ist in den Daten noch nicht vorhanden. Diese kann aber aus dem Datum und der geographischen Lage *berechnet* werden. In der unten stehenden Funktion ``hours_of_daylight`` ist die astronomische Standardberechnung implementiert. Nutzen Sie diese, um dem DataFrame ``daily`` eine weitere Spalte ``daylight_hrs`` hinzuzufügen, welche diese Information enthält. Stellen Sie diese neue Spalte graphisch dar, indem Sie ``daily['daylight_hrs'].plot()`` verwenden.\n",
    "\n",
    "*Hinweis:* Mit dem Befehl ``map(hours_of_daylight, Daten)`` können Sie die Funktion ``hours_of_daylight`` auf Daten anwenden, die Funktion ``list(...)`` macht daraus eine Liste."
   ]
  },
  {
   "cell_type": "code",
   "execution_count": 18,
   "metadata": {
    "id": "uSEs4qy5-zOh"
   },
   "outputs": [],
   "source": [
    "from datetime import datetime\n",
    "\n",
    "def hours_of_daylight(date, axis=23.44, latitude=47.61):\n",
    "    \"\"\"Compute the hours of daylight for the given date\"\"\"\n",
    "    days = (date - datetime(2000, 12, 21)).days\n",
    "    m = (1. - np.tan(np.radians(latitude))\n",
    "         * np.tan(np.radians(axis) * np.cos(days * 2 * np.pi / 365.25)))\n",
    "    return 24. * np.degrees(np.arccos(1 - np.clip(m, 0, 2))) / 180."
   ]
  },
  {
   "cell_type": "code",
   "execution_count": 19,
   "metadata": {
    "colab": {
     "base_uri": "https://localhost:8080/",
     "height": 285
    },
    "executionInfo": {
     "elapsed": 232618,
     "status": "ok",
     "timestamp": 1605876201943,
     "user": {
      "displayName": "Christian Moeller",
      "photoUrl": "",
      "userId": "02505173711259660088"
     },
     "user_tz": -60
    },
    "id": "Lj5UNTJz-zOo",
    "outputId": "e2959501-0ffa-4318-ad28-4873160718f7"
   },
   "outputs": [
    {
     "data": {
      "image/png": "[encoded data removed]",
      "text/plain": [
       "<Figure size 432x288 with 1 Axes>"
      ]
     },
     "metadata": {},
     "output_type": "display_data"
    }
   ],
   "source": [
    "daily['daylight_hrs'] = list(map(hours_of_daylight, daily.index))\n",
    "daily['daylight_hrs'].plot();"
   ]
  },
  {
   "cell_type": "markdown",
   "metadata": {
    "id": "06qonyus-zOv"
   },
   "source": [
    "### 4. Temperatur / 5. Niederschlag\n",
    "Diese Informationen sind ganz offensichtlich nicht in den Daten vorhanden und können daraus auch nicht berechnet werden. Wir müssen daher eine zweite Datenquelle verwenden. Wir verwenden die Wetterdaten der [NOAA](https://www.ncdc.noaa.gov/cdo-web/search?datasetid=GHCND). Damit Sie die Daten dort nicht einzeln bestellen müssen, stelle ich diese bei Moodle bereit. Importen Sie diese. \n",
    "\n",
    "*Hinweis:* Da wir die täglichen Wetterdaten unserer ``daily`` Tabelle hinzufügen wollen, wäre es wohl sinnvoll, wenn die Datumsinformationen aus der csv-Datei direkt aufbereitet würden (eben als Datum) und nicht als String (also als inhaltsleerer Text) vorliegen würden. ``pd.read_csv`` hat entsprechende Optionen.\n",
    "\n",
    "*Hinweis:* Gehen Sie analog zum Einlesen der Datei *FremontBridge.csv*, siehe oben, vor."
   ]
  },
  {
   "cell_type": "code",
   "execution_count": 20,
   "metadata": {
    "id": "0_C-3zkI-zOx"
   },
   "outputs": [],
   "source": [
    "weather = pd.read_csv('./data/BicycleWeather2021.csv', index_col='DATE', parse_dates=True)"
   ]
  },
  {
   "cell_type": "code",
   "execution_count": 21,
   "metadata": {
    "colab": {
     "base_uri": "https://localhost:8080/",
     "height": 504
    },
    "executionInfo": {
     "elapsed": 232609,
     "status": "ok",
     "timestamp": 1605876201944,
     "user": {
      "displayName": "Christian Moeller",
      "photoUrl": "",
      "userId": "02505173711259660088"
     },
     "user_tz": -60
    },
    "id": "rKhhkCIH-zO4",
    "outputId": "a7f56bd1-8e82-408c-aeb5-49b788d61107"
   },
   "outputs": [
    {
     "data": {
      "text/html": [
       "<div>\n",
       "<style scoped>\n",
       "    .dataframe tbody tr th:only-of-type {\n",
       "        vertical-align: middle;\n",
       "    }\n",
       "\n",
       "    .dataframe tbody tr th {\n",
       "        vertical-align: top;\n",
       "    }\n",
       "\n",
       "    .dataframe thead th {\n",
       "        text-align: right;\n",
       "    }\n",
       "</style>\n",
       "<table border=\"1\" class=\"dataframe\">\n",
       "  <thead>\n",
       "    <tr style=\"text-align: right;\">\n",
       "      <th></th>\n",
       "      <th>STATION</th>\n",
       "      <th>NAME</th>\n",
       "      <th>AWND</th>\n",
       "      <th>PGTM</th>\n",
       "      <th>PRCP</th>\n",
       "      <th>SNOW</th>\n",
       "      <th>SNWD</th>\n",
       "      <th>TAVG</th>\n",
       "      <th>TMAX</th>\n",
       "      <th>TMIN</th>\n",
       "      <th>...</th>\n",
       "      <th>WT03</th>\n",
       "      <th>WT04</th>\n",
       "      <th>WT05</th>\n",
       "      <th>WT08</th>\n",
       "      <th>WT09</th>\n",
       "      <th>WT13</th>\n",
       "      <th>WT14</th>\n",
       "      <th>WT16</th>\n",
       "      <th>WT18</th>\n",
       "      <th>WT22</th>\n",
       "    </tr>\n",
       "    <tr>\n",
       "      <th>DATE</th>\n",
       "      <th></th>\n",
       "      <th></th>\n",
       "      <th></th>\n",
       "      <th></th>\n",
       "      <th></th>\n",
       "      <th></th>\n",
       "      <th></th>\n",
       "      <th></th>\n",
       "      <th></th>\n",
       "      <th></th>\n",
       "      <th></th>\n",
       "      <th></th>\n",
       "      <th></th>\n",
       "      <th></th>\n",
       "      <th></th>\n",
       "      <th></th>\n",
       "      <th></th>\n",
       "      <th></th>\n",
       "      <th></th>\n",
       "      <th></th>\n",
       "      <th></th>\n",
       "    </tr>\n",
       "  </thead>\n",
       "  <tbody>\n",
       "    <tr>\n",
       "      <th>2012-10-01</th>\n",
       "      <td>USW00024233</td>\n",
       "      <td>SEATTLE TACOMA AIRPORT, WA US</td>\n",
       "      <td>3.0</td>\n",
       "      <td>NaN</td>\n",
       "      <td>0.0</td>\n",
       "      <td>0.0</td>\n",
       "      <td>0.0</td>\n",
       "      <td>NaN</td>\n",
       "      <td>23.3</td>\n",
       "      <td>8.9</td>\n",
       "      <td>...</td>\n",
       "      <td>NaN</td>\n",
       "      <td>NaN</td>\n",
       "      <td>NaN</td>\n",
       "      <td>NaN</td>\n",
       "      <td>NaN</td>\n",
       "      <td>NaN</td>\n",
       "      <td>NaN</td>\n",
       "      <td>NaN</td>\n",
       "      <td>NaN</td>\n",
       "      <td>NaN</td>\n",
       "    </tr>\n",
       "    <tr>\n",
       "      <th>2012-10-02</th>\n",
       "      <td>USW00024233</td>\n",
       "      <td>SEATTLE TACOMA AIRPORT, WA US</td>\n",
       "      <td>4.1</td>\n",
       "      <td>NaN</td>\n",
       "      <td>0.0</td>\n",
       "      <td>0.0</td>\n",
       "      <td>0.0</td>\n",
       "      <td>NaN</td>\n",
       "      <td>17.8</td>\n",
       "      <td>10.0</td>\n",
       "      <td>...</td>\n",
       "      <td>NaN</td>\n",
       "      <td>NaN</td>\n",
       "      <td>NaN</td>\n",
       "      <td>NaN</td>\n",
       "      <td>NaN</td>\n",
       "      <td>NaN</td>\n",
       "      <td>NaN</td>\n",
       "      <td>NaN</td>\n",
       "      <td>NaN</td>\n",
       "      <td>NaN</td>\n",
       "    </tr>\n",
       "    <tr>\n",
       "      <th>2012-10-03</th>\n",
       "      <td>USW00024233</td>\n",
       "      <td>SEATTLE TACOMA AIRPORT, WA US</td>\n",
       "      <td>7.3</td>\n",
       "      <td>NaN</td>\n",
       "      <td>0.0</td>\n",
       "      <td>0.0</td>\n",
       "      <td>0.0</td>\n",
       "      <td>NaN</td>\n",
       "      <td>18.9</td>\n",
       "      <td>7.8</td>\n",
       "      <td>...</td>\n",
       "      <td>NaN</td>\n",
       "      <td>NaN</td>\n",
       "      <td>NaN</td>\n",
       "      <td>NaN</td>\n",
       "      <td>NaN</td>\n",
       "      <td>NaN</td>\n",
       "      <td>NaN</td>\n",
       "      <td>NaN</td>\n",
       "      <td>NaN</td>\n",
       "      <td>NaN</td>\n",
       "    </tr>\n",
       "    <tr>\n",
       "      <th>2012-10-04</th>\n",
       "      <td>USW00024233</td>\n",
       "      <td>SEATTLE TACOMA AIRPORT, WA US</td>\n",
       "      <td>6.5</td>\n",
       "      <td>NaN</td>\n",
       "      <td>0.0</td>\n",
       "      <td>0.0</td>\n",
       "      <td>0.0</td>\n",
       "      <td>NaN</td>\n",
       "      <td>18.9</td>\n",
       "      <td>8.3</td>\n",
       "      <td>...</td>\n",
       "      <td>NaN</td>\n",
       "      <td>NaN</td>\n",
       "      <td>NaN</td>\n",
       "      <td>NaN</td>\n",
       "      <td>NaN</td>\n",
       "      <td>NaN</td>\n",
       "      <td>NaN</td>\n",
       "      <td>NaN</td>\n",
       "      <td>NaN</td>\n",
       "      <td>NaN</td>\n",
       "    </tr>\n",
       "    <tr>\n",
       "      <th>2012-10-05</th>\n",
       "      <td>USW00024233</td>\n",
       "      <td>SEATTLE TACOMA AIRPORT, WA US</td>\n",
       "      <td>5.7</td>\n",
       "      <td>NaN</td>\n",
       "      <td>0.0</td>\n",
       "      <td>0.0</td>\n",
       "      <td>0.0</td>\n",
       "      <td>NaN</td>\n",
       "      <td>21.7</td>\n",
       "      <td>8.9</td>\n",
       "      <td>...</td>\n",
       "      <td>NaN</td>\n",
       "      <td>NaN</td>\n",
       "      <td>NaN</td>\n",
       "      <td>NaN</td>\n",
       "      <td>NaN</td>\n",
       "      <td>NaN</td>\n",
       "      <td>NaN</td>\n",
       "      <td>NaN</td>\n",
       "      <td>NaN</td>\n",
       "      <td>NaN</td>\n",
       "    </tr>\n",
       "  </tbody>\n",
       "</table>\n",
       "<p>5 rows × 26 columns</p>\n",
       "</div>"
      ],
      "text/plain": [
       "                STATION                           NAME  AWND  PGTM  PRCP  \\\n",
       "DATE                                                                       \n",
       "2012-10-01  USW00024233  SEATTLE TACOMA AIRPORT, WA US   3.0   NaN   0.0   \n",
       "2012-10-02  USW00024233  SEATTLE TACOMA AIRPORT, WA US   4.1   NaN   0.0   \n",
       "2012-10-03  USW00024233  SEATTLE TACOMA AIRPORT, WA US   7.3   NaN   0.0   \n",
       "2012-10-04  USW00024233  SEATTLE TACOMA AIRPORT, WA US   6.5   NaN   0.0   \n",
       "2012-10-05  USW00024233  SEATTLE TACOMA AIRPORT, WA US   5.7   NaN   0.0   \n",
       "\n",
       "            SNOW  SNWD  TAVG  TMAX  TMIN  ...  WT03  WT04  WT05  WT08  WT09  \\\n",
       "DATE                                      ...                                 \n",
       "2012-10-01   0.0   0.0   NaN  23.3   8.9  ...   NaN   NaN   NaN   NaN   NaN   \n",
       "2012-10-02   0.0   0.0   NaN  17.8  10.0  ...   NaN   NaN   NaN   NaN   NaN   \n",
       "2012-10-03   0.0   0.0   NaN  18.9   7.8  ...   NaN   NaN   NaN   NaN   NaN   \n",
       "2012-10-04   0.0   0.0   NaN  18.9   8.3  ...   NaN   NaN   NaN   NaN   NaN   \n",
       "2012-10-05   0.0   0.0   NaN  21.7   8.9  ...   NaN   NaN   NaN   NaN   NaN   \n",
       "\n",
       "            WT13  WT14  WT16  WT18  WT22  \n",
       "DATE                                      \n",
       "2012-10-01   NaN   NaN   NaN   NaN   NaN  \n",
       "2012-10-02   NaN   NaN   NaN   NaN   NaN  \n",
       "2012-10-03   NaN   NaN   NaN   NaN   NaN  \n",
       "2012-10-04   NaN   NaN   NaN   NaN   NaN  \n",
       "2012-10-05   NaN   NaN   NaN   NaN   NaN  \n",
       "\n",
       "[5 rows x 26 columns]"
      ]
     },
     "execution_count": 21,
     "metadata": {},
     "output_type": "execute_result"
    }
   ],
   "source": [
    "weather.head()"
   ]
  },
  {
   "cell_type": "markdown",
   "metadata": {
    "id": "fkuguaXc-zPA"
   },
   "source": [
    "Bei der Durchschittstemperatur gibt es einige fehlende Daten (wie könnte man das herausfinden?). Legen Sie eine neue Spalte ``weather['Temp (C)']`` an, welche falls vorhanden die Durchschnittstemperatur ``TAVG`` und ansonsten als Näherung hierfür den Mittelwert aus ``TMIN`` und ``TMAX``.\n",
    "\n",
    "*Hinweis:* Mit ``weather.loc[Zeilen, Spalten]`` kann man (auch schreibend) auf die durch Zeilen und Spalten spezifizierten Einträge zugreifen. ``weather['Temp (C)'].isnull()`` kann für die Zeilenwahl hilfreich sein."
   ]
  },
  {
   "cell_type": "code",
   "execution_count": 22,
   "metadata": {
    "id": "xIcu1F4o-zPI"
   },
   "outputs": [],
   "source": [
    "weather['Temp (C)'] = weather['TAVG']"
   ]
  },
  {
   "cell_type": "code",
   "execution_count": 23,
   "metadata": {
    "id": "fSDXEsXe-zPS"
   },
   "outputs": [],
   "source": [
    "weather.loc[weather['Temp (C)'].isnull(),'Temp (C)'] = 0.5*(weather['TMAX'] + weather['TMIN'])"
   ]
  },
  {
   "cell_type": "code",
   "execution_count": 24,
   "metadata": {
    "colab": {
     "base_uri": "https://localhost:8080/",
     "height": 521
    },
    "executionInfo": {
     "elapsed": 233033,
     "status": "ok",
     "timestamp": 1605876202387,
     "user": {
      "displayName": "Christian Moeller",
      "photoUrl": "",
      "userId": "02505173711259660088"
     },
     "user_tz": -60
    },
    "id": "YeF6ERye-zPX",
    "outputId": "b05a24a1-ee4a-4bf7-aaa9-5de431fe4066"
   },
   "outputs": [
    {
     "data": {
      "text/html": [
       "<div>\n",
       "<style scoped>\n",
       "    .dataframe tbody tr th:only-of-type {\n",
       "        vertical-align: middle;\n",
       "    }\n",
       "\n",
       "    .dataframe tbody tr th {\n",
       "        vertical-align: top;\n",
       "    }\n",
       "\n",
       "    .dataframe thead th {\n",
       "        text-align: right;\n",
       "    }\n",
       "</style>\n",
       "<table border=\"1\" class=\"dataframe\">\n",
       "  <thead>\n",
       "    <tr style=\"text-align: right;\">\n",
       "      <th></th>\n",
       "      <th>STATION</th>\n",
       "      <th>NAME</th>\n",
       "      <th>AWND</th>\n",
       "      <th>PGTM</th>\n",
       "      <th>PRCP</th>\n",
       "      <th>SNOW</th>\n",
       "      <th>SNWD</th>\n",
       "      <th>TAVG</th>\n",
       "      <th>TMAX</th>\n",
       "      <th>TMIN</th>\n",
       "      <th>...</th>\n",
       "      <th>WT04</th>\n",
       "      <th>WT05</th>\n",
       "      <th>WT08</th>\n",
       "      <th>WT09</th>\n",
       "      <th>WT13</th>\n",
       "      <th>WT14</th>\n",
       "      <th>WT16</th>\n",
       "      <th>WT18</th>\n",
       "      <th>WT22</th>\n",
       "      <th>Temp (C)</th>\n",
       "    </tr>\n",
       "    <tr>\n",
       "      <th>DATE</th>\n",
       "      <th></th>\n",
       "      <th></th>\n",
       "      <th></th>\n",
       "      <th></th>\n",
       "      <th></th>\n",
       "      <th></th>\n",
       "      <th></th>\n",
       "      <th></th>\n",
       "      <th></th>\n",
       "      <th></th>\n",
       "      <th></th>\n",
       "      <th></th>\n",
       "      <th></th>\n",
       "      <th></th>\n",
       "      <th></th>\n",
       "      <th></th>\n",
       "      <th></th>\n",
       "      <th></th>\n",
       "      <th></th>\n",
       "      <th></th>\n",
       "      <th></th>\n",
       "    </tr>\n",
       "  </thead>\n",
       "  <tbody>\n",
       "    <tr>\n",
       "      <th>2012-10-01</th>\n",
       "      <td>USW00024233</td>\n",
       "      <td>SEATTLE TACOMA AIRPORT, WA US</td>\n",
       "      <td>3.0</td>\n",
       "      <td>NaN</td>\n",
       "      <td>0.0</td>\n",
       "      <td>0.0</td>\n",
       "      <td>0.0</td>\n",
       "      <td>NaN</td>\n",
       "      <td>23.3</td>\n",
       "      <td>8.9</td>\n",
       "      <td>...</td>\n",
       "      <td>NaN</td>\n",
       "      <td>NaN</td>\n",
       "      <td>NaN</td>\n",
       "      <td>NaN</td>\n",
       "      <td>NaN</td>\n",
       "      <td>NaN</td>\n",
       "      <td>NaN</td>\n",
       "      <td>NaN</td>\n",
       "      <td>NaN</td>\n",
       "      <td>16.10</td>\n",
       "    </tr>\n",
       "    <tr>\n",
       "      <th>2012-10-02</th>\n",
       "      <td>USW00024233</td>\n",
       "      <td>SEATTLE TACOMA AIRPORT, WA US</td>\n",
       "      <td>4.1</td>\n",
       "      <td>NaN</td>\n",
       "      <td>0.0</td>\n",
       "      <td>0.0</td>\n",
       "      <td>0.0</td>\n",
       "      <td>NaN</td>\n",
       "      <td>17.8</td>\n",
       "      <td>10.0</td>\n",
       "      <td>...</td>\n",
       "      <td>NaN</td>\n",
       "      <td>NaN</td>\n",
       "      <td>NaN</td>\n",
       "      <td>NaN</td>\n",
       "      <td>NaN</td>\n",
       "      <td>NaN</td>\n",
       "      <td>NaN</td>\n",
       "      <td>NaN</td>\n",
       "      <td>NaN</td>\n",
       "      <td>13.90</td>\n",
       "    </tr>\n",
       "    <tr>\n",
       "      <th>2012-10-03</th>\n",
       "      <td>USW00024233</td>\n",
       "      <td>SEATTLE TACOMA AIRPORT, WA US</td>\n",
       "      <td>7.3</td>\n",
       "      <td>NaN</td>\n",
       "      <td>0.0</td>\n",
       "      <td>0.0</td>\n",
       "      <td>0.0</td>\n",
       "      <td>NaN</td>\n",
       "      <td>18.9</td>\n",
       "      <td>7.8</td>\n",
       "      <td>...</td>\n",
       "      <td>NaN</td>\n",
       "      <td>NaN</td>\n",
       "      <td>NaN</td>\n",
       "      <td>NaN</td>\n",
       "      <td>NaN</td>\n",
       "      <td>NaN</td>\n",
       "      <td>NaN</td>\n",
       "      <td>NaN</td>\n",
       "      <td>NaN</td>\n",
       "      <td>13.35</td>\n",
       "    </tr>\n",
       "    <tr>\n",
       "      <th>2012-10-04</th>\n",
       "      <td>USW00024233</td>\n",
       "      <td>SEATTLE TACOMA AIRPORT, WA US</td>\n",
       "      <td>6.5</td>\n",
       "      <td>NaN</td>\n",
       "      <td>0.0</td>\n",
       "      <td>0.0</td>\n",
       "      <td>0.0</td>\n",
       "      <td>NaN</td>\n",
       "      <td>18.9</td>\n",
       "      <td>8.3</td>\n",
       "      <td>...</td>\n",
       "      <td>NaN</td>\n",
       "      <td>NaN</td>\n",
       "      <td>NaN</td>\n",
       "      <td>NaN</td>\n",
       "      <td>NaN</td>\n",
       "      <td>NaN</td>\n",
       "      <td>NaN</td>\n",
       "      <td>NaN</td>\n",
       "      <td>NaN</td>\n",
       "      <td>13.60</td>\n",
       "    </tr>\n",
       "    <tr>\n",
       "      <th>2012-10-05</th>\n",
       "      <td>USW00024233</td>\n",
       "      <td>SEATTLE TACOMA AIRPORT, WA US</td>\n",
       "      <td>5.7</td>\n",
       "      <td>NaN</td>\n",
       "      <td>0.0</td>\n",
       "      <td>0.0</td>\n",
       "      <td>0.0</td>\n",
       "      <td>NaN</td>\n",
       "      <td>21.7</td>\n",
       "      <td>8.9</td>\n",
       "      <td>...</td>\n",
       "      <td>NaN</td>\n",
       "      <td>NaN</td>\n",
       "      <td>NaN</td>\n",
       "      <td>NaN</td>\n",
       "      <td>NaN</td>\n",
       "      <td>NaN</td>\n",
       "      <td>NaN</td>\n",
       "      <td>NaN</td>\n",
       "      <td>NaN</td>\n",
       "      <td>15.30</td>\n",
       "    </tr>\n",
       "  </tbody>\n",
       "</table>\n",
       "<p>5 rows × 27 columns</p>\n",
       "</div>"
      ],
      "text/plain": [
       "                STATION                           NAME  AWND  PGTM  PRCP  \\\n",
       "DATE                                                                       \n",
       "2012-10-01  USW00024233  SEATTLE TACOMA AIRPORT, WA US   3.0   NaN   0.0   \n",
       "2012-10-02  USW00024233  SEATTLE TACOMA AIRPORT, WA US   4.1   NaN   0.0   \n",
       "2012-10-03  USW00024233  SEATTLE TACOMA AIRPORT, WA US   7.3   NaN   0.0   \n",
       "2012-10-04  USW00024233  SEATTLE TACOMA AIRPORT, WA US   6.5   NaN   0.0   \n",
       "2012-10-05  USW00024233  SEATTLE TACOMA AIRPORT, WA US   5.7   NaN   0.0   \n",
       "\n",
       "            SNOW  SNWD  TAVG  TMAX  TMIN  ...  WT04  WT05  WT08  WT09  WT13  \\\n",
       "DATE                                      ...                                 \n",
       "2012-10-01   0.0   0.0   NaN  23.3   8.9  ...   NaN   NaN   NaN   NaN   NaN   \n",
       "2012-10-02   0.0   0.0   NaN  17.8  10.0  ...   NaN   NaN   NaN   NaN   NaN   \n",
       "2012-10-03   0.0   0.0   NaN  18.9   7.8  ...   NaN   NaN   NaN   NaN   NaN   \n",
       "2012-10-04   0.0   0.0   NaN  18.9   8.3  ...   NaN   NaN   NaN   NaN   NaN   \n",
       "2012-10-05   0.0   0.0   NaN  21.7   8.9  ...   NaN   NaN   NaN   NaN   NaN   \n",
       "\n",
       "            WT14  WT16  WT18  WT22  Temp (C)  \n",
       "DATE                                          \n",
       "2012-10-01   NaN   NaN   NaN   NaN     16.10  \n",
       "2012-10-02   NaN   NaN   NaN   NaN     13.90  \n",
       "2012-10-03   NaN   NaN   NaN   NaN     13.35  \n",
       "2012-10-04   NaN   NaN   NaN   NaN     13.60  \n",
       "2012-10-05   NaN   NaN   NaN   NaN     15.30  \n",
       "\n",
       "[5 rows x 27 columns]"
      ]
     },
     "execution_count": 24,
     "metadata": {},
     "output_type": "execute_result"
    }
   ],
   "source": [
    "weather.head()"
   ]
  },
  {
   "cell_type": "markdown",
   "metadata": {
    "id": "dkbcLTtu-zPg"
   },
   "source": [
    "Was den Niederschlag angeht, so wäre es evtl. auch relevant explizit zu wissen, ob es an einem Tag regnet (also ``PRCP!=0``) oder eben nicht (also ``PRCP==0``). Legen Sie hierfür eine neue Spalte ``weather[dry day]`` an, die an trockenen Tagen 1 enthält und sonst 0.\n",
    "\n",
    "*Hinweis:* Ein Vergleich wie ``PRCP==0`` liefert einen Wahrheitswert, d.h. ``True`` oder ``False`` zurück. Damit kann unser Modell aber nicht rechnen. Ein nachgestelltes ``.astype(int)`` sorgt dafür, dass ``True`` als 1 und ``False`` als 0 angegeben wird."
   ]
  },
  {
   "cell_type": "code",
   "execution_count": 25,
   "metadata": {
    "id": "Av_X9Mu4-zPi"
   },
   "outputs": [],
   "source": [
    "weather['dry day'] = (weather['PRCP'] == 0).astype(int)"
   ]
  },
  {
   "cell_type": "markdown",
   "metadata": {
    "id": "YLJif74c-zPn"
   },
   "source": [
    "Diese Wetterdaten (also ``'PRCP', 'Temp (C)', 'dry day'``) sollen nun den ``daily`` Daten hinzugefügt werden. Hierfür gibt es die Methode ``join``: Durch den Befehl ``df1.join(df2)`` wird ein neuer DataFrame erstellt, welcher die Daten aus ``df1`` und die Daten aus ``df2`` zusammengefügt enthält. Dabei sollten die Indices der beiden DataFrames übereinstimmen."
   ]
  },
  {
   "cell_type": "code",
   "execution_count": 26,
   "metadata": {
    "id": "vrT3pVZm-zPo"
   },
   "outputs": [],
   "source": [
    "daily = daily.join(weather[['PRCP', 'Temp (C)', 'dry day']])"
   ]
  },
  {
   "cell_type": "markdown",
   "metadata": {
    "id": "ouidwPYf-zPr"
   },
   "source": [
    "### 6. Trend von Jahr zu Jahr\n",
    "Um einen etwa vorhandenen langfristigen Trend ggf. mit aufnehmen zu können, soll eine weiteres Feature angeben, wie viele Tage seit Beginn der Messung vergangen sind. Damit haben wir eine monoton steigende Größe.\n",
    "\n",
    "Legen Sie ein Feature ``annual`` an, das die beschriebene Größe skaliert mit 1/365 angibt. D.h. ``annual`` soll nach einem Jahr den Wert 1, nach zwei Jahren den Wert 2  usw. haben.\n",
    "\n",
    "*Hinweis:* Das Datum ist im Index gespeichert, auf den mit ``daily.index`` zugegriffen werden kann. ``daily.index[0]`` gibt das erste Datum als ``Timestamp`` zurück. Mit solchen Timestamps kann ganz einfach gerechnet werden, so gibt etwa die Differenz zweier Timestamps den dazwischen liegenden Zeitraum an (als ``Timedelta``-Objekt, mit ``.days`` extrahiert man daraus die Tage)."
   ]
  },
  {
   "cell_type": "code",
   "execution_count": 27,
   "metadata": {
    "id": "D-Vs7_5B-zPs"
   },
   "outputs": [],
   "source": [
    "daily['annual'] = (daily.index - daily.index[0]).days / 365."
   ]
  },
  {
   "cell_type": "code",
   "execution_count": 28,
   "metadata": {
    "colab": {
     "base_uri": "https://localhost:8080/",
     "height": 230
    },
    "executionInfo": {
     "elapsed": 233010,
     "status": "ok",
     "timestamp": 1605876202388,
     "user": {
      "displayName": "Christian Moeller",
      "photoUrl": "",
      "userId": "02505173711259660088"
     },
     "user_tz": -60
    },
    "id": "A7I-Lnqd-zPu",
    "outputId": "7f30676f-8900-4a1f-f2be-89c0861f0595"
   },
   "outputs": [
    {
     "data": {
      "text/html": [
       "<div>\n",
       "<style scoped>\n",
       "    .dataframe tbody tr th:only-of-type {\n",
       "        vertical-align: middle;\n",
       "    }\n",
       "\n",
       "    .dataframe tbody tr th {\n",
       "        vertical-align: top;\n",
       "    }\n",
       "\n",
       "    .dataframe thead th {\n",
       "        text-align: right;\n",
       "    }\n",
       "</style>\n",
       "<table border=\"1\" class=\"dataframe\">\n",
       "  <thead>\n",
       "    <tr style=\"text-align: right;\">\n",
       "      <th></th>\n",
       "      <th>Total</th>\n",
       "      <th>Mon</th>\n",
       "      <th>Tue</th>\n",
       "      <th>Wed</th>\n",
       "      <th>Thu</th>\n",
       "      <th>Fri</th>\n",
       "      <th>Sat</th>\n",
       "      <th>Sun</th>\n",
       "      <th>holiday</th>\n",
       "      <th>daylight_hrs</th>\n",
       "      <th>PRCP</th>\n",
       "      <th>Temp (C)</th>\n",
       "      <th>dry day</th>\n",
       "      <th>annual</th>\n",
       "    </tr>\n",
       "    <tr>\n",
       "      <th>Date</th>\n",
       "      <th></th>\n",
       "      <th></th>\n",
       "      <th></th>\n",
       "      <th></th>\n",
       "      <th></th>\n",
       "      <th></th>\n",
       "      <th></th>\n",
       "      <th></th>\n",
       "      <th></th>\n",
       "      <th></th>\n",
       "      <th></th>\n",
       "      <th></th>\n",
       "      <th></th>\n",
       "      <th></th>\n",
       "    </tr>\n",
       "  </thead>\n",
       "  <tbody>\n",
       "    <tr>\n",
       "      <th>2012-10-03</th>\n",
       "      <td>3521.0</td>\n",
       "      <td>0</td>\n",
       "      <td>0</td>\n",
       "      <td>1</td>\n",
       "      <td>0</td>\n",
       "      <td>0</td>\n",
       "      <td>0</td>\n",
       "      <td>0</td>\n",
       "      <td>0.0</td>\n",
       "      <td>11.277359</td>\n",
       "      <td>0.0</td>\n",
       "      <td>13.35</td>\n",
       "      <td>1</td>\n",
       "      <td>0.000000</td>\n",
       "    </tr>\n",
       "    <tr>\n",
       "      <th>2012-10-04</th>\n",
       "      <td>3475.0</td>\n",
       "      <td>0</td>\n",
       "      <td>0</td>\n",
       "      <td>0</td>\n",
       "      <td>1</td>\n",
       "      <td>0</td>\n",
       "      <td>0</td>\n",
       "      <td>0</td>\n",
       "      <td>0.0</td>\n",
       "      <td>11.219142</td>\n",
       "      <td>0.0</td>\n",
       "      <td>13.60</td>\n",
       "      <td>1</td>\n",
       "      <td>0.002740</td>\n",
       "    </tr>\n",
       "    <tr>\n",
       "      <th>2012-10-05</th>\n",
       "      <td>3148.0</td>\n",
       "      <td>0</td>\n",
       "      <td>0</td>\n",
       "      <td>0</td>\n",
       "      <td>0</td>\n",
       "      <td>1</td>\n",
       "      <td>0</td>\n",
       "      <td>0</td>\n",
       "      <td>0.0</td>\n",
       "      <td>11.161038</td>\n",
       "      <td>0.0</td>\n",
       "      <td>15.30</td>\n",
       "      <td>1</td>\n",
       "      <td>0.005479</td>\n",
       "    </tr>\n",
       "    <tr>\n",
       "      <th>2012-10-06</th>\n",
       "      <td>2006.0</td>\n",
       "      <td>0</td>\n",
       "      <td>0</td>\n",
       "      <td>0</td>\n",
       "      <td>0</td>\n",
       "      <td>0</td>\n",
       "      <td>1</td>\n",
       "      <td>0</td>\n",
       "      <td>0.0</td>\n",
       "      <td>11.103056</td>\n",
       "      <td>0.0</td>\n",
       "      <td>15.85</td>\n",
       "      <td>1</td>\n",
       "      <td>0.008219</td>\n",
       "    </tr>\n",
       "    <tr>\n",
       "      <th>2012-10-07</th>\n",
       "      <td>2142.0</td>\n",
       "      <td>0</td>\n",
       "      <td>0</td>\n",
       "      <td>0</td>\n",
       "      <td>0</td>\n",
       "      <td>0</td>\n",
       "      <td>0</td>\n",
       "      <td>1</td>\n",
       "      <td>0.0</td>\n",
       "      <td>11.045208</td>\n",
       "      <td>0.0</td>\n",
       "      <td>15.85</td>\n",
       "      <td>1</td>\n",
       "      <td>0.010959</td>\n",
       "    </tr>\n",
       "  </tbody>\n",
       "</table>\n",
       "</div>"
      ],
      "text/plain": [
       "             Total  Mon  Tue  Wed  Thu  Fri  Sat  Sun  holiday  daylight_hrs  \\\n",
       "Date                                                                           \n",
       "2012-10-03  3521.0    0    0    1    0    0    0    0      0.0     11.277359   \n",
       "2012-10-04  3475.0    0    0    0    1    0    0    0      0.0     11.219142   \n",
       "2012-10-05  3148.0    0    0    0    0    1    0    0      0.0     11.161038   \n",
       "2012-10-06  2006.0    0    0    0    0    0    1    0      0.0     11.103056   \n",
       "2012-10-07  2142.0    0    0    0    0    0    0    1      0.0     11.045208   \n",
       "\n",
       "            PRCP  Temp (C)  dry day    annual  \n",
       "Date                                           \n",
       "2012-10-03   0.0     13.35        1  0.000000  \n",
       "2012-10-04   0.0     13.60        1  0.002740  \n",
       "2012-10-05   0.0     15.30        1  0.005479  \n",
       "2012-10-06   0.0     15.85        1  0.008219  \n",
       "2012-10-07   0.0     15.85        1  0.010959  "
      ]
     },
     "execution_count": 28,
     "metadata": {},
     "output_type": "execute_result"
    }
   ],
   "source": [
    "daily.head()"
   ]
  },
  {
   "cell_type": "markdown",
   "metadata": {
    "id": "t1txR7BmFhl4"
   },
   "source": [
    "### 7. Pandemie"
   ]
  },
  {
   "cell_type": "code",
   "execution_count": 29,
   "metadata": {
    "id": "09-t4ztxFkPe"
   },
   "outputs": [],
   "source": [
    "daily['pandemic'] = (daily.index > '2020-03-01').astype(int)"
   ]
  },
  {
   "cell_type": "code",
   "execution_count": 30,
   "metadata": {
    "colab": {
     "base_uri": "https://localhost:8080/",
     "height": 331
    },
    "executionInfo": {
     "elapsed": 233001,
     "status": "ok",
     "timestamp": 1605876202389,
     "user": {
      "displayName": "Christian Moeller",
      "photoUrl": "",
      "userId": "02505173711259660088"
     },
     "user_tz": -60
    },
    "id": "NUhuVxSHFyKp",
    "outputId": "80767bdb-02f1-4761-c65f-c076e3ce7fd6"
   },
   "outputs": [
    {
     "data": {
      "text/html": [
       "<div>\n",
       "<style scoped>\n",
       "    .dataframe tbody tr th:only-of-type {\n",
       "        vertical-align: middle;\n",
       "    }\n",
       "\n",
       "    .dataframe tbody tr th {\n",
       "        vertical-align: top;\n",
       "    }\n",
       "\n",
       "    .dataframe thead th {\n",
       "        text-align: right;\n",
       "    }\n",
       "</style>\n",
       "<table border=\"1\" class=\"dataframe\">\n",
       "  <thead>\n",
       "    <tr style=\"text-align: right;\">\n",
       "      <th></th>\n",
       "      <th>Total</th>\n",
       "      <th>Mon</th>\n",
       "      <th>Tue</th>\n",
       "      <th>Wed</th>\n",
       "      <th>Thu</th>\n",
       "      <th>Fri</th>\n",
       "      <th>Sat</th>\n",
       "      <th>Sun</th>\n",
       "      <th>holiday</th>\n",
       "      <th>daylight_hrs</th>\n",
       "      <th>PRCP</th>\n",
       "      <th>Temp (C)</th>\n",
       "      <th>dry day</th>\n",
       "      <th>annual</th>\n",
       "      <th>pandemic</th>\n",
       "    </tr>\n",
       "    <tr>\n",
       "      <th>Date</th>\n",
       "      <th></th>\n",
       "      <th></th>\n",
       "      <th></th>\n",
       "      <th></th>\n",
       "      <th></th>\n",
       "      <th></th>\n",
       "      <th></th>\n",
       "      <th></th>\n",
       "      <th></th>\n",
       "      <th></th>\n",
       "      <th></th>\n",
       "      <th></th>\n",
       "      <th></th>\n",
       "      <th></th>\n",
       "      <th></th>\n",
       "    </tr>\n",
       "  </thead>\n",
       "  <tbody>\n",
       "    <tr>\n",
       "      <th>2021-10-26</th>\n",
       "      <td>1494.0</td>\n",
       "      <td>0</td>\n",
       "      <td>1</td>\n",
       "      <td>0</td>\n",
       "      <td>0</td>\n",
       "      <td>0</td>\n",
       "      <td>0</td>\n",
       "      <td>0</td>\n",
       "      <td>0.0</td>\n",
       "      <td>9.999393</td>\n",
       "      <td>9.7</td>\n",
       "      <td>10.4</td>\n",
       "      <td>0</td>\n",
       "      <td>9.068493</td>\n",
       "      <td>1</td>\n",
       "    </tr>\n",
       "    <tr>\n",
       "      <th>2021-10-27</th>\n",
       "      <td>2029.0</td>\n",
       "      <td>0</td>\n",
       "      <td>0</td>\n",
       "      <td>1</td>\n",
       "      <td>0</td>\n",
       "      <td>0</td>\n",
       "      <td>0</td>\n",
       "      <td>0</td>\n",
       "      <td>0.0</td>\n",
       "      <td>9.946565</td>\n",
       "      <td>3.0</td>\n",
       "      <td>10.2</td>\n",
       "      <td>0</td>\n",
       "      <td>9.071233</td>\n",
       "      <td>1</td>\n",
       "    </tr>\n",
       "    <tr>\n",
       "      <th>2021-10-28</th>\n",
       "      <td>1019.0</td>\n",
       "      <td>0</td>\n",
       "      <td>0</td>\n",
       "      <td>0</td>\n",
       "      <td>1</td>\n",
       "      <td>0</td>\n",
       "      <td>0</td>\n",
       "      <td>0</td>\n",
       "      <td>0.0</td>\n",
       "      <td>9.894138</td>\n",
       "      <td>50.5</td>\n",
       "      <td>11.4</td>\n",
       "      <td>0</td>\n",
       "      <td>9.073973</td>\n",
       "      <td>1</td>\n",
       "    </tr>\n",
       "    <tr>\n",
       "      <th>2021-10-29</th>\n",
       "      <td>1520.0</td>\n",
       "      <td>0</td>\n",
       "      <td>0</td>\n",
       "      <td>0</td>\n",
       "      <td>0</td>\n",
       "      <td>1</td>\n",
       "      <td>0</td>\n",
       "      <td>0</td>\n",
       "      <td>0.0</td>\n",
       "      <td>9.842128</td>\n",
       "      <td>14.5</td>\n",
       "      <td>9.9</td>\n",
       "      <td>0</td>\n",
       "      <td>9.076712</td>\n",
       "      <td>1</td>\n",
       "    </tr>\n",
       "    <tr>\n",
       "      <th>2021-10-30</th>\n",
       "      <td>2107.0</td>\n",
       "      <td>0</td>\n",
       "      <td>0</td>\n",
       "      <td>0</td>\n",
       "      <td>0</td>\n",
       "      <td>0</td>\n",
       "      <td>1</td>\n",
       "      <td>0</td>\n",
       "      <td>0.0</td>\n",
       "      <td>9.790554</td>\n",
       "      <td>0.0</td>\n",
       "      <td>6.9</td>\n",
       "      <td>1</td>\n",
       "      <td>9.079452</td>\n",
       "      <td>1</td>\n",
       "    </tr>\n",
       "  </tbody>\n",
       "</table>\n",
       "</div>"
      ],
      "text/plain": [
       "             Total  Mon  Tue  Wed  Thu  Fri  Sat  Sun  holiday  daylight_hrs  \\\n",
       "Date                                                                           \n",
       "2021-10-26  1494.0    0    1    0    0    0    0    0      0.0      9.999393   \n",
       "2021-10-27  2029.0    0    0    1    0    0    0    0      0.0      9.946565   \n",
       "2021-10-28  1019.0    0    0    0    1    0    0    0      0.0      9.894138   \n",
       "2021-10-29  1520.0    0    0    0    0    1    0    0      0.0      9.842128   \n",
       "2021-10-30  2107.0    0    0    0    0    0    1    0      0.0      9.790554   \n",
       "\n",
       "            PRCP  Temp (C)  dry day    annual  pandemic  \n",
       "Date                                                     \n",
       "2021-10-26   9.7      10.4        0  9.068493         1  \n",
       "2021-10-27   3.0      10.2        0  9.071233         1  \n",
       "2021-10-28  50.5      11.4        0  9.073973         1  \n",
       "2021-10-29  14.5       9.9        0  9.076712         1  \n",
       "2021-10-30   0.0       6.9        1  9.079452         1  "
      ]
     },
     "execution_count": 30,
     "metadata": {},
     "output_type": "execute_result"
    }
   ],
   "source": [
    "daily.tail()"
   ]
  },
  {
   "cell_type": "markdown",
   "metadata": {
    "id": "H_ByaEMK-zPz"
   },
   "source": [
    "Wir prüfen, ob nun noch irgendwo Werte fehlen:"
   ]
  },
  {
   "cell_type": "code",
   "execution_count": 31,
   "metadata": {
    "colab": {
     "base_uri": "https://localhost:8080/"
    },
    "executionInfo": {
     "elapsed": 232995,
     "status": "ok",
     "timestamp": 1605876202389,
     "user": {
      "displayName": "Christian Moeller",
      "photoUrl": "",
      "userId": "02505173711259660088"
     },
     "user_tz": -60
    },
    "id": "SRPEEKVe-zP0",
    "outputId": "a2764f62-f869-4bbd-dac0-da049dc37192"
   },
   "outputs": [
    {
     "data": {
      "text/plain": [
       "Total           0\n",
       "Mon             0\n",
       "Tue             0\n",
       "Wed             0\n",
       "Thu             0\n",
       "Fri             0\n",
       "Sat             0\n",
       "Sun             0\n",
       "holiday         0\n",
       "daylight_hrs    0\n",
       "PRCP            0\n",
       "Temp (C)        0\n",
       "dry day         0\n",
       "annual          0\n",
       "pandemic        0\n",
       "dtype: int64"
      ]
     },
     "execution_count": 31,
     "metadata": {},
     "output_type": "execute_result"
    }
   ],
   "source": [
    "daily.isna().sum()"
   ]
  },
  {
   "cell_type": "markdown",
   "metadata": {
    "id": "6yuIPf04-zP3"
   },
   "source": [
    "## 2. Modell\n",
    "Entnehmen Sie aus ``daily`` die Features Matrix ``X`` und den Labels Vektor ``y``."
   ]
  },
  {
   "cell_type": "code",
   "execution_count": 32,
   "metadata": {
    "id": "FXkBttWM-zP4"
   },
   "outputs": [],
   "source": [
    "column_names = ['Mon', 'Tue', 'Wed', 'Thu', 'Fri', 'Sat', 'Sun', 'holiday',\n",
    "                'daylight_hrs', 'PRCP', 'dry day', 'Temp (C)', 'annual', 'pandemic']\n",
    "X = daily[column_names]\n",
    "y = daily['Total']"
   ]
  },
  {
   "cell_type": "code",
   "execution_count": 33,
   "metadata": {},
   "outputs": [],
   "source": [
    "X.to_csv('processed_data.csv')"
   ]
  },
  {
   "cell_type": "code",
   "execution_count": 34,
   "metadata": {},
   "outputs": [],
   "source": [
    "y.to_csv('total.csv')"
   ]
  },
  {
   "cell_type": "markdown",
   "metadata": {
    "id": "zPtb4BZc-zP6"
   },
   "source": [
    "Trainieren Sie ein ``LinearRegression`` Modell auf die Daten. Setzen Sie den Hyperparameter ``fit_intercept=False``. Plotten Sie die erhaltenen Ergebnisse und vergleichen Sie diese (im Plot) mit den echten Daten.\n",
    "\n",
    "*Hinweis:* Sie können (eine Auswahl) eines DataFrames ``df`` einfach plotten durch ``df[['Item_1', ..., 'Item_N']].plot(alpha=0.5)``. Dabei sorgt ``alpha=0.5`` für einen nicht deckenden Plot, so dass sich ggf. überlagernde Linien sichtbar bleiben."
   ]
  },
  {
   "cell_type": "code",
   "execution_count": 35,
   "metadata": {
    "id": "D_dYtGzh-zP7"
   },
   "outputs": [],
   "source": [
    "from sklearn.linear_model import LinearRegression\n",
    "\n",
    "model = LinearRegression(fit_intercept=False)\n",
    "model.fit(X, y)\n",
    "daily['pred_lin'] = model.predict(X)"
   ]
  },
  {
   "cell_type": "code",
   "execution_count": 36,
   "metadata": {
    "colab": {
     "base_uri": "https://localhost:8080/",
     "height": 285
    },
    "executionInfo": {
     "elapsed": 233612,
     "status": "ok",
     "timestamp": 1605876203017,
     "user": {
      "displayName": "Christian Moeller",
      "photoUrl": "",
      "userId": "02505173711259660088"
     },
     "user_tz": -60
    },
    "id": "s7FHV_0O-zP9",
    "outputId": "d7db9090-8b07-4a5c-ff14-3d87a0e0ab66"
   },
   "outputs": [
    {
     "data": {
      "image/png": "[encoded data removed]",
      "text/plain": [
       "<Figure size 432x288 with 1 Axes>"
      ]
     },
     "metadata": {},
     "output_type": "display_data"
    }
   ],
   "source": [
    "daily[['Total', 'pred_lin']].plot(alpha=0.5);"
   ]
  },
  {
   "cell_type": "markdown",
   "metadata": {
    "id": "664_O1dJ-zQB"
   },
   "source": [
    "Betrachten Sie auch kleinere Zeiträume im Plot (im DataFrame ``df`` können durch ``df.loc['Startdatum':'Enddatum']`` nur die entsprechenden Daten gefiltert werden)."
   ]
  },
  {
   "cell_type": "code",
   "execution_count": 37,
   "metadata": {
    "colab": {
     "base_uri": "https://localhost:8080/",
     "height": 315
    },
    "executionInfo": {
     "elapsed": 234698,
     "status": "ok",
     "timestamp": 1605876204109,
     "user": {
      "displayName": "Christian Moeller",
      "photoUrl": "",
      "userId": "02505173711259660088"
     },
     "user_tz": -60
    },
    "id": "GpHBS6Hp-zQD",
    "outputId": "37bd34ab-dff8-4383-9361-b215be4bfbf9"
   },
   "outputs": [
    {
     "data": {
      "text/plain": [
       "<AxesSubplot:xlabel='Date'>"
      ]
     },
     "execution_count": 37,
     "metadata": {},
     "output_type": "execute_result"
    },
    {
     "data": {
      "image/png": "[encoded data removed]",
      "text/plain": [
       "<Figure size 432x288 with 1 Axes>"
      ]
     },
     "metadata": {},
     "output_type": "display_data"
    }
   ],
   "source": [
    "daily[['Total', 'pred_lin']].loc['2018-01-01':'2018-12-31'].plot(alpha=0.5)"
   ]
  },
  {
   "cell_type": "markdown",
   "metadata": {
    "id": "T471kxAr-zQG"
   },
   "source": [
    "Da wir ein lineares Modell verwendet haben, können wir uns die einzelnen Koeffizienten gut vorstellen; diese geben jeweils an, wie stark das entsprechende Feature in den vorhergesagten Wert eingeht. Die Koeffizienten sind nach dem Training in ``model.coef_`` verfügbar und beziehen sich der Reihe nach auf die Features. Hier eine übersichtliche tabellarische Darstellung:"
   ]
  },
  {
   "cell_type": "code",
   "execution_count": 38,
   "metadata": {
    "colab": {
     "base_uri": "https://localhost:8080/"
    },
    "executionInfo": {
     "elapsed": 234693,
     "status": "ok",
     "timestamp": 1605876204110,
     "user": {
      "displayName": "Christian Moeller",
      "photoUrl": "",
      "userId": "02505173711259660088"
     },
     "user_tz": -60
    },
    "id": "m1G_dO1v-zQH",
    "outputId": "35a1563c-f9d9-4f98-afb7-19d3be5dcd5f"
   },
   "outputs": [
    {
     "data": {
      "text/plain": [
       "Mon              492.573379\n",
       "Tue              601.771633\n",
       "Wed              601.244552\n",
       "Thu              475.072379\n",
       "Fri              183.802809\n",
       "Sat             -948.610208\n",
       "Sun            -1049.319249\n",
       "holiday        -1100.643764\n",
       "daylight_hrs     114.169893\n",
       "PRCP             -27.170177\n",
       "dry day          531.980969\n",
       "Temp (C)          69.540300\n",
       "annual            83.584439\n",
       "pandemic       -1211.538306\n",
       "dtype: float64"
      ]
     },
     "execution_count": 38,
     "metadata": {},
     "output_type": "execute_result"
    }
   ],
   "source": [
    "params = pd.Series(model.coef_, index=X.columns)\n",
    "params"
   ]
  },
  {
   "cell_type": "markdown",
   "metadata": {
    "id": "7VhAp_EA-zQJ"
   },
   "source": [
    "- Interpretieren Sie diese Daten.\n",
    "- Um die Güte dieser Abhängigkeiten einschätzen zu können, brauchen wir die Standardabweichungen dieser Werte. Diese erhalten wir, indem wir das Modell mehrfach (z.B. 1000 Mal) auf zufällig ausgewählten Daten trainieren. Dadurch erhalten wir für jeden Koeffizienten 1000 Werte, davon bestimmen wir die Standardabweichung."
   ]
  },
  {
   "cell_type": "code",
   "execution_count": 39,
   "metadata": {
    "id": "tPXdu889-zQK"
   },
   "outputs": [],
   "source": [
    "from sklearn.utils import resample\n",
    "np.random.seed(1)\n",
    "err = np.std([model.fit(*resample(X, y)).coef_\n",
    "              for i in range(1000)], 0)"
   ]
  },
  {
   "cell_type": "code",
   "execution_count": 40,
   "metadata": {
    "colab": {
     "base_uri": "https://localhost:8080/"
    },
    "executionInfo": {
     "elapsed": 237971,
     "status": "ok",
     "timestamp": 1605876207397,
     "user": {
      "displayName": "Christian Moeller",
      "photoUrl": "",
      "userId": "02505173711259660088"
     },
     "user_tz": -60
    },
    "id": "JRG9g_ON-zQM",
    "outputId": "4f10281b-cf37-48ca-d017-5a28602ad006"
   },
   "outputs": [
    {
     "name": "stdout",
     "output_type": "stream",
     "text": [
      "              effect  error\n",
      "Mon            493.0   64.0\n",
      "Tue            602.0   65.0\n",
      "Wed            601.0   64.0\n",
      "Thu            475.0   63.0\n",
      "Fri            184.0   62.0\n",
      "Sat           -949.0   66.0\n",
      "Sun          -1049.0   65.0\n",
      "holiday      -1101.0   91.0\n",
      "daylight_hrs   114.0    7.0\n",
      "PRCP           -27.0    2.0\n",
      "dry day        532.0   26.0\n",
      "Temp (C)        70.0    3.0\n",
      "annual          84.0    6.0\n",
      "pandemic     -1212.0   47.0\n"
     ]
    }
   ],
   "source": [
    "print(pd.DataFrame({'effect': params.round(0),\n",
    "                    'error': err.round(0)}))"
   ]
  },
  {
   "cell_type": "markdown",
   "metadata": {
    "id": "VL38gWGK-zQP"
   },
   "source": [
    "Interpretieren Sie diese Daten."
   ]
  },
  {
   "cell_type": "markdown",
   "metadata": {
    "id": "2Gwy-b61I1zK"
   },
   "source": [
    "# Praktikum Session 6\n",
    "[Video](https://mstream.hm.edu/paella/ui/watch.html?id=c3a08c0b-d5ec-435f-99d3-4f2dd205641c)\n",
    "\n",
    "In dieser Session wollen wir weiter mit den in Session 5 verwendeten Daten der Fahrradfahrten über die Seattle Fremont Bridge arbeiten.\n",
    "\n",
    "Konkret wollen wir:\n",
    "\n",
    "1.  Die Daten \"besser treffen\", d.h. ein Modell erstellen, das die gesamten Daten besser lernen kann.\n",
    "\n",
    "Das stellt lediglich eine weitere Verbesserung der Arbeit des letzten Praktikums dar.\n",
    "\n",
    "2.  Ein Modell mit historischen Daten trainieren, welches dann Vorhersagen für die Zukunft treffen kann.\n",
    "\n",
    "Das ist eine prinzipiell andere Aufgabenstellung."
   ]
  },
  {
   "cell_type": "markdown",
   "metadata": {
    "id": "8o1S3wN9BtXu"
   },
   "source": [
    "## Teil 1: \"Daten besser treffen\"\n",
    "Im ertsen Teil wollen wir nun versuchen, ob wir die vorhandenen Daten mit einem anderen Modell besser lernen können.\n",
    "\n",
    "Verwenden Sie ``Ridge`` und ``Lasso`` Regression als Modell. Bestimmen Sie jeweils einen geeigneten Parameter für den Regularisierungsparameter ``alpha``. Stellen Sie das Ergebnis des Modells jeweils grafisch dar und quantifizieren Sie die Leistung des Modells, indem Sie die $R^2$-Score sowie den *Mean Squared Error* angeben.\n",
    "\n",
    "Warum macht der Einsatz von ``Ridge`` bzw. ``Lasso`` im aktuellen Setting eigentlich **keinen Sinn**? (Wir machen es trotzdem, um etwas zu lernen...).\n",
    "\n",
    "*Hinweise:*\n",
    "\n",
    "*   Die genannten Fehlermaße stehen in ``sklearn.metrics`` zur Verfügung.\n",
    "*   Für das Tunen von ``alpha`` können Sie sich ggf. an dem Notebook zu Linearen Modellen orientieren.\n",
    "*   Grafische Darstellungen des Ergebnisses des Modells finden Sie weiter oben im Abschnitt zu Praktikum 5.\n",
    "\n"
   ]
  },
  {
   "cell_type": "markdown",
   "metadata": {
    "id": "hJxl3qJSI6Fh"
   },
   "source": [
    "### Ridge"
   ]
  },
  {
   "cell_type": "code",
   "execution_count": 42,
   "metadata": {
    "colab": {
     "base_uri": "https://localhost:8080/"
    },
    "executionInfo": {
     "elapsed": 982,
     "status": "ok",
     "timestamp": 1605876284906,
     "user": {
      "displayName": "Christian Moeller",
      "photoUrl": "",
      "userId": "02505173711259660088"
     },
     "user_tz": -60
    },
    "id": "tdUglUkeI2Rx",
    "outputId": "2fcdd36c-4089-44ac-8843-96a221cea4f0"
   },
   "outputs": [
    {
     "data": {
      "image/png": "[encoded data removed]",
      "text/plain": [
       "<Figure size 432x288 with 1 Axes>"
      ]
     },
     "metadata": {},
     "output_type": "display_data"
    }
   ],
   "source": [
    "from sklearn.linear_model import Ridge\n",
    "ridge_models = {}\n",
    "training_scores = []\n",
    "\n",
    "for alpha in [100, 10, 1, .01, 1e-3, 1e-4]:\n",
    "    ridge = Ridge(alpha=alpha).fit(X, y)\n",
    "    training_scores.append(ridge.score(X, y))\n",
    "    ridge_models[alpha] = ridge\n",
    "\n",
    "plt.figure()\n",
    "plt.plot(training_scores, label=\"training scores\")\n",
    "plt.xticks(range(6), [100, 10, 1, .01, 1e-3, 1e-4])\n",
    "plt.xlabel('alpha')\n",
    "plt.legend(loc=\"best\");"
   ]
  },
  {
   "cell_type": "code",
   "execution_count": 43,
   "metadata": {
    "colab": {
     "base_uri": "https://localhost:8080/"
    },
    "executionInfo": {
     "elapsed": 1395,
     "status": "ok",
     "timestamp": 1605877359687,
     "user": {
      "displayName": "Christian Moeller",
      "photoUrl": "",
      "userId": "02505173711259660088"
     },
     "user_tz": -60
    },
    "id": "0FTCpOJMI8dx",
    "outputId": "61409df7-5f82-4b46-a71a-a5c40ce5497b"
   },
   "outputs": [
    {
     "data": {
      "image/png": "[encoded data removed]",
      "text/plain": [
       "<Figure size 432x288 with 1 Axes>"
      ]
     },
     "metadata": {},
     "output_type": "display_data"
    }
   ],
   "source": [
    "daily['pred_ridge'] = Ridge(alpha=100).fit(X,y).predict(X)\n",
    "daily[['Total', 'pred_ridge']].plot(alpha=0.5);"
   ]
  },
  {
   "cell_type": "markdown",
   "metadata": {
    "id": "7-T4hdyVJAPS"
   },
   "source": [
    "### Lasso"
   ]
  },
  {
   "cell_type": "code",
   "execution_count": 45,
   "metadata": {
    "colab": {
     "base_uri": "https://localhost:8080/"
    },
    "executionInfo": {
     "elapsed": 239528,
     "status": "ok",
     "timestamp": 1605876208970,
     "user": {
      "displayName": "Christian Moeller",
      "photoUrl": "",
      "userId": "02505173711259660088"
     },
     "user_tz": -60
    },
    "id": "u93qRaQ5I_QJ",
    "outputId": "15070c42-439c-4256-a108-3622c5629338"
   },
   "outputs": [
    {
     "name": "stderr",
     "output_type": "stream",
     "text": [
      "C:\\Users\\Cris\\anaconda3\\lib\\site-packages\\sklearn\\linear_model\\_coordinate_descent.py:529: ConvergenceWarning: Objective did not converge. You might want to increase the number of iterations. Duality gap: 10061798.754557133, tolerance: 568969.3524749321\n",
      "  model = cd_fast.enet_coordinate_descent(\n",
      "C:\\Users\\Cris\\anaconda3\\lib\\site-packages\\sklearn\\linear_model\\_coordinate_descent.py:529: ConvergenceWarning: Objective did not converge. You might want to increase the number of iterations. Duality gap: 9976260.8373003, tolerance: 568969.3524749321\n",
      "  model = cd_fast.enet_coordinate_descent(\n",
      "C:\\Users\\Cris\\anaconda3\\lib\\site-packages\\sklearn\\linear_model\\_coordinate_descent.py:529: ConvergenceWarning: Objective did not converge. You might want to increase the number of iterations. Duality gap: 9967085.973760843, tolerance: 568969.3524749321\n",
      "  model = cd_fast.enet_coordinate_descent(\n"
     ]
    },
    {
     "data": {
      "image/png": "[encoded data removed]",
      "text/plain": [
       "<Figure size 432x288 with 1 Axes>"
      ]
     },
     "metadata": {},
     "output_type": "display_data"
    }
   ],
   "source": [
    "from sklearn.linear_model import Lasso\n",
    "lasso_models = {}\n",
    "training_scores = []\n",
    "\n",
    "for alpha in [30, 10, 1, .01, 1e-3, 1e-4]:\n",
    "    lasso = Lasso(alpha=alpha).fit(X, y)\n",
    "    training_scores.append(lasso.score(X, y))\n",
    "    lasso_models[alpha] = lasso\n",
    "\n",
    "plt.figure()\n",
    "plt.plot(training_scores, label=\"training scores\")\n",
    "plt.xticks(range(6), [30, 10, 1, .01, 1e-3, 1e-4])\n",
    "plt.xlabel('alpha')\n",
    "plt.legend(loc=\"best\");"
   ]
  },
  {
   "cell_type": "code",
   "execution_count": 46,
   "metadata": {
    "colab": {
     "base_uri": "https://localhost:8080/"
    },
    "executionInfo": {
     "elapsed": 239837,
     "status": "ok",
     "timestamp": 1605876209284,
     "user": {
      "displayName": "Christian Moeller",
      "photoUrl": "",
      "userId": "02505173711259660088"
     },
     "user_tz": -60
    },
    "id": "f02SU-mzJCl4",
    "outputId": "15964ea2-3a3b-4714-8d9b-9f41dba6e15d"
   },
   "outputs": [
    {
     "data": {
      "image/png": "[encoded data removed]",
      "text/plain": [
       "<Figure size 432x288 with 1 Axes>"
      ]
     },
     "metadata": {},
     "output_type": "display_data"
    }
   ],
   "source": [
    "daily['pred_lasso'] = Lasso(alpha=1).fit(X,y).predict(X)\n",
    "daily[['Total', 'pred_lasso']].plot(alpha=0.5);"
   ]
  },
  {
   "cell_type": "markdown",
   "metadata": {
    "id": "WrtZuPo2JKlJ"
   },
   "source": [
    "### Metriken\n",
    "Um die Performance der einzelnen Modelle übersichtlich darzustellen, können Sie z.B. den unten angelegten DataFrame verwenden."
   ]
  },
  {
   "cell_type": "code",
   "execution_count": 47,
   "metadata": {
    "colab": {
     "base_uri": "https://localhost:8080/"
    },
    "executionInfo": {
     "elapsed": 240038,
     "status": "ok",
     "timestamp": 1605876209490,
     "user": {
      "displayName": "Christian Moeller",
      "photoUrl": "",
      "userId": "02505173711259660088"
     },
     "user_tz": -60
    },
    "id": "CcvB7kbWJIX5",
    "outputId": "c6187e20-fb89-4c9e-ff33-f85d8f175460"
   },
   "outputs": [
    {
     "data": {
      "text/html": [
       "<div>\n",
       "<style scoped>\n",
       "    .dataframe tbody tr th:only-of-type {\n",
       "        vertical-align: middle;\n",
       "    }\n",
       "\n",
       "    .dataframe tbody tr th {\n",
       "        vertical-align: top;\n",
       "    }\n",
       "\n",
       "    .dataframe thead th {\n",
       "        text-align: right;\n",
       "    }\n",
       "</style>\n",
       "<table border=\"1\" class=\"dataframe\">\n",
       "  <thead>\n",
       "    <tr style=\"text-align: right;\">\n",
       "      <th></th>\n",
       "      <th>sqrt(MSE)</th>\n",
       "      <th>R2</th>\n",
       "    </tr>\n",
       "  </thead>\n",
       "  <tbody>\n",
       "    <tr>\n",
       "      <th>Linear</th>\n",
       "      <td>620.497</td>\n",
       "      <td>0.775677</td>\n",
       "    </tr>\n",
       "    <tr>\n",
       "      <th>Ridge</th>\n",
       "      <td>646.957</td>\n",
       "      <td>0.756137</td>\n",
       "    </tr>\n",
       "    <tr>\n",
       "      <th>Lasso</th>\n",
       "      <td>620.589</td>\n",
       "      <td>0.775611</td>\n",
       "    </tr>\n",
       "    <tr>\n",
       "      <th>SVR Linear</th>\n",
       "      <td>NaN</td>\n",
       "      <td>NaN</td>\n",
       "    </tr>\n",
       "    <tr>\n",
       "      <th>SVR LinearC</th>\n",
       "      <td>NaN</td>\n",
       "      <td>NaN</td>\n",
       "    </tr>\n",
       "    <tr>\n",
       "      <th>SVR2</th>\n",
       "      <td>NaN</td>\n",
       "      <td>NaN</td>\n",
       "    </tr>\n",
       "    <tr>\n",
       "      <th>SVR RBF</th>\n",
       "      <td>NaN</td>\n",
       "      <td>NaN</td>\n",
       "    </tr>\n",
       "  </tbody>\n",
       "</table>\n",
       "</div>"
      ],
      "text/plain": [
       "            sqrt(MSE)        R2\n",
       "Linear        620.497  0.775677\n",
       "Ridge         646.957  0.756137\n",
       "Lasso         620.589  0.775611\n",
       "SVR Linear        NaN       NaN\n",
       "SVR LinearC       NaN       NaN\n",
       "SVR2              NaN       NaN\n",
       "SVR RBF           NaN       NaN"
      ]
     },
     "execution_count": 47,
     "metadata": {},
     "output_type": "execute_result"
    }
   ],
   "source": [
    "from sklearn.metrics import r2_score, mean_squared_error\n",
    "\n",
    "algs = ['Linear', 'Ridge', 'Lasso', 'SVR Linear', 'SVR LinearC', 'SVR2', 'SVR RBF']\n",
    "metrics = ['sqrt(MSE)', 'R2']\n",
    "\n",
    "benchmark = pd.DataFrame(index=algs, columns=metrics)\n",
    "benchmark.loc[['Linear', 'Ridge', 'Lasso']] = [[np.sqrt(mean_squared_error(daily['Total'], daily['pred_lin'])), r2_score(daily['Total'], daily['pred_lin'])],\n",
    "                                      [np.sqrt(mean_squared_error(daily['Total'], daily['pred_ridge'])), r2_score(daily['Total'], daily['pred_ridge'])],\n",
    "                                      [np.sqrt(mean_squared_error(daily['Total'], daily['pred_lasso'])), r2_score(daily['Total'], daily['pred_lasso'])]]\n",
    "benchmark"
   ]
  },
  {
   "cell_type": "markdown",
   "metadata": {
    "id": "__NvAPqwJqBH"
   },
   "source": [
    "Das ist nicht wirklich besser geworden - was aber auch kein Wunder ist, da der gewählte Regularisierungsparameter stets sehr klein ist. Das wiederum ist eigentlich klar, denn das aktuell verfolgte Ziel ist es, die Daten möglichst genau zu treffen - von Generalisierung ist (noch) keine Rede.\n",
    "\n",
    "Daher wenden wir uns anderen Modellen zu."
   ]
  },
  {
   "cell_type": "markdown",
   "metadata": {
    "id": "yTYNpPH1JsJN"
   },
   "source": [
    "### Linear SVR\n",
    "Verwenden Sie eine lineare Support Vector Machine, um die Daten zu modellieren. Bestimmen Sie auch hier wieder die verwendeten Fehlermaße."
   ]
  },
  {
   "cell_type": "code",
   "execution_count": 48,
   "metadata": {
    "colab": {
     "base_uri": "https://localhost:8080/"
    },
    "executionInfo": {
     "elapsed": 241149,
     "status": "ok",
     "timestamp": 1605876210607,
     "user": {
      "displayName": "Christian Moeller",
      "photoUrl": "",
      "userId": "02505173711259660088"
     },
     "user_tz": -60
    },
    "id": "nvzcqD4CJQNh",
    "outputId": "962d2888-5830-4c80-e917-cd5c38c9cc22"
   },
   "outputs": [
    {
     "data": {
      "text/html": [
       "<div>\n",
       "<style scoped>\n",
       "    .dataframe tbody tr th:only-of-type {\n",
       "        vertical-align: middle;\n",
       "    }\n",
       "\n",
       "    .dataframe tbody tr th {\n",
       "        vertical-align: top;\n",
       "    }\n",
       "\n",
       "    .dataframe thead th {\n",
       "        text-align: right;\n",
       "    }\n",
       "</style>\n",
       "<table border=\"1\" class=\"dataframe\">\n",
       "  <thead>\n",
       "    <tr style=\"text-align: right;\">\n",
       "      <th></th>\n",
       "      <th>sqrt(MSE)</th>\n",
       "      <th>R2</th>\n",
       "    </tr>\n",
       "  </thead>\n",
       "  <tbody>\n",
       "    <tr>\n",
       "      <th>Linear</th>\n",
       "      <td>620.497</td>\n",
       "      <td>0.775677</td>\n",
       "    </tr>\n",
       "    <tr>\n",
       "      <th>Ridge</th>\n",
       "      <td>646.957</td>\n",
       "      <td>0.756137</td>\n",
       "    </tr>\n",
       "    <tr>\n",
       "      <th>Lasso</th>\n",
       "      <td>620.589</td>\n",
       "      <td>0.775611</td>\n",
       "    </tr>\n",
       "    <tr>\n",
       "      <th>SVR Linear</th>\n",
       "      <td>839.568</td>\n",
       "      <td>0.589318</td>\n",
       "    </tr>\n",
       "    <tr>\n",
       "      <th>SVR LinearC</th>\n",
       "      <td>NaN</td>\n",
       "      <td>NaN</td>\n",
       "    </tr>\n",
       "    <tr>\n",
       "      <th>SVR2</th>\n",
       "      <td>NaN</td>\n",
       "      <td>NaN</td>\n",
       "    </tr>\n",
       "    <tr>\n",
       "      <th>SVR RBF</th>\n",
       "      <td>NaN</td>\n",
       "      <td>NaN</td>\n",
       "    </tr>\n",
       "  </tbody>\n",
       "</table>\n",
       "</div>"
      ],
      "text/plain": [
       "            sqrt(MSE)        R2\n",
       "Linear        620.497  0.775677\n",
       "Ridge         646.957  0.756137\n",
       "Lasso         620.589  0.775611\n",
       "SVR Linear    839.568  0.589318\n",
       "SVR LinearC       NaN       NaN\n",
       "SVR2              NaN       NaN\n",
       "SVR RBF           NaN       NaN"
      ]
     },
     "execution_count": 48,
     "metadata": {},
     "output_type": "execute_result"
    },
    {
     "data": {
      "image/png": "[encoded data removed]",
      "text/plain": [
       "<Figure size 432x288 with 1 Axes>"
      ]
     },
     "metadata": {},
     "output_type": "display_data"
    }
   ],
   "source": [
    "from sklearn.svm import SVR\n",
    "\n",
    "daily['pred_svr_lin'] = SVR(kernel='linear').fit(X,y).predict(X)\n",
    "daily[['Total', 'pred_svr_lin']].plot(alpha=0.5)\n",
    "benchmark.loc[['SVR Linear']] = [[np.sqrt(mean_squared_error(daily['Total'], daily['pred_svr_lin'])),\n",
    "                                        r2_score(daily['Total'], daily['pred_svr_lin'])]]\n",
    "benchmark"
   ]
  },
  {
   "cell_type": "markdown",
   "metadata": {
    "id": "GH9TXz2cJ4Ur"
   },
   "source": [
    "Es zeigt sich, dass dieses lineare SVR Modell *wesentlich schlechter* ist als die verwendeten linearen Modelle. Das kann so eigentlich nicht sein. Woran könnte es liegen?\n",
    "\n",
    "*Hinweis:* Welche Hyperparameter verwendet ``SVR``? Was bewirken diese? Was wollen wir in der vorliegenden Aufgabenstellung?"
   ]
  },
  {
   "cell_type": "markdown",
   "metadata": {
    "id": "BpVyVptzJ6dv"
   },
   "source": [
    "### Passendere Hyperparameter für SVR\n",
    "Wir betrachten nun lineare SVR und Kernel SVR mit polynomiellem Kern (Grad 2) bzw. RBF Kern. Wählen Sie hierfür jeweils einen höheren Wert für ``C``, um ein wenig regularisiertes Modell zu trainieren. Geben Sie jeweils wieder die Visualisierung und auch die obige Bewertungsmetrik an.\n",
    "\n",
    "Verwenden Sie konkret:\n",
    "- Linear: ``C``=100\n",
    "- Quadratisch: ``C``=100, ``gamma``=0.1\n",
    "- RBF: ``C``=5000, ``gamma``=0.1"
   ]
  },
  {
   "cell_type": "markdown",
   "metadata": {
    "id": "Ws0ORUd-J_rJ"
   },
   "source": [
    "#### SVR linear"
   ]
  },
  {
   "cell_type": "code",
   "execution_count": 49,
   "metadata": {
    "colab": {
     "base_uri": "https://localhost:8080/"
    },
    "executionInfo": {
     "elapsed": 243473,
     "status": "ok",
     "timestamp": 1605876212937,
     "user": {
      "displayName": "Christian Moeller",
      "photoUrl": "",
      "userId": "02505173711259660088"
     },
     "user_tz": -60
    },
    "id": "I89vTpgpJ6Ed",
    "outputId": "36e59f12-7e98-45ed-e8b7-ab3d99afb7bf"
   },
   "outputs": [
    {
     "data": {
      "text/html": [
       "<div>\n",
       "<style scoped>\n",
       "    .dataframe tbody tr th:only-of-type {\n",
       "        vertical-align: middle;\n",
       "    }\n",
       "\n",
       "    .dataframe tbody tr th {\n",
       "        vertical-align: top;\n",
       "    }\n",
       "\n",
       "    .dataframe thead th {\n",
       "        text-align: right;\n",
       "    }\n",
       "</style>\n",
       "<table border=\"1\" class=\"dataframe\">\n",
       "  <thead>\n",
       "    <tr style=\"text-align: right;\">\n",
       "      <th></th>\n",
       "      <th>sqrt(MSE)</th>\n",
       "      <th>R2</th>\n",
       "    </tr>\n",
       "  </thead>\n",
       "  <tbody>\n",
       "    <tr>\n",
       "      <th>Linear</th>\n",
       "      <td>620.497</td>\n",
       "      <td>0.775677</td>\n",
       "    </tr>\n",
       "    <tr>\n",
       "      <th>Ridge</th>\n",
       "      <td>646.957</td>\n",
       "      <td>0.756137</td>\n",
       "    </tr>\n",
       "    <tr>\n",
       "      <th>Lasso</th>\n",
       "      <td>620.589</td>\n",
       "      <td>0.775611</td>\n",
       "    </tr>\n",
       "    <tr>\n",
       "      <th>SVR Linear</th>\n",
       "      <td>839.568</td>\n",
       "      <td>0.589318</td>\n",
       "    </tr>\n",
       "    <tr>\n",
       "      <th>SVR LinearC</th>\n",
       "      <td>630.121</td>\n",
       "      <td>0.768664</td>\n",
       "    </tr>\n",
       "    <tr>\n",
       "      <th>SVR2</th>\n",
       "      <td>NaN</td>\n",
       "      <td>NaN</td>\n",
       "    </tr>\n",
       "    <tr>\n",
       "      <th>SVR RBF</th>\n",
       "      <td>NaN</td>\n",
       "      <td>NaN</td>\n",
       "    </tr>\n",
       "  </tbody>\n",
       "</table>\n",
       "</div>"
      ],
      "text/plain": [
       "            sqrt(MSE)        R2\n",
       "Linear        620.497  0.775677\n",
       "Ridge         646.957  0.756137\n",
       "Lasso         620.589  0.775611\n",
       "SVR Linear    839.568  0.589318\n",
       "SVR LinearC   630.121  0.768664\n",
       "SVR2              NaN       NaN\n",
       "SVR RBF           NaN       NaN"
      ]
     },
     "execution_count": 49,
     "metadata": {},
     "output_type": "execute_result"
    },
    {
     "data": {
      "image/png": "[encoded data removed]",
      "text/plain": [
       "<Figure size 432x288 with 1 Axes>"
      ]
     },
     "metadata": {},
     "output_type": "display_data"
    }
   ],
   "source": [
    "daily['pred_svr_linC'] = SVR(kernel='linear', C=100).fit(X,y).predict(X)\n",
    "daily[['Total', 'pred_svr_linC']].plot(alpha=0.5);\n",
    "benchmark.loc[['SVR LinearC']] = [[np.sqrt(mean_squared_error(daily['Total'], daily['pred_svr_linC'])),\n",
    "                                        r2_score(daily['Total'], daily['pred_svr_linC'])]]\n",
    "benchmark"
   ]
  },
  {
   "cell_type": "markdown",
   "metadata": {
    "id": "BmRAWsklKDvV"
   },
   "source": [
    "#### SVR quadratisch"
   ]
  },
  {
   "cell_type": "code",
   "execution_count": 50,
   "metadata": {
    "colab": {
     "base_uri": "https://localhost:8080/"
    },
    "executionInfo": {
     "elapsed": 28342,
     "status": "ok",
     "timestamp": 1605875978745,
     "user": {
      "displayName": "Christian Moeller",
      "photoUrl": "",
      "userId": "02505173711259660088"
     },
     "user_tz": -60
    },
    "id": "sThRKBFGJw3h",
    "outputId": "19ad1248-6306-42a0-be67-c916bb0ddb3d"
   },
   "outputs": [
    {
     "data": {
      "text/html": [
       "<div>\n",
       "<style scoped>\n",
       "    .dataframe tbody tr th:only-of-type {\n",
       "        vertical-align: middle;\n",
       "    }\n",
       "\n",
       "    .dataframe tbody tr th {\n",
       "        vertical-align: top;\n",
       "    }\n",
       "\n",
       "    .dataframe thead th {\n",
       "        text-align: right;\n",
       "    }\n",
       "</style>\n",
       "<table border=\"1\" class=\"dataframe\">\n",
       "  <thead>\n",
       "    <tr style=\"text-align: right;\">\n",
       "      <th></th>\n",
       "      <th>sqrt(MSE)</th>\n",
       "      <th>R2</th>\n",
       "    </tr>\n",
       "  </thead>\n",
       "  <tbody>\n",
       "    <tr>\n",
       "      <th>Linear</th>\n",
       "      <td>620.497</td>\n",
       "      <td>0.775677</td>\n",
       "    </tr>\n",
       "    <tr>\n",
       "      <th>Ridge</th>\n",
       "      <td>646.957</td>\n",
       "      <td>0.756137</td>\n",
       "    </tr>\n",
       "    <tr>\n",
       "      <th>Lasso</th>\n",
       "      <td>620.589</td>\n",
       "      <td>0.775611</td>\n",
       "    </tr>\n",
       "    <tr>\n",
       "      <th>SVR Linear</th>\n",
       "      <td>839.568</td>\n",
       "      <td>0.589318</td>\n",
       "    </tr>\n",
       "    <tr>\n",
       "      <th>SVR LinearC</th>\n",
       "      <td>630.121</td>\n",
       "      <td>0.768664</td>\n",
       "    </tr>\n",
       "    <tr>\n",
       "      <th>SVR2</th>\n",
       "      <td>577.887</td>\n",
       "      <td>0.805428</td>\n",
       "    </tr>\n",
       "    <tr>\n",
       "      <th>SVR RBF</th>\n",
       "      <td>NaN</td>\n",
       "      <td>NaN</td>\n",
       "    </tr>\n",
       "  </tbody>\n",
       "</table>\n",
       "</div>"
      ],
      "text/plain": [
       "            sqrt(MSE)        R2\n",
       "Linear        620.497  0.775677\n",
       "Ridge         646.957  0.756137\n",
       "Lasso         620.589  0.775611\n",
       "SVR Linear    839.568  0.589318\n",
       "SVR LinearC   630.121  0.768664\n",
       "SVR2          577.887  0.805428\n",
       "SVR RBF           NaN       NaN"
      ]
     },
     "execution_count": 50,
     "metadata": {},
     "output_type": "execute_result"
    },
    {
     "data": {
      "image/png": "[encoded data removed]",
      "text/plain": [
       "<Figure size 432x288 with 1 Axes>"
      ]
     },
     "metadata": {},
     "output_type": "display_data"
    }
   ],
   "source": [
    "daily['pred_svr2'] = SVR(kernel='poly', degree=2, C=100, gamma=0.1).fit(X,y).predict(X)\n",
    "daily[['Total', 'pred_svr2']].plot(alpha=0.5);\n",
    "benchmark.loc[['SVR2']] = [[np.sqrt(mean_squared_error(daily['Total'], daily['pred_svr2'])),\n",
    "                                        r2_score(daily['Total'], daily['pred_svr2'])]]\n",
    "benchmark"
   ]
  },
  {
   "cell_type": "markdown",
   "metadata": {
    "id": "N3yxFyxlKKzv"
   },
   "source": [
    "#### SVR RBF"
   ]
  },
  {
   "cell_type": "code",
   "execution_count": null,
   "metadata": {
    "colab": {
     "base_uri": "https://localhost:8080/",
     "height": 533
    },
    "executionInfo": {
     "elapsed": 33966,
     "status": "ok",
     "timestamp": 1605875984371,
     "user": {
      "displayName": "Christian Moeller",
      "photoUrl": "",
      "userId": "02505173711259660088"
     },
     "user_tz": -60
    },
    "id": "Vvtx6ut5KDTh",
    "outputId": "d4d192f5-57cf-470a-b4ff-6d1840631aeb"
   },
   "outputs": [
    {
     "data": {
      "text/html": [
       "<div>\n",
       "<style scoped>\n",
       "    .dataframe tbody tr th:only-of-type {\n",
       "        vertical-align: middle;\n",
       "    }\n",
       "\n",
       "    .dataframe tbody tr th {\n",
       "        vertical-align: top;\n",
       "    }\n",
       "\n",
       "    .dataframe thead th {\n",
       "        text-align: right;\n",
       "    }\n",
       "</style>\n",
       "<table border=\"1\" class=\"dataframe\">\n",
       "  <thead>\n",
       "    <tr style=\"text-align: right;\">\n",
       "      <th></th>\n",
       "      <th>sqrt(MSE)</th>\n",
       "      <th>R2</th>\n",
       "    </tr>\n",
       "  </thead>\n",
       "  <tbody>\n",
       "    <tr>\n",
       "      <th>Linear</th>\n",
       "      <td>592.522</td>\n",
       "      <td>0.803505</td>\n",
       "    </tr>\n",
       "    <tr>\n",
       "      <th>Ridge</th>\n",
       "      <td>633.234</td>\n",
       "      <td>0.775575</td>\n",
       "    </tr>\n",
       "    <tr>\n",
       "      <th>Lasso</th>\n",
       "      <td>592.624</td>\n",
       "      <td>0.803437</td>\n",
       "    </tr>\n",
       "    <tr>\n",
       "      <th>SVR Linear</th>\n",
       "      <td>849.891</td>\n",
       "      <td>0.595732</td>\n",
       "    </tr>\n",
       "    <tr>\n",
       "      <th>SVR LinearC</th>\n",
       "      <td>596.981</td>\n",
       "      <td>0.800537</td>\n",
       "    </tr>\n",
       "    <tr>\n",
       "      <th>SVR2</th>\n",
       "      <td>589.652</td>\n",
       "      <td>0.805404</td>\n",
       "    </tr>\n",
       "    <tr>\n",
       "      <th>SVR RBF</th>\n",
       "      <td>326.653</td>\n",
       "      <td>0.94028</td>\n",
       "    </tr>\n",
       "  </tbody>\n",
       "</table>\n",
       "</div>"
      ],
      "text/plain": [
       "            sqrt(MSE)        R2\n",
       "Linear        592.522  0.803505\n",
       "Ridge         633.234  0.775575\n",
       "Lasso         592.624  0.803437\n",
       "SVR Linear    849.891  0.595732\n",
       "SVR LinearC   596.981  0.800537\n",
       "SVR2          589.652  0.805404\n",
       "SVR RBF       326.653   0.94028"
      ]
     },
     "execution_count": 51,
     "metadata": {
      "tags": []
     },
     "output_type": "execute_result"
    },
    {
     "data": {
      "image/png": "[encoded data removed]",
      "text/plain": [
       "<Figure size 432x288 with 1 Axes>"
      ]
     },
     "metadata": {
      "needs_background": "light",
      "tags": []
     },
     "output_type": "display_data"
    }
   ],
   "source": [
    "daily['pred_rbf'] = SVR(kernel='rbf', C=5000, gamma=0.1).fit(X,y).predict(X)\n",
    "daily[['Total', 'pred_rbf']].plot(alpha=0.5);\n",
    "benchmark.loc[['SVR RBF']] = [[np.sqrt(mean_squared_error(daily['Total'], daily['pred_rbf'])),\n",
    "                                        r2_score(daily['Total'], daily['pred_rbf'])]]\n",
    "benchmark"
   ]
  },
  {
   "cell_type": "markdown",
   "metadata": {
    "id": "6JZf05XeKcMJ"
   },
   "source": [
    "## Teil 2: Vorhersagemodell\n",
    "Teilen Sie die vorliegenden Daten auf in Trainings- und Testdaten. Verwenden Sie den Zeitraum bis 31. Oktober 2018 zum Trainieren und das Jahr 01. November 2018 bis 31. Oktober 2019 zum Testen. Verwenden Sie als Modelle\n",
    "- LinearRegression\n",
    "- Linear SVR\n",
    "- SVR mit quadratischem Kern\n",
    "- SVR mit RBF Kern\n",
    "\n",
    "Führen Sie jeweils eine Optimierung der relevantesten Hyperparameter (sofern vorhanden) durch. Stellen Sie die Vorhersage grafisch dar, zusammen mit den wahren gemessenen Werten. Geben Sie wieder die Wurzel des MSE als quantitatives Gütemaß des Modells an."
   ]
  },
  {
   "cell_type": "code",
   "execution_count": 51,
   "metadata": {
    "id": "K22aPacYKKUJ"
   },
   "outputs": [],
   "source": [
    "X_train = X['2012-10-03':'2018-10-31']\n",
    "X_test = X['2018-11-01':'2019-10-31']\n",
    "y_train = y['2012-10-03':'2018-10-31']\n",
    "y_test = pd.DataFrame(y['2018-11-01':'2019-10-31'])"
   ]
  },
  {
   "cell_type": "markdown",
   "metadata": {
    "id": "4eC1k4xNKoyr"
   },
   "source": [
    "### Lineare Regression"
   ]
  },
  {
   "cell_type": "code",
   "execution_count": 52,
   "metadata": {
    "colab": {
     "base_uri": "https://localhost:8080/",
     "height": 313
    },
    "executionInfo": {
     "elapsed": 34759,
     "status": "ok",
     "timestamp": 1605875985169,
     "user": {
      "displayName": "Christian Moeller",
      "photoUrl": "",
      "userId": "02505173711259660088"
     },
     "user_tz": -60
    },
    "id": "SdujVQelKjRR",
    "outputId": "c9614d6a-fc18-4327-82b7-6f488d00276f"
   },
   "outputs": [
    {
     "name": "stdout",
     "output_type": "stream",
     "text": [
      "Mittlere Abweichung: 786 Personen pro Tag\n"
     ]
    },
    {
     "data": {
      "image/png": "[encoded data removed]",
      "text/plain": [
       "<Figure size 432x288 with 1 Axes>"
      ]
     },
     "metadata": {},
     "output_type": "display_data"
    }
   ],
   "source": [
    "model = LinearRegression(fit_intercept=False).fit(X_train, y_train)\n",
    "y_test['pred_lin'] = model.predict(X_test)\n",
    "y_test[['Total', 'pred_lin']].plot(alpha=0.5);\n",
    "\n",
    "print(\"Mittlere Abweichung: %d Personen pro Tag\" % np.sqrt(mean_squared_error(y_test['Total'], y_test['pred_lin'])))"
   ]
  },
  {
   "cell_type": "markdown",
   "metadata": {
    "id": "1zLyaBclKzOh"
   },
   "source": [
    "### Lineare SVR"
   ]
  },
  {
   "cell_type": "code",
   "execution_count": 53,
   "metadata": {
    "colab": {
     "base_uri": "https://localhost:8080/"
    },
    "executionInfo": {
     "elapsed": 38955,
     "status": "ok",
     "timestamp": 1605875989368,
     "user": {
      "displayName": "Christian Moeller",
      "photoUrl": "",
      "userId": "02505173711259660088"
     },
     "user_tz": -60
    },
    "id": "zLgLNvnRKv2Z",
    "outputId": "da6502fc-a419-4bb3-bddf-8c4f58d8958d"
   },
   "outputs": [
    {
     "data": {
      "text/plain": [
       "GridSearchCV(cv=3, estimator=SVR(kernel='linear'), n_jobs=-1,\n",
       "             param_grid={'C': [1, 10, 100]})"
      ]
     },
     "execution_count": 53,
     "metadata": {},
     "output_type": "execute_result"
    }
   ],
   "source": [
    "from sklearn.model_selection import GridSearchCV\n",
    "\n",
    "svr = SVR(kernel='linear')\n",
    "param_grid = {'C': [1, 10, 100]}\n",
    "grid = GridSearchCV(svr, param_grid=param_grid, cv=3, n_jobs=-1)\n",
    "grid.fit(X_train, y_train)"
   ]
  },
  {
   "cell_type": "code",
   "execution_count": 54,
   "metadata": {
    "colab": {
     "base_uri": "https://localhost:8080/"
    },
    "executionInfo": {
     "elapsed": 38953,
     "status": "ok",
     "timestamp": 1605875989369,
     "user": {
      "displayName": "Christian Moeller",
      "photoUrl": "",
      "userId": "02505173711259660088"
     },
     "user_tz": -60
    },
    "id": "YapSEJC3KyyZ",
    "outputId": "b1fe65e5-58e5-4725-8506-25ff2a670cbf"
   },
   "outputs": [
    {
     "data": {
      "text/plain": [
       "{'C': 100}"
      ]
     },
     "execution_count": 54,
     "metadata": {},
     "output_type": "execute_result"
    }
   ],
   "source": [
    "grid.best_params_"
   ]
  },
  {
   "cell_type": "code",
   "execution_count": 55,
   "metadata": {
    "colab": {
     "base_uri": "https://localhost:8080/",
     "height": 313
    },
    "executionInfo": {
     "elapsed": 39690,
     "status": "ok",
     "timestamp": 1605875990108,
     "user": {
      "displayName": "Christian Moeller",
      "photoUrl": "",
      "userId": "02505173711259660088"
     },
     "user_tz": -60
    },
    "id": "K_eyPA9UK_qw",
    "outputId": "b112700b-d6f5-4766-cae5-f8eb5f2eb63b"
   },
   "outputs": [
    {
     "name": "stdout",
     "output_type": "stream",
     "text": [
      "Mittlere Abweichung: 769 Personen pro Tag\n"
     ]
    },
    {
     "data": {
      "image/png": "[encoded data removed]",
      "text/plain": [
       "<Figure size 432x288 with 1 Axes>"
      ]
     },
     "metadata": {},
     "output_type": "display_data"
    }
   ],
   "source": [
    "y_test['pred_SVR'] = grid.predict(X_test)\n",
    "y_test[['Total', 'pred_SVR']].plot(alpha=0.5);\n",
    "print(\"Mittlere Abweichung: %d Personen pro Tag\" % np.sqrt(mean_squared_error(y_test['Total'], y_test['pred_SVR'])))"
   ]
  },
  {
   "cell_type": "markdown",
   "metadata": {
    "id": "5qJCjiBHL0jS"
   },
   "source": [
    "### Quadratische SVR"
   ]
  },
  {
   "cell_type": "code",
   "execution_count": 56,
   "metadata": {
    "colab": {
     "base_uri": "https://localhost:8080/"
    },
    "executionInfo": {
     "elapsed": 228113,
     "status": "ok",
     "timestamp": 1605876178534,
     "user": {
      "displayName": "Christian Moeller",
      "photoUrl": "",
      "userId": "02505173711259660088"
     },
     "user_tz": -60
    },
    "id": "8dqWBDz9LBeo",
    "outputId": "d9db0e90-b710-4d2c-9820-aaf446e3e661"
   },
   "outputs": [
    {
     "name": "stdout",
     "output_type": "stream",
     "text": [
      "Fitting 2 folds for each of 4 candidates, totalling 8 fits\n"
     ]
    },
    {
     "name": "stderr",
     "output_type": "stream",
     "text": [
      "[Parallel(n_jobs=-1)]: Using backend LokyBackend with 16 concurrent workers.\n",
      "[Parallel(n_jobs=-1)]: Done   4 out of   8 | elapsed:    5.7s remaining:    5.7s\n",
      "[Parallel(n_jobs=-1)]: Done   8 out of   8 | elapsed:   28.1s finished\n"
     ]
    },
    {
     "data": {
      "text/plain": [
       "GridSearchCV(cv=2, estimator=SVR(cache_size=1000, degree=2, kernel='poly'),\n",
       "             n_jobs=-1, param_grid={'C': [100, 500], 'gamma': [0.1, 0.2]},\n",
       "             verbose=3)"
      ]
     },
     "execution_count": 56,
     "metadata": {},
     "output_type": "execute_result"
    }
   ],
   "source": [
    "svr = SVR(kernel='poly', degree=2, cache_size=1000)\n",
    "param_grid = {'C': [100,500], 'gamma': [0.1, 0.2]}\n",
    "grid = GridSearchCV(svr, param_grid=param_grid, cv=2, n_jobs=-1, verbose=3)\n",
    "grid.fit(X_train, y_train)"
   ]
  },
  {
   "cell_type": "code",
   "execution_count": 57,
   "metadata": {
    "colab": {
     "base_uri": "https://localhost:8080/",
     "height": 331
    },
    "executionInfo": {
     "elapsed": 229031,
     "status": "ok",
     "timestamp": 1605876179454,
     "user": {
      "displayName": "Christian Moeller",
      "photoUrl": "",
      "userId": "02505173711259660088"
     },
     "user_tz": -60
    },
    "id": "5twZjoZOLz_5",
    "outputId": "390b0059-e734-4acb-f0ef-00284bdd4cb5"
   },
   "outputs": [
    {
     "name": "stdout",
     "output_type": "stream",
     "text": [
      "Beste Parameter: {'C': 100, 'gamma': 0.1}\n",
      "Mittlere Abweichung: 662 Personen pro Tag\n"
     ]
    },
    {
     "data": {
      "image/png": "[encoded data removed]",
      "text/plain": [
       "<Figure size 432x288 with 1 Axes>"
      ]
     },
     "metadata": {},
     "output_type": "display_data"
    }
   ],
   "source": [
    "print('Beste Parameter:', grid.best_params_)\n",
    "y_test['pred_SVR2'] = grid.predict(X_test)\n",
    "y_test[['Total', 'pred_SVR2']].plot(alpha=0.5);\n",
    "print(\"Mittlere Abweichung: %d Personen pro Tag\" % np.sqrt(mean_squared_error(y_test['Total'], y_test['pred_SVR2'])))"
   ]
  },
  {
   "cell_type": "markdown",
   "metadata": {
    "id": "UeT_wdm4MMG6"
   },
   "source": [
    "### RBF SVR"
   ]
  },
  {
   "cell_type": "code",
   "execution_count": 58,
   "metadata": {
    "colab": {
     "base_uri": "https://localhost:8080/",
     "height": 331
    },
    "executionInfo": {
     "elapsed": 5594,
     "status": "ok",
     "timestamp": 1605879248513,
     "user": {
      "displayName": "Christian Moeller",
      "photoUrl": "",
      "userId": "02505173711259660088"
     },
     "user_tz": -60
    },
    "id": "ec7KWotuMFX5",
    "outputId": "e661efa6-e74c-40cc-af8d-7c329aa10b0f"
   },
   "outputs": [
    {
     "name": "stdout",
     "output_type": "stream",
     "text": [
      "Fitting 2 folds for each of 3 candidates, totalling 6 fits\n"
     ]
    },
    {
     "name": "stderr",
     "output_type": "stream",
     "text": [
      "[Parallel(n_jobs=-1)]: Using backend LokyBackend with 16 concurrent workers.\n",
      "[Parallel(n_jobs=-1)]: Done   3 out of   6 | elapsed:    0.7s remaining:    0.7s\n",
      "[Parallel(n_jobs=-1)]: Done   6 out of   6 | elapsed:    3.1s finished\n"
     ]
    },
    {
     "name": "stdout",
     "output_type": "stream",
     "text": [
      "Beste Parameter: {'C': 15000, 'gamma': 'scale'}\n",
      "Mittlere Abweichung: 653 Personen pro Tag\n"
     ]
    },
    {
     "data": {
      "image/png": "[encoded data removed]",
      "text/plain": [
       "<Figure size 432x288 with 1 Axes>"
      ]
     },
     "metadata": {},
     "output_type": "display_data"
    }
   ],
   "source": [
    "svr = SVR(kernel='rbf', cache_size=10000)\n",
    "param_grid = {'C': [15000,17000,20000], 'gamma': ['scale']}\n",
    "grid = GridSearchCV(svr, param_grid=param_grid, cv=2, n_jobs=-1, verbose=2)\n",
    "grid.fit(X_train, y_train)\n",
    "print('Beste Parameter:', grid.best_params_)\n",
    "y_test['pred_SVR_RBF'] = grid.predict(X_test)\n",
    "y_test[['Total', 'pred_SVR_RBF']].plot(alpha=0.5);\n",
    "print(\"Mittlere Abweichung: %d Personen pro Tag\" % np.sqrt(mean_squared_error(y_test['Total'], y_test['pred_SVR_RBF'])))"
   ]
  },
  {
   "cell_type": "code",
   "execution_count": null,
   "metadata": {
    "id": "A0jszjaa_fvh"
   },
   "outputs": [],
   "source": []
  }
 ],
 "metadata": {
  "colab": {
   "collapsed_sections": [
    "8o1S3wN9BtXu"
   ],
   "name": "Pr5_6 - Lineare Modelle_sol.ipynb",
   "provenance": [
    {
     "file_id": "1-eFdEpcJYV3QVqQQeg0xto4xT2tjN7Yw",
     "timestamp": 1605095191512
    }
   ],
   "toc_visible": true
  },
  "kernelspec": {
   "display_name": "Python 3",
   "language": "python",
   "name": "python3"
  },
  "language_info": {
   "codemirror_mode": {
    "name": "ipython",
    "version": 3
   },
   "file_extension": ".py",
   "mimetype": "text/x-python",
   "name": "python",
   "nbconvert_exporter": "python",
   "pygments_lexer": "ipython3",
   "version": "3.8.5"
  }
 },
 "nbformat": 4,
 "nbformat_minor": 1
}
