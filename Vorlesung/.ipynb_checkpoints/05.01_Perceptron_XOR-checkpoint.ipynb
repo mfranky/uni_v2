{
 "cells": [
  {
   "cell_type": "code",
   "execution_count": 48,
   "metadata": {
    "colab": {
     "base_uri": "https://localhost:8080/",
     "height": 34
    },
    "colab_type": "code",
    "executionInfo": {
     "elapsed": 1953,
     "status": "ok",
     "timestamp": 1571051714406,
     "user": {
      "displayName": "Christian Möller",
      "photoUrl": "",
      "userId": "02872032824376165285"
     },
     "user_tz": -120
    },
    "id": "pUTWK4KQoaTL",
    "outputId": "cb45fe00-27ea-4487-9c29-5032d2e5224a"
   },
   "outputs": [
    {
     "data": {
      "text/plain": [
       "'1.14.0'"
      ]
     },
     "execution_count": 48,
     "metadata": {},
     "output_type": "execute_result"
    }
   ],
   "source": [
    "import tensorflow as tf\n",
    "from tensorflow import keras\n",
    "import numpy as np\n",
    "\n",
    "%matplotlib inline\n",
    "import matplotlib.pyplot as plt\n",
    "\n",
    "tf.__version__"
   ]
  },
  {
   "cell_type": "markdown",
   "metadata": {
    "colab_type": "text",
    "id": "Yyd7dAB8oaTO"
   },
   "source": [
    "### Gebe Daten ein, um XOR-Funktion zu definieren.\n",
    "\\begin{aligned}\n",
    "  (0,0) &\\mapsto 0\\\\\n",
    "  (0,1) &\\mapsto 1\\\\\n",
    "  (1,0) &\\mapsto 1\\\\\n",
    "  (1,1) &\\mapsto 0\n",
    "\\end{aligned}"
   ]
  },
  {
   "cell_type": "code",
   "execution_count": 49,
   "metadata": {
    "colab": {},
    "colab_type": "code",
    "id": "tRoHgLXHoaTP"
   },
   "outputs": [],
   "source": [
    "x = np.array([[0,0],[0,1],[1,0],[1,1]])\n",
    "y = np.array([[0],[1],[1],[0]])"
   ]
  },
  {
   "cell_type": "code",
   "execution_count": 50,
   "metadata": {
    "colab": {
     "base_uri": "https://localhost:8080/",
     "height": 269
    },
    "colab_type": "code",
    "executionInfo": {
     "elapsed": 738,
     "status": "ok",
     "timestamp": 1571051958037,
     "user": {
      "displayName": "Christian Möller",
      "photoUrl": "",
      "userId": "02872032824376165285"
     },
     "user_tz": -120
    },
    "id": "eGw56udeoaTQ",
    "outputId": "dbebff82-ad82-4072-f74e-711a10b0bd11"
   },
   "outputs": [
    {
     "data": {
      "image/png": "[encoded data removed]",
      "text/plain": [
       "<Figure size 432x288 with 2 Axes>"
      ]
     },
     "metadata": {
      "needs_background": "light"
     },
     "output_type": "display_data"
    }
   ],
   "source": [
    "plt.scatter(x[:,0],x[:,1], c=y[:,0], cmap=plt.cm.get_cmap('jet'))\n",
    "plt.colorbar(label='Value of XOR')\n",
    "plt.clim(-0.5,1.5)\n",
    "for i,v in enumerate(y[:,0]):\n",
    "    plt.annotate(v, (x[i,0]+.02, x[i,1]+.02))"
   ]
  },
  {
   "cell_type": "markdown",
   "metadata": {
    "colab_type": "text",
    "id": "AHExNlPHoaTT"
   },
   "source": [
    "### Definiere Modell\n",
    "Wir verwenden ein neuronales Netz mit einem Hidden Layer, das aus zwei Neuronen besteht. Als Aktivierungsfunktion verwenden wir ``relu``."
   ]
  },
  {
   "cell_type": "code",
   "execution_count": 51,
   "metadata": {
    "colab": {
     "base_uri": "https://localhost:8080/",
     "height": 547
    },
    "colab_type": "code",
    "executionInfo": {
     "elapsed": 708,
     "status": "ok",
     "timestamp": 1571052352268,
     "user": {
      "displayName": "Christian Möller",
      "photoUrl": "",
      "userId": "02872032824376165285"
     },
     "user_tz": -120
    },
    "id": "0W-reXCmoaTU",
    "outputId": "ab8e8391-fd7f-406d-d30e-aabbeea8bb70"
   },
   "outputs": [
    {
     "name": "stdout",
     "output_type": "stream",
     "text": [
      "Model: \"sequential\"\n",
      "_________________________________________________________________\n",
      "Layer (type)                 Output Shape              Param #   \n",
      "=================================================================\n",
      "Hidden (Dense)               (None, 2)                 6         \n",
      "_________________________________________________________________\n",
      "Output (Dense)               (None, 1)                 3         \n",
      "=================================================================\n",
      "Total params: 9\n",
      "Trainable params: 9\n",
      "Non-trainable params: 0\n",
      "_________________________________________________________________\n"
     ]
    }
   ],
   "source": [
    "keras.backend.clear_session()\n",
    "\n",
    "model = keras.models.Sequential()\n",
    "model.add(keras.layers.Dense(2, input_dim=2,activation = \"relu\", name=\"Hidden\")) #Layer 1\n",
    "model.add(keras.layers.Dense(1, activation = \"linear\", name=\"Output\")) #Output Layer\n",
    "\n",
    "model.compile(optimizer='sgd',loss='mean_squared_error')\n",
    "model.summary()\n",
    "#keras.utils.plot_model(model)"
   ]
  },
  {
   "cell_type": "markdown",
   "metadata": {
    "colab_type": "text",
    "id": "KKlu4f1voaTW"
   },
   "source": [
    "### Trainiere Modell"
   ]
  },
  {
   "cell_type": "code",
   "execution_count": 55,
   "metadata": {
    "colab": {
     "base_uri": "https://localhost:8080/",
     "height": 1000
    },
    "colab_type": "code",
    "executionInfo": {
     "elapsed": 1764,
     "status": "ok",
     "timestamp": 1571052515593,
     "user": {
      "displayName": "Christian Möller",
      "photoUrl": "",
      "userId": "02872032824376165285"
     },
     "user_tz": -120
    },
    "id": "bfnypzUyoaTX",
    "outputId": "ac3114af-e87a-4de9-c5b8-2deda6d330ba"
   },
   "outputs": [
    {
     "name": "stdout",
     "output_type": "stream",
     "text": [
      "Epoch 1/50\n",
      "4/4 [==============================] - 0s 2ms/sample - loss: 0.1955\n",
      "Epoch 2/50\n",
      "4/4 [==============================] - 0s 2ms/sample - loss: 0.1930\n",
      "Epoch 3/50\n",
      "4/4 [==============================] - 0s 2ms/sample - loss: 0.1900\n",
      "Epoch 4/50\n",
      "4/4 [==============================] - 0s 2ms/sample - loss: 0.1863\n",
      "Epoch 5/50\n",
      "4/4 [==============================] - 0s 2ms/sample - loss: 0.1825\n",
      "Epoch 6/50\n",
      "4/4 [==============================] - 0s 2ms/sample - loss: 0.1800\n",
      "Epoch 7/50\n",
      "4/4 [==============================] - 0s 2ms/sample - loss: 0.1789\n",
      "Epoch 8/50\n",
      "4/4 [==============================] - 0s 2ms/sample - loss: 0.1754\n",
      "Epoch 9/50\n",
      "4/4 [==============================] - 0s 2ms/sample - loss: 0.1711\n",
      "Epoch 10/50\n",
      "4/4 [==============================] - 0s 1ms/sample - loss: 0.1675\n",
      "Epoch 11/50\n",
      "4/4 [==============================] - 0s 2ms/sample - loss: 0.1690\n",
      "Epoch 12/50\n",
      "4/4 [==============================] - 0s 1ms/sample - loss: 0.1650\n",
      "Epoch 13/50\n",
      "4/4 [==============================] - 0s 2ms/sample - loss: 0.1639\n",
      "Epoch 14/50\n",
      "4/4 [==============================] - 0s 1ms/sample - loss: 0.1607\n",
      "Epoch 15/50\n",
      "4/4 [==============================] - 0s 2ms/sample - loss: 0.1574\n",
      "Epoch 16/50\n",
      "4/4 [==============================] - 0s 1ms/sample - loss: 0.1526\n",
      "Epoch 17/50\n",
      "4/4 [==============================] - 0s 1ms/sample - loss: 0.1580\n",
      "Epoch 18/50\n",
      "4/4 [==============================] - 0s 1ms/sample - loss: 0.1563\n",
      "Epoch 19/50\n",
      "4/4 [==============================] - 0s 1ms/sample - loss: 0.1532\n",
      "Epoch 20/50\n",
      "4/4 [==============================] - 0s 2ms/sample - loss: 0.1492\n",
      "Epoch 21/50\n",
      "4/4 [==============================] - 0s 2ms/sample - loss: 0.1479\n",
      "Epoch 22/50\n",
      "4/4 [==============================] - 0s 1ms/sample - loss: 0.1445\n",
      "Epoch 23/50\n",
      "4/4 [==============================] - 0s 1ms/sample - loss: 0.1468\n",
      "Epoch 24/50\n",
      "4/4 [==============================] - 0s 1ms/sample - loss: 0.1427\n",
      "Epoch 25/50\n",
      "4/4 [==============================] - 0s 2ms/sample - loss: 0.1405\n",
      "Epoch 26/50\n",
      "4/4 [==============================] - 0s 1ms/sample - loss: 0.1397\n",
      "Epoch 27/50\n",
      "4/4 [==============================] - 0s 1ms/sample - loss: 0.1374\n",
      "Epoch 28/50\n",
      "4/4 [==============================] - 0s 2ms/sample - loss: 0.1368\n",
      "Epoch 29/50\n",
      "4/4 [==============================] - 0s 1ms/sample - loss: 0.1329\n",
      "Epoch 30/50\n",
      "4/4 [==============================] - 0s 2ms/sample - loss: 0.1344\n",
      "Epoch 31/50\n",
      "4/4 [==============================] - 0s 1ms/sample - loss: 0.1311\n",
      "Epoch 32/50\n",
      "4/4 [==============================] - 0s 1ms/sample - loss: 0.1301\n",
      "Epoch 33/50\n",
      "4/4 [==============================] - 0s 2ms/sample - loss: 0.1284\n",
      "Epoch 34/50\n",
      "4/4 [==============================] - 0s 1ms/sample - loss: 0.1264\n",
      "Epoch 35/50\n",
      "4/4 [==============================] - 0s 2ms/sample - loss: 0.1248\n",
      "Epoch 36/50\n",
      "4/4 [==============================] - 0s 1ms/sample - loss: 0.1256\n",
      "Epoch 37/50\n",
      "4/4 [==============================] - 0s 2ms/sample - loss: 0.1223\n",
      "Epoch 38/50\n",
      "4/4 [==============================] - 0s 1ms/sample - loss: 0.1226\n",
      "Epoch 39/50\n",
      "4/4 [==============================] - 0s 1ms/sample - loss: 0.1191\n",
      "Epoch 40/50\n",
      "4/4 [==============================] - 0s 2ms/sample - loss: 0.1189\n",
      "Epoch 41/50\n",
      "4/4 [==============================] - 0s 1ms/sample - loss: 0.1149\n",
      "Epoch 42/50\n",
      "4/4 [==============================] - 0s 1ms/sample - loss: 0.1186\n",
      "Epoch 43/50\n",
      "4/4 [==============================] - 0s 1ms/sample - loss: 0.1126\n",
      "Epoch 44/50\n",
      "4/4 [==============================] - 0s 1ms/sample - loss: 0.1160\n",
      "Epoch 45/50\n",
      "4/4 [==============================] - 0s 2ms/sample - loss: 0.1140\n",
      "Epoch 46/50\n",
      "4/4 [==============================] - 0s 1ms/sample - loss: 0.1092\n",
      "Epoch 47/50\n",
      "4/4 [==============================] - 0s 2ms/sample - loss: 0.1104\n",
      "Epoch 48/50\n",
      "4/4 [==============================] - 0s 1ms/sample - loss: 0.1080\n",
      "Epoch 49/50\n",
      "4/4 [==============================] - 0s 2ms/sample - loss: 0.1084\n",
      "Epoch 50/50\n",
      "4/4 [==============================] - 0s 1ms/sample - loss: 0.1060\n"
     ]
    }
   ],
   "source": [
    "history = model.fit(x, y, epochs=50, batch_size=1);"
   ]
  },
  {
   "cell_type": "markdown",
   "metadata": {
    "colab_type": "text",
    "id": "YA6BocxWoaTZ"
   },
   "source": [
    "### Betrachte Ergebnis"
   ]
  },
  {
   "cell_type": "code",
   "execution_count": 56,
   "metadata": {
    "colab": {
     "base_uri": "https://localhost:8080/",
     "height": 34
    },
    "colab_type": "code",
    "executionInfo": {
     "elapsed": 500,
     "status": "ok",
     "timestamp": 1571052695969,
     "user": {
      "displayName": "Christian Möller",
      "photoUrl": "",
      "userId": "02872032824376165285"
     },
     "user_tz": -120
    },
    "id": "hEbvjRMaoaTa",
    "outputId": "da58e9c0-0e52-4573-f3b1-7484b5d94957"
   },
   "outputs": [
    {
     "data": {
      "text/plain": [
       "array([0.31820023, 0.7335053 , 0.6334305 , 0.26590657], dtype=float32)"
      ]
     },
     "execution_count": 56,
     "metadata": {},
     "output_type": "execute_result"
    }
   ],
   "source": [
    "y_learned = model.predict(x)[:,0]\n",
    "y_learned"
   ]
  },
  {
   "cell_type": "code",
   "execution_count": 57,
   "metadata": {
    "colab": {
     "base_uri": "https://localhost:8080/",
     "height": 269
    },
    "colab_type": "code",
    "executionInfo": {
     "elapsed": 853,
     "status": "ok",
     "timestamp": 1571052728336,
     "user": {
      "displayName": "Christian Möller",
      "photoUrl": "",
      "userId": "02872032824376165285"
     },
     "user_tz": -120
    },
    "id": "QMn7mLF-oaTc",
    "outputId": "664eccc9-342e-4780-c557-c4218d81e6c5"
   },
   "outputs": [
    {
     "data": {
      "image/png": "[encoded data removed]",
      "text/plain": [
       "<Figure size 432x288 with 2 Axes>"
      ]
     },
     "metadata": {
      "needs_background": "light"
     },
     "output_type": "display_data"
    }
   ],
   "source": [
    "plt.scatter(x[:,0],x[:,1], c=y_learned, cmap=plt.cm.get_cmap('jet'))\n",
    "plt.colorbar(label='Value of XOR')\n",
    "plt.clim(-0.5,1.5)\n",
    "\n",
    "for i,v in enumerate(y_learned):\n",
    "    plt.annotate(v, (x[i,0]+.02, x[i,1]+.02))"
   ]
  },
  {
   "cell_type": "markdown",
   "metadata": {
    "colab_type": "text",
    "id": "hz2J7qfHoaTe"
   },
   "source": [
    "### Wie kommt das zustande?\n",
    "Untersuche die gelernten Gewichte:"
   ]
  },
  {
   "cell_type": "code",
   "execution_count": 58,
   "metadata": {
    "colab": {
     "base_uri": "https://localhost:8080/",
     "height": 34
    },
    "colab_type": "code",
    "executionInfo": {
     "elapsed": 732,
     "status": "ok",
     "timestamp": 1571052792719,
     "user": {
      "displayName": "Christian Möller",
      "photoUrl": "",
      "userId": "02872032824376165285"
     },
     "user_tz": -120
    },
    "id": "6EUq9Fl_oaTf",
    "outputId": "6da1970f-b690-4a4a-cf58-1bc7e944e89a"
   },
   "outputs": [
    {
     "data": {
      "text/plain": [
       "'Hidden'"
      ]
     },
     "execution_count": 58,
     "metadata": {},
     "output_type": "execute_result"
    }
   ],
   "source": [
    "hidden = model.layers[0]\n",
    "hidden.name"
   ]
  },
  {
   "cell_type": "code",
   "execution_count": 59,
   "metadata": {
    "colab": {
     "base_uri": "https://localhost:8080/",
     "height": 34
    },
    "colab_type": "code",
    "executionInfo": {
     "elapsed": 456,
     "status": "ok",
     "timestamp": 1571052793289,
     "user": {
      "displayName": "Christian Möller",
      "photoUrl": "",
      "userId": "02872032824376165285"
     },
     "user_tz": -120
    },
    "id": "0g46wZjnoaTh",
    "outputId": "8b3832c6-09c9-4240-cf4e-cbb7b39f3339"
   },
   "outputs": [
    {
     "data": {
      "text/plain": [
       "'Output'"
      ]
     },
     "execution_count": 59,
     "metadata": {},
     "output_type": "execute_result"
    }
   ],
   "source": [
    "output = model.layers[1]\n",
    "output.name"
   ]
  },
  {
   "cell_type": "code",
   "execution_count": 60,
   "metadata": {
    "colab": {},
    "colab_type": "code",
    "id": "tXiJRY28oaTj"
   },
   "outputs": [],
   "source": [
    "w_hidden, b_hidden = hidden.get_weights()\n",
    "w_out, b_out = output.get_weights()"
   ]
  },
  {
   "cell_type": "code",
   "execution_count": 61,
   "metadata": {
    "colab": {
     "base_uri": "https://localhost:8080/",
     "height": 68
    },
    "colab_type": "code",
    "executionInfo": {
     "elapsed": 465,
     "status": "ok",
     "timestamp": 1571052827225,
     "user": {
      "displayName": "Christian Möller",
      "photoUrl": "",
      "userId": "02872032824376165285"
     },
     "user_tz": -120
    },
    "id": "-NUPoFFioaTl",
    "outputId": "9fc4a8e8-2a9a-498a-e4c0-a2da9cffe0f1"
   },
   "outputs": [
    {
     "data": {
      "text/plain": [
       "(array([[0.5692136 , 0.32826853],\n",
       "        [0.59770375, 0.472384  ]], dtype=float32),\n",
       " array([-0.5698429 ,  0.15289497], dtype=float32))"
      ]
     },
     "execution_count": 61,
     "metadata": {},
     "output_type": "execute_result"
    }
   ],
   "source": [
    "w_hidden, b_hidden"
   ]
  },
  {
   "cell_type": "code",
   "execution_count": 62,
   "metadata": {
    "colab": {
     "base_uri": "https://localhost:8080/",
     "height": 51
    },
    "colab_type": "code",
    "executionInfo": {
     "elapsed": 496,
     "status": "ok",
     "timestamp": 1571052850532,
     "user": {
      "displayName": "Christian Möller",
      "photoUrl": "",
      "userId": "02872032824376165285"
     },
     "user_tz": -120
    },
    "id": "Ip23lBhOoaTn",
    "outputId": "69365e22-787b-461a-afba-518e9b06468d"
   },
   "outputs": [
    {
     "data": {
      "text/plain": [
       "(array([[-1.3752817 ],\n",
       "        [ 0.96028167]], dtype=float32), array([0.17137797], dtype=float32))"
      ]
     },
     "execution_count": 62,
     "metadata": {},
     "output_type": "execute_result"
    }
   ],
   "source": [
    "w_out, b_out"
   ]
  },
  {
   "cell_type": "markdown",
   "metadata": {
    "colab_type": "text",
    "id": "sIy_AnhSoaTp"
   },
   "source": [
    "### \"Perfekte\" Werte\n",
    "Eine perfekte Lösung würde erreicht mit folgenden Werten:  \n",
    "w_hidden = [[1,1], [1,1]]  \n",
    "b_hidden = [0, -1]  \n",
    "w_out = [1, -2]  \n",
    "b_out = 0"
   ]
  },
  {
   "cell_type": "markdown",
   "metadata": {
    "colab_type": "text",
    "id": "ANi-Nct8oaTr"
   },
   "source": [
    "Wenn wir diese verwenden, funktioniert es:"
   ]
  },
  {
   "cell_type": "markdown",
   "metadata": {
    "colab_type": "text",
    "id": "LnSr_-6JoaTr"
   },
   "source": [
    "Hidden Layer:"
   ]
  },
  {
   "cell_type": "code",
   "execution_count": 63,
   "metadata": {
    "colab": {},
    "colab_type": "code",
    "id": "uh2E23asoaTs"
   },
   "outputs": [],
   "source": [
    "# Erzeuge Array mit den korrekten Gewichten:\n",
    "l=[]\n",
    "w=np.array([[1,1],[1,1]]) #weights\n",
    "b=np.array([0,-1]) #array of biases\n",
    "l.append(w)\n",
    "l.append(b)\n",
    "\n",
    "# Setze die Gewichte des Hidden Layers entsprechend\n",
    "hidden.set_weights(l)"
   ]
  },
  {
   "cell_type": "markdown",
   "metadata": {
    "colab_type": "text",
    "id": "1n3rwsx0oaTu"
   },
   "source": [
    "Output Layer:"
   ]
  },
  {
   "cell_type": "code",
   "execution_count": 64,
   "metadata": {
    "colab": {},
    "colab_type": "code",
    "id": "3D-m3m3LoaTw"
   },
   "outputs": [],
   "source": [
    "# Erzeuge Array mit den korrekten Gewichten:\n",
    "l=[]\n",
    "w=np.array([[1],[-2]]) #weights\n",
    "b=np.array([0]) #array of biases\n",
    "l.append(w)\n",
    "l.append(b)\n",
    "\n",
    "# Setze die Gewichte des Output Layers entsprechend\n",
    "output.set_weights(l)"
   ]
  },
  {
   "cell_type": "markdown",
   "metadata": {
    "colab_type": "text",
    "id": "cDJxBsWyoaTx"
   },
   "source": [
    "Liefert folgenden Ergebnis:"
   ]
  },
  {
   "cell_type": "code",
   "execution_count": 65,
   "metadata": {
    "colab": {
     "base_uri": "https://localhost:8080/",
     "height": 34
    },
    "colab_type": "code",
    "executionInfo": {
     "elapsed": 483,
     "status": "ok",
     "timestamp": 1571052934672,
     "user": {
      "displayName": "Christian Möller",
      "photoUrl": "",
      "userId": "02872032824376165285"
     },
     "user_tz": -120
    },
    "id": "oo45ODploaTy",
    "outputId": "e6758e36-7ed4-4066-9dbe-c34d977e4680"
   },
   "outputs": [
    {
     "data": {
      "text/plain": [
       "array([0., 1., 1., 0.], dtype=float32)"
      ]
     },
     "execution_count": 65,
     "metadata": {},
     "output_type": "execute_result"
    }
   ],
   "source": [
    "y_learned = model.predict(x)[:,0]\n",
    "y_learned"
   ]
  },
  {
   "cell_type": "markdown",
   "metadata": {
    "colab_type": "text",
    "id": "rqFtlqsYt1Iw"
   },
   "source": [
    "## Kann das nicht auch trainiert werden?"
   ]
  },
  {
   "cell_type": "code",
   "execution_count": 97,
   "metadata": {
    "colab": {},
    "colab_type": "code",
    "id": "Ms6VItyxvya-"
   },
   "outputs": [],
   "source": [
    "keras.backend.clear_session()\n",
    "\n",
    "model = keras.models.Sequential()\n",
    "model.add(keras.layers.Dense(2, input_dim=2,activation = \"relu\", name=\"Hidden\", kernel_initializer=\"he_uniform\")) #Layer 1\n",
    "model.add(keras.layers.Dense(1, activation = \"linear\", name=\"Output\")) #Output Layer\n",
    "\n",
    "model.compile(optimizer='sgd',loss='mean_squared_error')\n",
    "\n",
    "# Anfängliche Gewichte:\n",
    "hidden = model.layers[0]\n",
    "output = model.layers[1]\n",
    "w_hidden_start, b_hidden_start = hidden.get_weights()\n",
    "w_out_start, b_out_start = output.get_weights()"
   ]
  },
  {
   "cell_type": "markdown",
   "metadata": {
    "colab_type": "text",
    "id": "O6cF71d16T5f"
   },
   "source": [
    "### Durchrechnen des Modells mit den Startwerten der Gewichte\n",
    "Hypothese: Wir benötigen einen *brauchbaren* Startwert für die Gewichte, sonst läuft der Optimierer in ein lokales Minimum und bleibt dort stecken."
   ]
  },
  {
   "cell_type": "code",
   "execution_count": 67,
   "metadata": {
    "colab": {
     "base_uri": "https://localhost:8080/",
     "height": 170
    },
    "colab_type": "code",
    "executionInfo": {
     "elapsed": 500,
     "status": "ok",
     "timestamp": 1571053049353,
     "user": {
      "displayName": "Christian Möller",
      "photoUrl": "",
      "userId": "02872032824376165285"
     },
     "user_tz": -120
    },
    "id": "VH5v-EddwMI9",
    "outputId": "513f55e6-3672-48b4-94aa-78717840ded3"
   },
   "outputs": [
    {
     "name": "stdout",
     "output_type": "stream",
     "text": [
      "Hidden Layer:\n",
      " w=  [[ 1.714008  -1.2689549]\n",
      " [-1.4098375 -1.3554462]] \n",
      " b= [0. 0.] \n",
      "\n",
      " Output Layer:\n",
      " w= [[-0.9529048 ]\n",
      " [-0.34539616]] \n",
      " b= [0.]\n"
     ]
    }
   ],
   "source": [
    "print(\"Hidden Layer:\\n w= \", w_hidden_start, \"\\n b=\", b_hidden_start, \"\\n\\n Output Layer:\\n w=\", w_out_start, \"\\n b=\", b_out_start)"
   ]
  },
  {
   "cell_type": "markdown",
   "metadata": {
    "colab_type": "text",
    "id": "rmT6hFY219yl"
   },
   "source": [
    "#### Aus diesen Werten können wir ggf. auch manuell die Ergebnisse berechnen:\n",
    "\n",
    "\n",
    "1.   Verwende Matrixprodukt `np.dot()`, um $x^T W + b$ zu berechnen.\n",
    "> - Das ergibt einen Vektor, der die Werte der Neuronen im Hidden Layer vor Anwendung der Aktivierungsfunktion angibt.\n",
    "2.   Wende Aktivierungsfunktion (`ReLU`) an, d.h. $\\max(0, \\cdot)$\n",
    "> - Das ergibt einen Vektor, der das Endergebnis der Neuronen im Hidden Layer angibt.\n",
    "3. Verwende wieder das Matrixprodukt, um die Linearkombination + Bias im Output Layer zu berechnen.\n",
    "> - Das ist das Endergebnis."
   ]
  },
  {
   "cell_type": "code",
   "execution_count": 71,
   "metadata": {
    "colab": {
     "base_uri": "https://localhost:8080/",
     "height": 34
    },
    "colab_type": "code",
    "executionInfo": {
     "elapsed": 492,
     "status": "ok",
     "timestamp": 1571053132685,
     "user": {
      "displayName": "Christian Möller",
      "photoUrl": "",
      "userId": "02872032824376165285"
     },
     "user_tz": -120
    },
    "id": "ycqFtzWdyipF",
    "outputId": "d2d36af5-9f93-4be4-f496-80c526b48893"
   },
   "outputs": [
    {
     "data": {
      "text/plain": [
       "array([ 0.30417049, -2.62440109])"
      ]
     },
     "execution_count": 71,
     "metadata": {},
     "output_type": "execute_result"
    }
   ],
   "source": [
    "np.dot([1,1],w_hidden_start) + b_hidden_start   # Hidden Layer vor Aktivierungsfunktion"
   ]
  },
  {
   "cell_type": "code",
   "execution_count": 72,
   "metadata": {
    "colab": {
     "base_uri": "https://localhost:8080/",
     "height": 34
    },
    "colab_type": "code",
    "executionInfo": {
     "elapsed": 491,
     "status": "ok",
     "timestamp": 1571053212066,
     "user": {
      "displayName": "Christian Möller",
      "photoUrl": "",
      "userId": "02872032824376165285"
     },
     "user_tz": -120
    },
    "id": "HV7NQgmQ02_a",
    "outputId": "72cddd2a-425d-4880-d03a-4ca78430d06e"
   },
   "outputs": [
    {
     "data": {
      "text/plain": [
       "array([-0.28984553])"
      ]
     },
     "execution_count": 72,
     "metadata": {},
     "output_type": "execute_result"
    }
   ],
   "source": [
    "np.dot([0.30417049,  0], w_out_start) + b_out_start   # Wende ReLU auf obiges Ergebnis an und verwende entsprechende Werte hier"
   ]
  },
  {
   "cell_type": "markdown",
   "metadata": {
    "colab_type": "text",
    "id": "ADEQc8-M52ms"
   },
   "source": [
    "#### Natürlich können wir dieses Ergebnis auch bekommen, wenn wir die aktuelle Version des Modells auf die `x`-Daten anwenden:"
   ]
  },
  {
   "cell_type": "code",
   "execution_count": 80,
   "metadata": {
    "colab": {
     "base_uri": "https://localhost:8080/",
     "height": 85
    },
    "colab_type": "code",
    "executionInfo": {
     "elapsed": 477,
     "status": "ok",
     "timestamp": 1571053249840,
     "user": {
      "displayName": "Christian Möller",
      "photoUrl": "",
      "userId": "02872032824376165285"
     },
     "user_tz": -120
    },
    "id": "iMazX8T21HF2",
    "outputId": "5da88644-2f6f-4a71-b6f7-1d204a756e0c"
   },
   "outputs": [
    {
     "data": {
      "text/plain": [
       "array([[0.        ],\n",
       "       [0.98979014],\n",
       "       [0.        ],\n",
       "       [0.5902184 ]], dtype=float32)"
      ]
     },
     "execution_count": 80,
     "metadata": {},
     "output_type": "execute_result"
    }
   ],
   "source": [
    "model.predict(x)"
   ]
  },
  {
   "cell_type": "markdown",
   "metadata": {
    "colab_type": "text",
    "id": "Mc-xkXNe1w-s"
   },
   "source": [
    "## Trainieren"
   ]
  },
  {
   "cell_type": "code",
   "execution_count": 102,
   "metadata": {
    "colab": {
     "base_uri": "https://localhost:8080/",
     "height": 238
    },
    "colab_type": "code",
    "executionInfo": {
     "elapsed": 3526,
     "status": "ok",
     "timestamp": 1571053652957,
     "user": {
      "displayName": "Christian Möller",
      "photoUrl": "",
      "userId": "02872032824376165285"
     },
     "user_tz": -120
    },
    "id": "ld8ldrGB6tDl",
    "outputId": "39ecec91-ab22-4aae-fbde-a60e05b30cb6"
   },
   "outputs": [
    {
     "name": "stdout",
     "output_type": "stream",
     "text": [
      "Vorhersage mit Ausgangsmodell:\n",
      " [[0.00295918]\n",
      " [0.99850225]\n",
      " [0.9978121 ]\n",
      " [0.00295918]] \n",
      "\n",
      " Modell wird trainiert...\n",
      "\n",
      "Vorhersage mit trainiertem Modell:\n",
      " [[6.709470e-04]\n",
      " [9.996630e-01]\n",
      " [9.995106e-01]\n",
      " [6.709470e-04]]\n"
     ]
    }
   ],
   "source": [
    "print(\"Vorhersage mit Ausgangsmodell:\\n\", model.predict(x), \"\\n\\n Modell wird trainiert...\\n\")\n",
    "history = model.fit(x, y, epochs=100, batch_size=1, verbose=0);\n",
    "print(\"Vorhersage mit trainiertem Modell:\\n\", model.predict(x))"
   ]
  },
  {
   "cell_type": "markdown",
   "metadata": {
    "colab_type": "text",
    "id": "jfA_-XsO-u5C"
   },
   "source": [
    "## Was macht das Hidden Layer?"
   ]
  },
  {
   "cell_type": "markdown",
   "metadata": {
    "colab_type": "text",
    "id": "MnL9ytun2HXb"
   },
   "source": [
    "Wir extrahieren die Gewichte des Hidden Layer:"
   ]
  },
  {
   "cell_type": "code",
   "execution_count": 103,
   "metadata": {
    "colab": {},
    "colab_type": "code",
    "id": "YMYtQGvPPsot"
   },
   "outputs": [],
   "source": [
    "w_hidden, b_hidden = model.layers[0].get_weights()\n",
    "w_out, b_out = model.layers[1].get_weights()"
   ]
  },
  {
   "cell_type": "code",
   "execution_count": 104,
   "metadata": {
    "colab": {
     "base_uri": "https://localhost:8080/",
     "height": 68
    },
    "colab_type": "code",
    "executionInfo": {
     "elapsed": 578,
     "status": "ok",
     "timestamp": 1571053576375,
     "user": {
      "displayName": "Christian Möller",
      "photoUrl": "",
      "userId": "02872032824376165285"
     },
     "user_tz": -120
    },
    "id": "KXoxwQHgM_3h",
    "outputId": "a02b2a76-d68b-41d0-8bb6-a96304ccf38a"
   },
   "outputs": [
    {
     "data": {
      "text/plain": [
       "(array([[ 1.1422195, -1.5905396],\n",
       "        [-1.142216 ,  1.1892426]], dtype=float32),\n",
       " array([-1.1129525e-05, -4.1458657e-06], dtype=float32))"
      ]
     },
     "execution_count": 104,
     "metadata": {},
     "output_type": "execute_result"
    }
   ],
   "source": [
    "w_hidden, b_hidden"
   ]
  },
  {
   "cell_type": "markdown",
   "metadata": {
    "colab_type": "text",
    "id": "lJvRloVY2Nbx"
   },
   "source": [
    "Nun lassen wir alle vier Datenpunkte durch das Hidden Layer laufen:\n",
    "\n",
    "Zuerst nur durch die affine Transformation..."
   ]
  },
  {
   "cell_type": "code",
   "execution_count": 105,
   "metadata": {
    "colab": {
     "base_uri": "https://localhost:8080/",
     "height": 87
    },
    "colab_type": "code",
    "executionInfo": {
     "elapsed": 497,
     "status": "ok",
     "timestamp": 1571038880249,
     "user": {
      "displayName": "Christian Möller",
      "photoUrl": "",
      "userId": "02872032824376165285"
     },
     "user_tz": -120
    },
    "id": "cSwXOSMcQWP4",
    "outputId": "0ec60548-c372-42ff-ef97-6f3c9b4e72fa"
   },
   "outputs": [
    {
     "data": {
      "text/plain": [
       "array([[-1.11295249e-05, -4.14586566e-06],\n",
       "       [-1.14222710e+00,  1.18923846e+00],\n",
       "       [ 1.14220841e+00, -1.59054372e+00],\n",
       "       [-7.55324618e-06, -4.01301119e-01]])"
      ]
     },
     "execution_count": 105,
     "metadata": {},
     "output_type": "execute_result"
    }
   ],
   "source": [
    "interim_result_hidden = np.dot(x,w_hidden) + b_hidden\n",
    "interim_result_hidden"
   ]
  },
  {
   "cell_type": "markdown",
   "metadata": {
    "colab_type": "text",
    "id": "V6fqo9XK2bFq"
   },
   "source": [
    "... und dann noch durch die ReLU-Aktivierungsfunktion:"
   ]
  },
  {
   "cell_type": "code",
   "execution_count": 106,
   "metadata": {
    "colab": {
     "base_uri": "https://localhost:8080/",
     "height": 87
    },
    "colab_type": "code",
    "executionInfo": {
     "elapsed": 498,
     "status": "ok",
     "timestamp": 1571038912909,
     "user": {
      "displayName": "Christian Möller",
      "photoUrl": "",
      "userId": "02872032824376165285"
     },
     "user_tz": -120
    },
    "id": "4J35VAozNSst",
    "outputId": "a2ba272c-2b45-487c-a9a7-5a68ed3e66a7"
   },
   "outputs": [
    {
     "data": {
      "text/plain": [
       "array([[0.        , 0.        ],\n",
       "       [0.        , 1.18923846],\n",
       "       [1.14220841, 0.        ],\n",
       "       [0.        , 0.        ]])"
      ]
     },
     "execution_count": 106,
     "metadata": {},
     "output_type": "execute_result"
    }
   ],
   "source": [
    "result_hidden = np.maximum(interim_result_hidden, 0)\n",
    "result_hidden"
   ]
  },
  {
   "cell_type": "markdown",
   "metadata": {
    "colab_type": "text",
    "id": "7MqyWE2K2myz"
   },
   "source": [
    "Nun visualisieren wir, was das Hidden Layer insgesamt aus den vier Datenpunkten gemacht hat. Wir plotten dazu das aktuelle Bild dieser vier Punkte:"
   ]
  },
  {
   "cell_type": "code",
   "execution_count": 107,
   "metadata": {
    "colab": {
     "base_uri": "https://localhost:8080/",
     "height": 287
    },
    "colab_type": "code",
    "executionInfo": {
     "elapsed": 647,
     "status": "ok",
     "timestamp": 1571039726571,
     "user": {
      "displayName": "Christian Möller",
      "photoUrl": "",
      "userId": "02872032824376165285"
     },
     "user_tz": -120
    },
    "id": "5mb1LplySNoI",
    "outputId": "d794fb40-d218-46f9-e343-1de7d1901d94"
   },
   "outputs": [
    {
     "data": {
      "text/plain": [
       "<matplotlib.collections.PathCollection at 0x1fd68b4e240>"
      ]
     },
     "execution_count": 107,
     "metadata": {},
     "output_type": "execute_result"
    },
    {
     "data": {
      "image/png": "[encoded data removed]",
      "text/plain": [
       "<Figure size 432x288 with 1 Axes>"
      ]
     },
     "metadata": {
      "needs_background": "light"
     },
     "output_type": "display_data"
    }
   ],
   "source": [
    "plt.scatter(result_hidden[:,0], result_hidden[:,1])"
   ]
  },
  {
   "cell_type": "markdown",
   "metadata": {
    "colab_type": "text",
    "id": "_gefP-5n22gI"
   },
   "source": [
    "Das sind nur drei, denn die beiden Punkte $(0,1)$ und $(1,0)$ wurden offenbar auf nahezu den gleichen Punkt abgebildet (s.o. die genauen Zahlen in ``result_hidden``). Diese drei Punkte können nun vom Output Layer linear getrennt werden."
   ]
  },
  {
   "cell_type": "code",
   "execution_count": 108,
   "metadata": {
    "colab": {
     "base_uri": "https://localhost:8080/",
     "height": 87
    },
    "colab_type": "code",
    "executionInfo": {
     "elapsed": 482,
     "status": "ok",
     "timestamp": 1571038931548,
     "user": {
      "displayName": "Christian Möller",
      "photoUrl": "",
      "userId": "02872032824376165285"
     },
     "user_tz": -120
    },
    "id": "Xv5Pj1B-RBYI",
    "outputId": "acd088f6-bb65-415a-b7a2-f264e978b886"
   },
   "outputs": [
    {
     "data": {
      "text/plain": [
       "array([[6.70947018e-04],\n",
       "       [9.99662975e-01],\n",
       "       [9.99510529e-01],\n",
       "       [6.70947018e-04]])"
      ]
     },
     "execution_count": 108,
     "metadata": {},
     "output_type": "execute_result"
    }
   ],
   "source": [
    "np.dot(result_hidden,w_out) + b_out"
   ]
  },
  {
   "cell_type": "markdown",
   "metadata": {
    "colab_type": "text",
    "id": "6fqk_J913eLn"
   },
   "source": [
    "In der Tat steht die Richtung, die zum Bild des Punktes $(1,1)$ zeigt nahezu senkrecht auf dem Gewichtsvektor ``w_out``. Das ist gut, denn der Punkt $(1,1)$ soll ja vom Modell auf 0 abgebildet werden."
   ]
  },
  {
   "cell_type": "code",
   "execution_count": 109,
   "metadata": {
    "colab": {
     "base_uri": "https://localhost:8080/",
     "height": 35
    },
    "colab_type": "code",
    "executionInfo": {
     "elapsed": 481,
     "status": "ok",
     "timestamp": 1571039792634,
     "user": {
      "displayName": "Christian Möller",
      "photoUrl": "",
      "userId": "02872032824376165285"
     },
     "user_tz": -120
    },
    "id": "Q7ZUCON3Pzhx",
    "outputId": "328fe591-69ef-417c-bf8d-809c8c2b715c"
   },
   "outputs": [
    {
     "data": {
      "text/plain": [
       "array([0.])"
      ]
     },
     "execution_count": 109,
     "metadata": {},
     "output_type": "execute_result"
    }
   ],
   "source": [
    "np.dot(result_hidden[3], w_out)"
   ]
  },
  {
   "cell_type": "code",
   "execution_count": null,
   "metadata": {
    "colab": {},
    "colab_type": "code",
    "id": "ANkZkWz2RQTr"
   },
   "outputs": [],
   "source": []
  }
 ],
 "metadata": {
  "colab": {
   "collapsed_sections": [],
   "name": "Perceptron_XOR.ipynb",
   "provenance": [
    {
     "file_id": "1oslktqnGLOVtm0GrqdPVeHLiHkeJlG52",
     "timestamp": 1570196334300
    }
   ]
  },
  "kernelspec": {
   "display_name": "Python 3",
   "language": "python",
   "name": "python3"
  },
  "language_info": {
   "codemirror_mode": {
    "name": "ipython",
    "version": 3
   },
   "file_extension": ".py",
   "mimetype": "text/x-python",
   "name": "python",
   "nbconvert_exporter": "python",
   "pygments_lexer": "ipython3",
   "version": "3.7.3"
  }
 },
 "nbformat": 4,
 "nbformat_minor": 1
}
