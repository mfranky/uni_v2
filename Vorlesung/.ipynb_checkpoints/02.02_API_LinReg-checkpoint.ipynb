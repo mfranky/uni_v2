{
 "cells": [
  {
   "cell_type": "markdown",
   "metadata": {
    "colab_type": "text",
    "id": "OcfapN4RwagL"
   },
   "source": [
    "# Estimator API: Einfache lineare Regression (supervised)"
   ]
  },
  {
   "cell_type": "code",
   "execution_count": 1,
   "metadata": {
    "colab": {},
    "colab_type": "code",
    "id": "E4k81ZHvwagN"
   },
   "outputs": [],
   "source": [
    "%matplotlib inline\n",
    "import seaborn as sns; sns.set()"
   ]
  },
  {
   "cell_type": "markdown",
   "metadata": {
    "colab_type": "text",
    "id": "KkzFpMQxwagQ"
   },
   "source": [
    "## 0. Generiere Daten\n",
    "Wir generieren 50 zufällige Datenpunkte zwischen 0 und 10, die **ungefähr** auf der Geraden $y=2x-1$ liegen."
   ]
  },
  {
   "cell_type": "code",
   "execution_count": 2,
   "metadata": {
    "colab": {
     "base_uri": "https://localhost:8080/",
     "height": 600
    },
    "colab_type": "code",
    "executionInfo": {
     "elapsed": 700,
     "status": "ok",
     "timestamp": 1570789209572,
     "user": {
      "displayName": "Christian Möller",
      "photoUrl": "",
      "userId": "02872032824376165285"
     },
     "user_tz": -120
    },
    "id": "N7Wk0n1HwagQ",
    "outputId": "49e74dcc-00a9-47f7-9155-52f635b26ac7"
   },
   "outputs": [
    {
     "data": {
      "image/png": "[encoded data removed]",
      "text/plain": [
       "<Figure size 720x720 with 1 Axes>"
      ]
     },
     "metadata": {
      "needs_background": "light"
     },
     "output_type": "display_data"
    }
   ],
   "source": [
    "import matplotlib.pyplot as plt\n",
    "import numpy as np\n",
    "\n",
    "rng = np.random.RandomState(42)\n",
    "x = 10 * rng.rand(50)              # Erzeuge 50 zufällige x-Werte zwischen 0 und 10\n",
    "y = 2 * x - 1 + rng.randn(50)      # Erzeuge die y-Werte: y = 2x-1 + zufälliges Rauschen\n",
    "plt.figure(figsize=(10,10))\n",
    "plt.scatter(x, y);"
   ]
  },
  {
   "cell_type": "markdown",
   "metadata": {
    "colab_type": "text",
    "id": "D5lgjiW_wagT"
   },
   "source": [
    "## 1. Wähle Modellklasse"
   ]
  },
  {
   "cell_type": "code",
   "execution_count": 3,
   "metadata": {
    "colab": {},
    "colab_type": "code",
    "id": "DPLLvWyHwagU"
   },
   "outputs": [],
   "source": [
    "from sklearn.linear_model import LinearRegression"
   ]
  },
  {
   "cell_type": "markdown",
   "metadata": {
    "colab_type": "text",
    "id": "_XbzF2tdwagW"
   },
   "source": [
    "## 2. Wähle Modellparameter\n",
    "Alle Modelle sind ausführlich dokumentiert. Diese kann online eingesehen werden (\"sklearn Linearregression\") oder durch ein `?` aufgerufen werden."
   ]
  },
  {
   "cell_type": "code",
   "execution_count": 4,
   "metadata": {
    "colab": {},
    "colab_type": "code",
    "id": "2WcJ93Y8wagW"
   },
   "outputs": [],
   "source": [
    "LinearRegression?"
   ]
  },
  {
   "cell_type": "code",
   "execution_count": 7,
   "metadata": {
    "colab": {
     "base_uri": "https://localhost:8080/",
     "height": 34
    },
    "colab_type": "code",
    "executionInfo": {
     "elapsed": 485,
     "status": "ok",
     "timestamp": 1570789221318,
     "user": {
      "displayName": "Christian Möller",
      "photoUrl": "",
      "userId": "02872032824376165285"
     },
     "user_tz": -120
    },
    "id": "mucM0ruzwagY",
    "outputId": "a1cfd92f-825e-4b9d-9eb2-131be41b33f2"
   },
   "outputs": [
    {
     "data": {
      "text/plain": [
       "LinearRegression(copy_X=True, fit_intercept=True, n_jobs=None, normalize=False)"
      ]
     },
     "execution_count": 7,
     "metadata": {
      "tags": []
     },
     "output_type": "execute_result"
    }
   ],
   "source": [
    "model = LinearRegression(fit_intercept=True)\n",
    "model"
   ]
  },
  {
   "cell_type": "markdown",
   "metadata": {
    "colab_type": "text",
    "id": "r_HvBDG1waga"
   },
   "source": [
    "Bis hier ist noch nichts wesentliches passiert - es wurde nur das Modell angelegt, aber noch nicht auf die Daten angepasst."
   ]
  },
  {
   "cell_type": "markdown",
   "metadata": {
    "colab_type": "text",
    "id": "22KSWtt7waga"
   },
   "source": [
    "## 3. Bereite Daten vor"
   ]
  },
  {
   "cell_type": "code",
   "execution_count": 8,
   "metadata": {
    "colab": {
     "base_uri": "https://localhost:8080/",
     "height": 187
    },
    "colab_type": "code",
    "executionInfo": {
     "elapsed": 493,
     "status": "ok",
     "timestamp": 1570789269128,
     "user": {
      "displayName": "Christian Möller",
      "photoUrl": "",
      "userId": "02872032824376165285"
     },
     "user_tz": -120
    },
    "id": "foJa-v9pwagb",
    "outputId": "412e2274-48ec-40fb-b374-b4b824e615cd"
   },
   "outputs": [
    {
     "data": {
      "text/plain": [
       "array([3.74540119, 9.50714306, 7.31993942, 5.98658484, 1.5601864 ,\n",
       "       1.5599452 , 0.58083612, 8.66176146, 6.01115012, 7.08072578,\n",
       "       0.20584494, 9.69909852, 8.32442641, 2.12339111, 1.81824967,\n",
       "       1.8340451 , 3.04242243, 5.24756432, 4.31945019, 2.9122914 ,\n",
       "       6.11852895, 1.39493861, 2.92144649, 3.66361843, 4.56069984,\n",
       "       7.85175961, 1.99673782, 5.14234438, 5.92414569, 0.46450413,\n",
       "       6.07544852, 1.70524124, 0.65051593, 9.48885537, 9.65632033,\n",
       "       8.08397348, 3.04613769, 0.97672114, 6.84233027, 4.40152494,\n",
       "       1.22038235, 4.9517691 , 0.34388521, 9.09320402, 2.58779982,\n",
       "       6.62522284, 3.11711076, 5.20068021, 5.46710279, 1.84854456])"
      ]
     },
     "execution_count": 8,
     "metadata": {
      "tags": []
     },
     "output_type": "execute_result"
    }
   ],
   "source": [
    "x"
   ]
  },
  {
   "cell_type": "code",
   "execution_count": 9,
   "metadata": {
    "colab": {
     "base_uri": "https://localhost:8080/",
     "height": 187
    },
    "colab_type": "code",
    "executionInfo": {
     "elapsed": 525,
     "status": "ok",
     "timestamp": 1570789270446,
     "user": {
      "displayName": "Christian Möller",
      "photoUrl": "",
      "userId": "02872032824376165285"
     },
     "user_tz": -120
    },
    "id": "ueWtgeUAwagd",
    "outputId": "77b51eac-42a7-4dba-fe56-9a1668eda13c"
   },
   "outputs": [
    {
     "data": {
      "text/plain": [
       "array([ 7.22926896, 18.18565441, 13.52423055, 10.67206599,  0.64185082,\n",
       "        1.4000462 , -0.29896653, 17.38064514, 11.36591852, 11.3984114 ,\n",
       "       -0.26422614, 18.01311476, 14.97193082,  3.8584585 ,  3.66749887,\n",
       "        3.59937032,  4.24562734,  9.18591626,  7.9701638 ,  5.80012793,\n",
       "       10.75788366,  1.60421824,  3.736558  ,  5.13103024,  8.93392551,\n",
       "       16.05975926,  2.92146552, 10.28822167, 11.2099274 , -0.7161115 ,\n",
       "       11.51229264,  3.94851904,  0.26520582, 19.5423544 , 15.69289556,\n",
       "       15.98984947,  5.17932245,  0.65443493, 12.77642131,  5.81548096,\n",
       "        1.22109281,  9.26065077,  1.16566447, 16.66813782,  3.36710603,\n",
       "       11.74868864,  6.14962364,  9.73011153,  9.40444538,  3.21035654])"
      ]
     },
     "execution_count": 9,
     "metadata": {
      "tags": []
     },
     "output_type": "execute_result"
    }
   ],
   "source": [
    "y"
   ]
  },
  {
   "cell_type": "markdown",
   "metadata": {
    "colab_type": "text",
    "id": "AyHX8Z3Pwage"
   },
   "source": [
    "x ist noch ein Vektor. Wir brauchen aber eine *Features Matrix* der Form `[n_samples, n_features]`."
   ]
  },
  {
   "cell_type": "code",
   "execution_count": 10,
   "metadata": {
    "colab": {
     "base_uri": "https://localhost:8080/",
     "height": 867
    },
    "colab_type": "code",
    "executionInfo": {
     "elapsed": 493,
     "status": "ok",
     "timestamp": 1570789315621,
     "user": {
      "displayName": "Christian Möller",
      "photoUrl": "",
      "userId": "02872032824376165285"
     },
     "user_tz": -120
    },
    "id": "1BIjdiMAwagf",
    "outputId": "e223fc75-c0f1-4a2e-9fd8-d8048059d3c8"
   },
   "outputs": [
    {
     "data": {
      "text/plain": [
       "array([[3.74540119],\n",
       "       [9.50714306],\n",
       "       [7.31993942],\n",
       "       [5.98658484],\n",
       "       [1.5601864 ],\n",
       "       [1.5599452 ],\n",
       "       [0.58083612],\n",
       "       [8.66176146],\n",
       "       [6.01115012],\n",
       "       [7.08072578],\n",
       "       [0.20584494],\n",
       "       [9.69909852],\n",
       "       [8.32442641],\n",
       "       [2.12339111],\n",
       "       [1.81824967],\n",
       "       [1.8340451 ],\n",
       "       [3.04242243],\n",
       "       [5.24756432],\n",
       "       [4.31945019],\n",
       "       [2.9122914 ],\n",
       "       [6.11852895],\n",
       "       [1.39493861],\n",
       "       [2.92144649],\n",
       "       [3.66361843],\n",
       "       [4.56069984],\n",
       "       [7.85175961],\n",
       "       [1.99673782],\n",
       "       [5.14234438],\n",
       "       [5.92414569],\n",
       "       [0.46450413],\n",
       "       [6.07544852],\n",
       "       [1.70524124],\n",
       "       [0.65051593],\n",
       "       [9.48885537],\n",
       "       [9.65632033],\n",
       "       [8.08397348],\n",
       "       [3.04613769],\n",
       "       [0.97672114],\n",
       "       [6.84233027],\n",
       "       [4.40152494],\n",
       "       [1.22038235],\n",
       "       [4.9517691 ],\n",
       "       [0.34388521],\n",
       "       [9.09320402],\n",
       "       [2.58779982],\n",
       "       [6.62522284],\n",
       "       [3.11711076],\n",
       "       [5.20068021],\n",
       "       [5.46710279],\n",
       "       [1.84854456]])"
      ]
     },
     "execution_count": 10,
     "metadata": {
      "tags": []
     },
     "output_type": "execute_result"
    }
   ],
   "source": [
    "X = x[:, np.newaxis]\n",
    "X"
   ]
  },
  {
   "cell_type": "code",
   "execution_count": 11,
   "metadata": {
    "colab": {
     "base_uri": "https://localhost:8080/",
     "height": 34
    },
    "colab_type": "code",
    "executionInfo": {
     "elapsed": 502,
     "status": "ok",
     "timestamp": 1570789329002,
     "user": {
      "displayName": "Christian Möller",
      "photoUrl": "",
      "userId": "02872032824376165285"
     },
     "user_tz": -120
    },
    "id": "rI28h0pswagg",
    "outputId": "fb8f44f9-9ec9-44f6-ab73-8a38162f12dd"
   },
   "outputs": [
    {
     "data": {
      "text/plain": [
       "(50, 1)"
      ]
     },
     "execution_count": 11,
     "metadata": {
      "tags": []
     },
     "output_type": "execute_result"
    }
   ],
   "source": [
    "X.shape"
   ]
  },
  {
   "cell_type": "code",
   "execution_count": 12,
   "metadata": {
    "colab": {
     "base_uri": "https://localhost:8080/",
     "height": 34
    },
    "colab_type": "code",
    "executionInfo": {
     "elapsed": 545,
     "status": "ok",
     "timestamp": 1570789338911,
     "user": {
      "displayName": "Christian Möller",
      "photoUrl": "",
      "userId": "02872032824376165285"
     },
     "user_tz": -120
    },
    "id": "lbIQxGglwagi",
    "outputId": "c12d8379-0f85-45d9-f534-061880917345"
   },
   "outputs": [
    {
     "data": {
      "text/plain": [
       "(50,)"
      ]
     },
     "execution_count": 12,
     "metadata": {
      "tags": []
     },
     "output_type": "execute_result"
    }
   ],
   "source": [
    "y.shape"
   ]
  },
  {
   "cell_type": "markdown",
   "metadata": {
    "colab_type": "text",
    "id": "Nou2g7Xvwagj"
   },
   "source": [
    "## 4. Passe das Modell an die Daten an"
   ]
  },
  {
   "cell_type": "code",
   "execution_count": 13,
   "metadata": {
    "colab": {
     "base_uri": "https://localhost:8080/",
     "height": 34
    },
    "colab_type": "code",
    "executionInfo": {
     "elapsed": 496,
     "status": "ok",
     "timestamp": 1570789373386,
     "user": {
      "displayName": "Christian Möller",
      "photoUrl": "",
      "userId": "02872032824376165285"
     },
     "user_tz": -120
    },
    "id": "7NHi9coYwagk",
    "outputId": "28d3f1d0-7b21-4094-ac74-6b5daa2ecb5b"
   },
   "outputs": [
    {
     "data": {
      "text/plain": [
       "LinearRegression(copy_X=True, fit_intercept=True, n_jobs=None, normalize=False)"
      ]
     },
     "execution_count": 13,
     "metadata": {
      "tags": []
     },
     "output_type": "execute_result"
    }
   ],
   "source": [
    "model.fit(X,y)"
   ]
  },
  {
   "cell_type": "markdown",
   "metadata": {
    "colab_type": "text",
    "id": "f0WHi2mTwagl"
   },
   "source": [
    "Was ist jetzt passiert?\n",
    "Durch modellspezifische Berechnungen wurden modellspezifische Parameter bestimmt; das ist die eigentliche Arbeit.\n",
    "Hier:\n",
    "- Berechnung: Löse Normalengleichung\n",
    "- Ergebnis: Parameter der (affin)linearen Funktion; diese heißen `coef_` und `intercept_`"
   ]
  },
  {
   "cell_type": "code",
   "execution_count": 14,
   "metadata": {
    "colab": {
     "base_uri": "https://localhost:8080/",
     "height": 34
    },
    "colab_type": "code",
    "executionInfo": {
     "elapsed": 475,
     "status": "ok",
     "timestamp": 1570789480302,
     "user": {
      "displayName": "Christian Möller",
      "photoUrl": "",
      "userId": "02872032824376165285"
     },
     "user_tz": -120
    },
    "id": "gCOO-sucwagm",
    "outputId": "02c9708e-6ccb-4b1d-a5b0-48a103eacb6c"
   },
   "outputs": [
    {
     "data": {
      "text/plain": [
       "array([1.9776566])"
      ]
     },
     "execution_count": 14,
     "metadata": {
      "tags": []
     },
     "output_type": "execute_result"
    }
   ],
   "source": [
    "model.coef_"
   ]
  },
  {
   "cell_type": "code",
   "execution_count": 15,
   "metadata": {
    "colab": {
     "base_uri": "https://localhost:8080/",
     "height": 34
    },
    "colab_type": "code",
    "executionInfo": {
     "elapsed": 477,
     "status": "ok",
     "timestamp": 1570789485935,
     "user": {
      "displayName": "Christian Möller",
      "photoUrl": "",
      "userId": "02872032824376165285"
     },
     "user_tz": -120
    },
    "id": "uVYNYDcMwagn",
    "outputId": "bf8f086c-8899-4489-e94e-9d701bae088f"
   },
   "outputs": [
    {
     "data": {
      "text/plain": [
       "-0.9033107255311146"
      ]
     },
     "execution_count": 15,
     "metadata": {
      "tags": []
     },
     "output_type": "execute_result"
    }
   ],
   "source": [
    "model.intercept_"
   ]
  },
  {
   "cell_type": "markdown",
   "metadata": {
    "colab_type": "text",
    "id": "vzXNQ1dawagp"
   },
   "source": [
    "Das passt recht gut zu den Daten, die ja gemäß $y=2x-1$ erzeugt wurden und dann ein wenig verrauscht wurden."
   ]
  },
  {
   "cell_type": "markdown",
   "metadata": {
    "colab_type": "text",
    "id": "sk0tcVjdwagp"
   },
   "source": [
    "## 5. Wende das Modell auf neue Daten an"
   ]
  },
  {
   "cell_type": "markdown",
   "metadata": {
    "colab_type": "text",
    "id": "Qx4LK_bOwagp"
   },
   "source": [
    "In unserem *superviseden* Fall heißt das: Vorhersage eines Labels für unbekannte Daten (hier: x-Werte)."
   ]
  },
  {
   "cell_type": "markdown",
   "metadata": {
    "colab_type": "text",
    "id": "6xfjQSyFwagq"
   },
   "source": [
    "Erzeuge neue x-Daten:"
   ]
  },
  {
   "cell_type": "code",
   "execution_count": 0,
   "metadata": {
    "colab": {},
    "colab_type": "code",
    "id": "Xtrn_4amwagq"
   },
   "outputs": [],
   "source": [
    "xfit = np.linspace(-1,11, num=10)     # Erzeugt 10 gleich äquidistante Punkte zwischen -1 und 11\n",
    "Xfit = xfit[:, np.newaxis]    # Wandle Array in Matrix um"
   ]
  },
  {
   "cell_type": "markdown",
   "metadata": {
    "colab_type": "text",
    "id": "aKlAdo3awags"
   },
   "source": [
    "Nun wird das Modell aktiv: Es berechnet für jeden dieser 50 neuen x-Werte \"seine Vorhersage\" eines y-Werts:"
   ]
  },
  {
   "cell_type": "code",
   "execution_count": 0,
   "metadata": {
    "colab": {},
    "colab_type": "code",
    "id": "kNpSCxOfwags"
   },
   "outputs": [],
   "source": [
    "yfit = model.predict(Xfit)"
   ]
  },
  {
   "cell_type": "code",
   "execution_count": 18,
   "metadata": {
    "colab": {
     "base_uri": "https://localhost:8080/",
     "height": 600
    },
    "colab_type": "code",
    "executionInfo": {
     "elapsed": 1652,
     "status": "ok",
     "timestamp": 1570789622128,
     "user": {
      "displayName": "Christian Möller",
      "photoUrl": "",
      "userId": "02872032824376165285"
     },
     "user_tz": -120
    },
    "id": "Byfpywjawagv",
    "outputId": "8432af6c-7dde-4248-c7e8-240e014b5c56"
   },
   "outputs": [
    {
     "data": {
      "image/png": "[encoded data removed]",
      "text/plain": [
       "<Figure size 720x720 with 1 Axes>"
      ]
     },
     "metadata": {
      "tags": []
     },
     "output_type": "display_data"
    }
   ],
   "source": [
    "plt.figure(figsize=(10,10))\n",
    "plt.scatter(x,y)\n",
    "plt.scatter(xfit, yfit, color='red');\n",
    "#plt.plot(xfit, yfit);"
   ]
  },
  {
   "cell_type": "code",
   "execution_count": 0,
   "metadata": {
    "colab": {},
    "colab_type": "code",
    "id": "uF82Vfdwwagx"
   },
   "outputs": [],
   "source": []
  }
 ],
 "metadata": {
  "colab": {
   "name": "02.02_API_LinReg.ipynb",
   "provenance": []
  },
  "kernelspec": {
   "display_name": "Python 3",
   "language": "python",
   "name": "python3"
  },
  "language_info": {
   "codemirror_mode": {
    "name": "ipython",
    "version": 3
   },
   "file_extension": ".py",
   "mimetype": "text/x-python",
   "name": "python",
   "nbconvert_exporter": "python",
   "pygments_lexer": "ipython3",
   "version": "3.7.3"
  }
 },
 "nbformat": 4,
 "nbformat_minor": 1
}
