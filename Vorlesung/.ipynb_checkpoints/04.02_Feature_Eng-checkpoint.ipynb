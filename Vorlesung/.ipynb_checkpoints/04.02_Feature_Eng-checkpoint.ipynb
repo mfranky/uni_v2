{
 "cells": [
  {
   "cell_type": "markdown",
   "metadata": {
    "colab_type": "text",
    "id": "toaUcbImXu1S"
   },
   "source": [
    "# Feature Engineering\n",
    "\n",
    "**Bisher:** Saubere Features-Matrix; insbesondere waren die Features stets *numerisch*\n",
    "\n",
    "Weitere wichtige Arten von Daten, die man als Features verwenden möchte sind u.a.:\n",
    "- Kategorien\n",
    "- Text\n",
    "- (Bilder)\n",
    "- Abgeleitete, konstruierte, synthetische Daten"
   ]
  },
  {
   "cell_type": "markdown",
   "metadata": {
    "colab_type": "text",
    "id": "0h6wrpDbX5dU"
   },
   "source": [
    "## Kategorische Daten\n",
    "Beispiel Immobilienpreise: Hier sind neben numerischen Features (z.B. Anzahl der Zimmer, Grundfläche) auch Features relevant, die in Kategorien vorliegen, z.B. der Stadtteil.\n",
    "\n",
    "Beispieldaten:"
   ]
  },
  {
   "cell_type": "code",
   "execution_count": 0,
   "metadata": {
    "colab": {},
    "colab_type": "code",
    "id": "fyH2WVXCZ1XM"
   },
   "outputs": [],
   "source": [
    "data = [\n",
    "    {'preis': 1850000, 'zimmer': 4, 'stadtteil': 'Neuhausen'},\n",
    "    {'preis': 900000, 'zimmer': 3, 'stadtteil': 'Schwabing'},\n",
    "    {'preis': 650000, 'zimmer': 3, 'stadtteil': 'Freimann'},\n",
    "    {'preis': 400000, 'zimmer': 2, 'stadtteil': 'Laim'},\n",
    "    {'preis': 400000, 'zimmer': 1, 'stadtteil': 'Schwabing'},\n",
    "]"
   ]
  },
  {
   "cell_type": "markdown",
   "metadata": {
    "colab_type": "text",
    "id": "Q3meUYnia8xp"
   },
   "source": [
    "Naheliegende Option: Ordne jedem Stadtteil eine Zahl zu:\n",
    "- Neuhausen: 1\n",
    "- Schwabing: 2\n",
    "- Freimann: 3\n",
    "- Laim:4\n",
    "\n",
    "Das ist nicht sonderlich sinnvoll, da numerischen Werten immer unterstellt wird, dass sie algebraische Eigenschaften widerspiegeln, also z.B. Neuhausen + Schwabing = Freimann oder Schwabing < Laim. Da dies keinen Sinn macht, darf es im Modell nicht so verwendet werden.\n",
    "\n",
    "Mögliche Lösung *One-Hot-Encoding*:\n",
    "- Erstellt für *jeden möglichen Wert* ein eigenes Feature (also z.B. ein Feature \"Stadteil_ist_Schwabing\")\n",
    "- Dieses Feature hat dann entweder den Wert 1 oder 0 (je nachdem, ob im Beispiel der Stadtteil Schwabing ist oder nicht)\n",
    "\n",
    "In ``sklearn`` gibt es diverse Möglichkeiten, dieses One-Hot-Encoding durchzuführen. In unserem Fall liegen die Daten in Form eines sog. Dictionary vor, d.h. in der Form\n",
    "\n",
    "``[{'keyword1': wert, 'keyword2': wert, ...}, {das gleiche nochmal},...,{das gleiche noch ein letztes mal}]``.\n",
    "\n",
    "Somit können wir den ``DictVecotrizer`` verwenden. Weitere Möglichkeiten sind ``sklearn.preprocessing.OneHotEncoder`` und ``sklearn.feature_extraction.FeatureHasher``.\n"
   ]
  },
  {
   "cell_type": "code",
   "execution_count": 4,
   "metadata": {
    "colab": {
     "base_uri": "https://localhost:8080/",
     "height": 104
    },
    "colab_type": "code",
    "executionInfo": {
     "elapsed": 538,
     "status": "ok",
     "timestamp": 1573123805704,
     "user": {
      "displayName": "Christian Möller",
      "photoUrl": "",
      "userId": "02872032824376165285"
     },
     "user_tz": -60
    },
    "id": "IW35aafVdsTL",
    "outputId": "a137246b-829e-4dc9-efa6-fc9c7f786cba"
   },
   "outputs": [
    {
     "data": {
      "text/plain": [
       "array([[1850000,       0,       0,       1,       0,       4],\n",
       "       [ 900000,       0,       0,       0,       1,       3],\n",
       "       [ 650000,       1,       0,       0,       0,       3],\n",
       "       [ 400000,       0,       1,       0,       0,       2],\n",
       "       [ 400000,       0,       0,       0,       1,       1]])"
      ]
     },
     "execution_count": 4,
     "metadata": {
      "tags": []
     },
     "output_type": "execute_result"
    }
   ],
   "source": [
    "from sklearn.feature_extraction import DictVectorizer\n",
    "vec = DictVectorizer(sparse=False, dtype=int)\n",
    "vec.fit_transform(data)"
   ]
  },
  {
   "cell_type": "markdown",
   "metadata": {
    "colab_type": "text",
    "id": "nve9S7Ohd5FT"
   },
   "source": [
    "Es gibt nun keinen Eintrag mehr für den Stadtteil, denn dieser wurde aufgeteilt in vier One-Hot-Spalten (für jeden vorkommenden Stadtteil eine). Damit haben wir wieder eine Features-Matrix, die nur numerische Werte enthält.\n",
    "\n",
    "Die Namen der Spalten sind folgendermaßen verfügbar:"
   ]
  },
  {
   "cell_type": "code",
   "execution_count": 5,
   "metadata": {
    "colab": {
     "base_uri": "https://localhost:8080/",
     "height": 121
    },
    "colab_type": "code",
    "executionInfo": {
     "elapsed": 519,
     "status": "ok",
     "timestamp": 1573124752619,
     "user": {
      "displayName": "Christian Möller",
      "photoUrl": "",
      "userId": "02872032824376165285"
     },
     "user_tz": -60
    },
    "id": "V7-OL5eJfMmi",
    "outputId": "8e3172b4-f028-429b-f4f2-cd21a74c2066"
   },
   "outputs": [
    {
     "data": {
      "text/plain": [
       "['preis',\n",
       " 'stadtteil=Freimann',\n",
       " 'stadtteil=Laim',\n",
       " 'stadtteil=Neuhausen',\n",
       " 'stadtteil=Schwabing',\n",
       " 'zimmer']"
      ]
     },
     "execution_count": 5,
     "metadata": {
      "tags": []
     },
     "output_type": "execute_result"
    }
   ],
   "source": [
    "vec.get_feature_names()"
   ]
  },
  {
   "cell_type": "markdown",
   "metadata": {
    "colab_type": "text",
    "id": "J_e8X5pZisK6"
   },
   "source": [
    "Nachteil: Wenn die Kategorie viele verschiedene mögliche Werte hat, werden die Daten extrem aufgebläht -- und fast alles davon sind Nuller. Um einen effizienten Umgang damit zu ermöglichen, dann (und sollte) die Option ``sparse`` gewählt werden:"
   ]
  },
  {
   "cell_type": "code",
   "execution_count": 6,
   "metadata": {
    "colab": {
     "base_uri": "https://localhost:8080/",
     "height": 52
    },
    "colab_type": "code",
    "executionInfo": {
     "elapsed": 477,
     "status": "ok",
     "timestamp": 1573124890585,
     "user": {
      "displayName": "Christian Möller",
      "photoUrl": "",
      "userId": "02872032824376165285"
     },
     "user_tz": -60
    },
    "id": "KgNNVCcJjJ3D",
    "outputId": "9a882bbd-c81e-49bb-a4e4-438a1c41a4d5"
   },
   "outputs": [
    {
     "data": {
      "text/plain": [
       "<5x6 sparse matrix of type '<class 'numpy.int64'>'\n",
       "\twith 15 stored elements in Compressed Sparse Row format>"
      ]
     },
     "execution_count": 6,
     "metadata": {
      "tags": []
     },
     "output_type": "execute_result"
    }
   ],
   "source": [
    "vec = DictVectorizer(sparse=True, dtype=int)\n",
    "vec.fit_transform(data)"
   ]
  },
  {
   "cell_type": "markdown",
   "metadata": {
    "colab_type": "text",
    "id": "Xqbdg4eTjN3H"
   },
   "source": [
    "## Text\n",
    "Um ein Modell zu erstellen, das mit Texten umgehen kann, ist es notwendig, aus dem Text relevante numerische Werte zu extrahieren.\n",
    "\n",
    "Einfach(st)e Möglichkeit: Wörter zählen:"
   ]
  },
  {
   "cell_type": "code",
   "execution_count": 0,
   "metadata": {
    "colab": {},
    "colab_type": "code",
    "id": "tb4vqN2qkJ66"
   },
   "outputs": [],
   "source": [
    "sample = ['maschinelles lernen ist hilfreich',\n",
    "          'hilfreich ist ein adjektiv',\n",
    "          'lernen macht spass und ist wichtig']"
   ]
  },
  {
   "cell_type": "markdown",
   "metadata": {
    "colab_type": "text",
    "id": "39tSFqpYkzoJ"
   },
   "source": [
    "In diesem Sample gibt es acht verschiedene Wörter. Es soll eine Tabelle erstellt werden, die für jedens Satzfragment angibt, wie oft jedes dieser acht Wörter auftritt. Dafür kann die Methode ``CountVectorizer`` verwendet werden:"
   ]
  },
  {
   "cell_type": "code",
   "execution_count": 13,
   "metadata": {
    "colab": {
     "base_uri": "https://localhost:8080/",
     "height": 52
    },
    "colab_type": "code",
    "executionInfo": {
     "elapsed": 583,
     "status": "ok",
     "timestamp": 1573125983720,
     "user": {
      "displayName": "Christian Möller",
      "photoUrl": "",
      "userId": "02872032824376165285"
     },
     "user_tz": -60
    },
    "id": "JpMmr3hUlUsa",
    "outputId": "625cb893-5eb4-4e1a-866c-6e11b98f1a3e"
   },
   "outputs": [
    {
     "data": {
      "text/plain": [
       "<3x10 sparse matrix of type '<class 'numpy.int64'>'\n",
       "\twith 14 stored elements in Compressed Sparse Row format>"
      ]
     },
     "execution_count": 13,
     "metadata": {
      "tags": []
     },
     "output_type": "execute_result"
    }
   ],
   "source": [
    "from sklearn.feature_extraction.text import CountVectorizer\n",
    "vec = CountVectorizer()\n",
    "X = vec.fit_transform(sample)\n",
    "X"
   ]
  },
  {
   "cell_type": "markdown",
   "metadata": {
    "colab_type": "text",
    "id": "5Ly0My1ulgq5"
   },
   "source": [
    "Auch hier wird also eine Sparse Matrix verwendet (scheint sinnvoll, denn bei Text werden sehr viele Nuller entstehen).\n",
    "\n",
    "Um das Ergebnis zu betrachten, wandeln wir es in einen ``DataFrame`` um:"
   ]
  },
  {
   "cell_type": "code",
   "execution_count": 14,
   "metadata": {
    "colab": {
     "base_uri": "https://localhost:8080/",
     "height": 141
    },
    "colab_type": "code",
    "executionInfo": {
     "elapsed": 523,
     "status": "ok",
     "timestamp": 1573125984860,
     "user": {
      "displayName": "Christian Möller",
      "photoUrl": "",
      "userId": "02872032824376165285"
     },
     "user_tz": -60
    },
    "id": "r4dMGDDjl1M5",
    "outputId": "20cc06ff-4835-4053-e689-735b3a485354"
   },
   "outputs": [
    {
     "data": {
      "text/html": [
       "<div>\n",
       "<style scoped>\n",
       "    .dataframe tbody tr th:only-of-type {\n",
       "        vertical-align: middle;\n",
       "    }\n",
       "\n",
       "    .dataframe tbody tr th {\n",
       "        vertical-align: top;\n",
       "    }\n",
       "\n",
       "    .dataframe thead th {\n",
       "        text-align: right;\n",
       "    }\n",
       "</style>\n",
       "<table border=\"1\" class=\"dataframe\">\n",
       "  <thead>\n",
       "    <tr style=\"text-align: right;\">\n",
       "      <th></th>\n",
       "      <th>adjektiv</th>\n",
       "      <th>ein</th>\n",
       "      <th>hilfreich</th>\n",
       "      <th>ist</th>\n",
       "      <th>lernen</th>\n",
       "      <th>macht</th>\n",
       "      <th>maschinelles</th>\n",
       "      <th>spass</th>\n",
       "      <th>und</th>\n",
       "      <th>wichtig</th>\n",
       "    </tr>\n",
       "  </thead>\n",
       "  <tbody>\n",
       "    <tr>\n",
       "      <th>0</th>\n",
       "      <td>0</td>\n",
       "      <td>0</td>\n",
       "      <td>1</td>\n",
       "      <td>1</td>\n",
       "      <td>1</td>\n",
       "      <td>0</td>\n",
       "      <td>1</td>\n",
       "      <td>0</td>\n",
       "      <td>0</td>\n",
       "      <td>0</td>\n",
       "    </tr>\n",
       "    <tr>\n",
       "      <th>1</th>\n",
       "      <td>1</td>\n",
       "      <td>1</td>\n",
       "      <td>1</td>\n",
       "      <td>1</td>\n",
       "      <td>0</td>\n",
       "      <td>0</td>\n",
       "      <td>0</td>\n",
       "      <td>0</td>\n",
       "      <td>0</td>\n",
       "      <td>0</td>\n",
       "    </tr>\n",
       "    <tr>\n",
       "      <th>2</th>\n",
       "      <td>0</td>\n",
       "      <td>0</td>\n",
       "      <td>0</td>\n",
       "      <td>1</td>\n",
       "      <td>1</td>\n",
       "      <td>1</td>\n",
       "      <td>0</td>\n",
       "      <td>1</td>\n",
       "      <td>1</td>\n",
       "      <td>1</td>\n",
       "    </tr>\n",
       "  </tbody>\n",
       "</table>\n",
       "</div>"
      ],
      "text/plain": [
       "   adjektiv  ein  hilfreich  ist  ...  maschinelles  spass  und  wichtig\n",
       "0         0    0          1    1  ...             1      0    0        0\n",
       "1         1    1          1    1  ...             0      0    0        0\n",
       "2         0    0          0    1  ...             0      1    1        1\n",
       "\n",
       "[3 rows x 10 columns]"
      ]
     },
     "execution_count": 14,
     "metadata": {
      "tags": []
     },
     "output_type": "execute_result"
    }
   ],
   "source": [
    "import pandas as pd\n",
    "pd.DataFrame(X.toarray(), columns=vec.get_feature_names())"
   ]
  },
  {
   "cell_type": "markdown",
   "metadata": {
    "colab_type": "text",
    "id": "FqP9ckwil_Vp"
   },
   "source": [
    "**Problem:** Wörter die häufig auftreten bekommen damit ein (zu?) hohes Gewicht, was zu Problemen für die Klassifizierungs-Algorithmen führt.\n",
    "\n",
    "**Mögliche Lösung:** TF-IDF (Term frequency-inverse document frequency) ist eine weit verbreitete Methode, die die Wörter mit einem Gewicht versieht, welches von ihrer Häufigkeit in den Texten abhängt.\n",
    "\n",
    "Realisierung:"
   ]
  },
  {
   "cell_type": "code",
   "execution_count": 15,
   "metadata": {
    "colab": {
     "base_uri": "https://localhost:8080/",
     "height": 141
    },
    "colab_type": "code",
    "executionInfo": {
     "elapsed": 552,
     "status": "ok",
     "timestamp": 1573125987757,
     "user": {
      "displayName": "Christian Möller",
      "photoUrl": "",
      "userId": "02872032824376165285"
     },
     "user_tz": -60
    },
    "id": "fAZyU7XcnBqR",
    "outputId": "76f5ab79-34c1-43d6-a5cf-9b0636c9046d"
   },
   "outputs": [
    {
     "data": {
      "text/html": [
       "<div>\n",
       "<style scoped>\n",
       "    .dataframe tbody tr th:only-of-type {\n",
       "        vertical-align: middle;\n",
       "    }\n",
       "\n",
       "    .dataframe tbody tr th {\n",
       "        vertical-align: top;\n",
       "    }\n",
       "\n",
       "    .dataframe thead th {\n",
       "        text-align: right;\n",
       "    }\n",
       "</style>\n",
       "<table border=\"1\" class=\"dataframe\">\n",
       "  <thead>\n",
       "    <tr style=\"text-align: right;\">\n",
       "      <th></th>\n",
       "      <th>adjektiv</th>\n",
       "      <th>ein</th>\n",
       "      <th>hilfreich</th>\n",
       "      <th>ist</th>\n",
       "      <th>lernen</th>\n",
       "      <th>macht</th>\n",
       "      <th>maschinelles</th>\n",
       "      <th>spass</th>\n",
       "      <th>und</th>\n",
       "      <th>wichtig</th>\n",
       "    </tr>\n",
       "  </thead>\n",
       "  <tbody>\n",
       "    <tr>\n",
       "      <th>0</th>\n",
       "      <td>0.000000</td>\n",
       "      <td>0.000000</td>\n",
       "      <td>0.480458</td>\n",
       "      <td>0.373119</td>\n",
       "      <td>0.480458</td>\n",
       "      <td>0.000000</td>\n",
       "      <td>0.631745</td>\n",
       "      <td>0.000000</td>\n",
       "      <td>0.000000</td>\n",
       "      <td>0.000000</td>\n",
       "    </tr>\n",
       "    <tr>\n",
       "      <th>1</th>\n",
       "      <td>0.584483</td>\n",
       "      <td>0.584483</td>\n",
       "      <td>0.444514</td>\n",
       "      <td>0.345205</td>\n",
       "      <td>0.000000</td>\n",
       "      <td>0.000000</td>\n",
       "      <td>0.000000</td>\n",
       "      <td>0.000000</td>\n",
       "      <td>0.000000</td>\n",
       "      <td>0.000000</td>\n",
       "    </tr>\n",
       "    <tr>\n",
       "      <th>2</th>\n",
       "      <td>0.000000</td>\n",
       "      <td>0.000000</td>\n",
       "      <td>0.000000</td>\n",
       "      <td>0.266075</td>\n",
       "      <td>0.342620</td>\n",
       "      <td>0.450504</td>\n",
       "      <td>0.000000</td>\n",
       "      <td>0.450504</td>\n",
       "      <td>0.450504</td>\n",
       "      <td>0.450504</td>\n",
       "    </tr>\n",
       "  </tbody>\n",
       "</table>\n",
       "</div>"
      ],
      "text/plain": [
       "   adjektiv       ein  hilfreich  ...     spass       und   wichtig\n",
       "0  0.000000  0.000000   0.480458  ...  0.000000  0.000000  0.000000\n",
       "1  0.584483  0.584483   0.444514  ...  0.000000  0.000000  0.000000\n",
       "2  0.000000  0.000000   0.000000  ...  0.450504  0.450504  0.450504\n",
       "\n",
       "[3 rows x 10 columns]"
      ]
     },
     "execution_count": 15,
     "metadata": {
      "tags": []
     },
     "output_type": "execute_result"
    }
   ],
   "source": [
    "from sklearn.feature_extraction.text import TfidfVectorizer\n",
    "vec = TfidfVectorizer()\n",
    "X = vec.fit_transform(sample)\n",
    "pd.DataFrame(X.toarray(), columns=vec.get_feature_names())"
   ]
  },
  {
   "cell_type": "markdown",
   "metadata": {
    "colab_type": "text",
    "id": "UVUpeXJmnEqR"
   },
   "source": [
    "## Abgeleitete Features\n",
    "Manchmal weiß man oder hat die Vermutung, dass neben einem Feature $f_1$ auch eine weitere Größe relevant sein könnte, die sich aus diesem ergibt, z.B. $\\sin(f_1)$ oder $f_1^2$ etc.\n",
    "\n",
    "Beispiel:"
   ]
  },
  {
   "cell_type": "code",
   "execution_count": 16,
   "metadata": {
    "colab": {
     "base_uri": "https://localhost:8080/",
     "height": 265
    },
    "colab_type": "code",
    "executionInfo": {
     "elapsed": 778,
     "status": "ok",
     "timestamp": 1573126402174,
     "user": {
      "displayName": "Christian Möller",
      "photoUrl": "",
      "userId": "02872032824376165285"
     },
     "user_tz": -60
    },
    "id": "HJSFMvpxo8jG",
    "outputId": "aea9c93e-129d-483d-9f42-5e4159b35e04"
   },
   "outputs": [
    {
     "data": {
      "image/png": "[encoded data removed]",
      "text/plain": [
       "<Figure size 432x288 with 1 Axes>"
      ]
     },
     "metadata": {
      "tags": []
     },
     "output_type": "display_data"
    }
   ],
   "source": [
    "%matplotlib inline\n",
    "import numpy as np\n",
    "import matplotlib.pyplot as plt\n",
    "\n",
    "x = np.array([1, 2, 3, 4, 5])\n",
    "y = np.array([4, 2, 1, 3, 7])\n",
    "plt.scatter(x, y);"
   ]
  },
  {
   "cell_type": "markdown",
   "metadata": {
    "colab_type": "text",
    "id": "86vHDQiro-1B"
   },
   "source": [
    "Als Feature haben wir nur ``x`` zu Verfügung. Lineare Regression kann also nur Geraden liefern:"
   ]
  },
  {
   "cell_type": "code",
   "execution_count": 17,
   "metadata": {
    "colab": {
     "base_uri": "https://localhost:8080/",
     "height": 265
    },
    "colab_type": "code",
    "executionInfo": {
     "elapsed": 757,
     "status": "ok",
     "timestamp": 1573126465115,
     "user": {
      "displayName": "Christian Möller",
      "photoUrl": "",
      "userId": "02872032824376165285"
     },
     "user_tz": -60
    },
    "id": "zlaenqA7pMGJ",
    "outputId": "52561697-9ca2-4097-9b20-3557d2f19193"
   },
   "outputs": [
    {
     "data": {
      "image/png": "[encoded data removed]",
      "text/plain": [
       "<Figure size 432x288 with 1 Axes>"
      ]
     },
     "metadata": {
      "tags": []
     },
     "output_type": "display_data"
    }
   ],
   "source": [
    "from sklearn.linear_model import LinearRegression\n",
    "X = x[:, np.newaxis]\n",
    "model = LinearRegression().fit(X, y)\n",
    "yfit = model.predict(X)\n",
    "plt.scatter(x, y)\n",
    "plt.plot(x, yfit);"
   ]
  },
  {
   "cell_type": "markdown",
   "metadata": {
    "colab_type": "text",
    "id": "aH0SYYIRpOMx"
   },
   "source": [
    "Nun können wir entweder ein komplexeres Modell verwenden (Vorschläge??) oder wir \"reichern die Daten an\", indem wir \"synthetische\" Features erzeugen, z.B. $x^2$ und $x^3$.\n",
    "\n",
    "Solche polynomiellen Features können einfach erzeugt werden:"
   ]
  },
  {
   "cell_type": "code",
   "execution_count": 18,
   "metadata": {
    "colab": {
     "base_uri": "https://localhost:8080/",
     "height": 104
    },
    "colab_type": "code",
    "executionInfo": {
     "elapsed": 513,
     "status": "ok",
     "timestamp": 1573126597907,
     "user": {
      "displayName": "Christian Möller",
      "photoUrl": "",
      "userId": "02872032824376165285"
     },
     "user_tz": -60
    },
    "id": "J1etIkQqpqmp",
    "outputId": "bd8d41c7-bb29-40c9-b597-658855ca0ab6"
   },
   "outputs": [
    {
     "name": "stdout",
     "output_type": "stream",
     "text": [
      "[[  1.   1.   1.]\n",
      " [  2.   4.   8.]\n",
      " [  3.   9.  27.]\n",
      " [  4.  16.  64.]\n",
      " [  5.  25. 125.]]\n"
     ]
    }
   ],
   "source": [
    "from sklearn.preprocessing import PolynomialFeatures\n",
    "poly = PolynomialFeatures(degree=3, include_bias=False)\n",
    "X2 = poly.fit_transform(X)\n",
    "print(X2)"
   ]
  },
  {
   "cell_type": "markdown",
   "metadata": {
    "colab_type": "text",
    "id": "35g8PDc0purg"
   },
   "source": [
    "Das sind unsere neuen, angereicherten Daten, die neben $x$ auch $x^2$ und $x^3$ enthalten.\n",
    "\n",
    "Wir trainieren das gleiche Modell wie oben auf diesen Daten:"
   ]
  },
  {
   "cell_type": "code",
   "execution_count": 19,
   "metadata": {
    "colab": {
     "base_uri": "https://localhost:8080/",
     "height": 265
    },
    "colab_type": "code",
    "executionInfo": {
     "elapsed": 625,
     "status": "ok",
     "timestamp": 1573126702731,
     "user": {
      "displayName": "Christian Möller",
      "photoUrl": "",
      "userId": "02872032824376165285"
     },
     "user_tz": -60
    },
    "id": "RUqHSAgiqBZA",
    "outputId": "41637cc2-e52d-4fdf-fabe-270e616e2c48"
   },
   "outputs": [
    {
     "data": {
      "image/png": "[encoded data removed]",
      "text/plain": [
       "<Figure size 432x288 with 1 Axes>"
      ]
     },
     "metadata": {
      "tags": []
     },
     "output_type": "display_data"
    }
   ],
   "source": [
    "model = LinearRegression().fit(X2, y)\n",
    "yfit = model.predict(X2)\n",
    "plt.scatter(x, y)\n",
    "plt.plot(x, yfit);"
   ]
  },
  {
   "cell_type": "markdown",
   "metadata": {
    "colab_type": "text",
    "id": "jlyP6J7kqIPp"
   },
   "source": [
    "Das ergibt ein deutlich besseres Modell. Dieses haben wir erhalten, indem wir die **Input-Daten transformiert** haben, die Modellklasse ist die gleiche."
   ]
  },
  {
   "cell_type": "markdown",
   "metadata": {
    "colab_type": "text",
    "id": "H_RggQMBqbxI"
   },
   "source": [
    "## Umgang mit fehlenden Daten\n",
    "Viele Datensätze aus der realen Anwendung sind unvollständig. Lücken sind meist mit ``NaN`` (not a number) belegt.\n",
    "Bevor ein Modell damit trainiert werden kann, müssen diese Lücken beseitigt werden.\n",
    "\n",
    "Beispiel:"
   ]
  },
  {
   "cell_type": "code",
   "execution_count": 0,
   "metadata": {
    "colab": {},
    "colab_type": "code",
    "id": "gQPtLdmbq5dg"
   },
   "outputs": [],
   "source": [
    "from numpy import nan\n",
    "X = np.array([[ nan, 0,   3  ],\n",
    "              [ 3,   7,   9  ],\n",
    "              [ 3,   5,   2  ],\n",
    "              [ 4,   nan, 6  ],\n",
    "              [ 8,   8,   1  ]])\n",
    "y = np.array([14, 16, -1,  8, -5])"
   ]
  },
  {
   "cell_type": "markdown",
   "metadata": {
    "colab_type": "text",
    "id": "YllZdh35q7NI"
   },
   "source": [
    "Das Füllen solcher Lücken wird *Imputation* genannt, eine Methode, die das macht, heißt *Imputer*. *Wie* die Lücken gefüllt werden sollen, ist sehr unterschiedlich (verwende Mittelwert der Spalte, verwende kompliziertes Verfahren, um den Wert wiederherzustellen)."
   ]
  },
  {
   "cell_type": "code",
   "execution_count": 24,
   "metadata": {
    "colab": {
     "base_uri": "https://localhost:8080/",
     "height": 104
    },
    "colab_type": "code",
    "executionInfo": {
     "elapsed": 532,
     "status": "ok",
     "timestamp": 1573127260505,
     "user": {
      "displayName": "Christian Möller",
      "photoUrl": "",
      "userId": "02872032824376165285"
     },
     "user_tz": -60
    },
    "id": "LH724rX_rzPw",
    "outputId": "a73c2262-aecd-4e91-ded5-e0bed2bd9f3e"
   },
   "outputs": [
    {
     "data": {
      "text/plain": [
       "array([[4.5, 0. , 3. ],\n",
       "       [3. , 7. , 9. ],\n",
       "       [3. , 5. , 2. ],\n",
       "       [4. , 5. , 6. ],\n",
       "       [8. , 8. , 1. ]])"
      ]
     },
     "execution_count": 24,
     "metadata": {
      "tags": []
     },
     "output_type": "execute_result"
    }
   ],
   "source": [
    "from sklearn.impute import SimpleImputer\n",
    "imp = SimpleImputer(strategy='mean')\n",
    "X2 = imp.fit_transform(X)\n",
    "X2"
   ]
  },
  {
   "cell_type": "markdown",
   "metadata": {
    "colab_type": "text",
    "id": "0vodA5edr0iI"
   },
   "source": [
    "## Feature Pipelines\n",
    "Alles bisher beschriebene hat zum Ziel, die Inputdaten aufzubereiten, bevor sie dem Modell zum Trainieren übergeben werden. Das sollte idealerweise in einem einzigen einmal definierten Schritt automatisch passieren. Dafür gibt es in ``sklearn`` sog. ``Pipeline`` Objekte.\n",
    "\n",
    "Beispiel: Wir wollen\n",
    "\n",
    "\n",
    "1.   Fehlende Daten durch den Mittelwert der Spalte ersetzen\n",
    "2.   Quadratische Features hinzufügen\n",
    "3.   Eine lineare Regression anwenden\n",
    "\n"
   ]
  },
  {
   "cell_type": "code",
   "execution_count": 0,
   "metadata": {
    "colab": {},
    "colab_type": "code",
    "id": "WbLg3bTKtKNt"
   },
   "outputs": [],
   "source": [
    "from sklearn.pipeline import make_pipeline\n",
    "\n",
    "model = make_pipeline(SimpleImputer(strategy='mean'),\n",
    "                      PolynomialFeatures(degree=2),\n",
    "                      LinearRegression())"
   ]
  },
  {
   "cell_type": "markdown",
   "metadata": {
    "colab_type": "text",
    "id": "GAfeehCGtOHF"
   },
   "source": [
    "Dieses Objekt verhält sich wie ein normaler Estimator, d.h. wir können alle Schritte wie gewohnt durchführen:"
   ]
  },
  {
   "cell_type": "code",
   "execution_count": 27,
   "metadata": {
    "colab": {
     "base_uri": "https://localhost:8080/",
     "height": 52
    },
    "colab_type": "code",
    "executionInfo": {
     "elapsed": 517,
     "status": "ok",
     "timestamp": 1573127630827,
     "user": {
      "displayName": "Christian Möller",
      "photoUrl": "",
      "userId": "02872032824376165285"
     },
     "user_tz": -60
    },
    "id": "gfuH2LT-te7Y",
    "outputId": "fe26f927-d238-4c84-915c-d4d9fb2207e2"
   },
   "outputs": [
    {
     "name": "stdout",
     "output_type": "stream",
     "text": [
      "[14 16 -1  8 -5]\n",
      "[14. 16. -1.  8. -5.]\n"
     ]
    }
   ],
   "source": [
    "model.fit(X, y)  # X von oben (MIT fehlenden Daten)\n",
    "print(y)\n",
    "print(model.predict(X))"
   ]
  },
  {
   "cell_type": "code",
   "execution_count": 0,
   "metadata": {
    "colab": {},
    "colab_type": "code",
    "id": "g-L3d_hqtq2v"
   },
   "outputs": [],
   "source": []
  }
 ],
 "metadata": {
  "colab": {
   "collapsed_sections": [],
   "name": "04_02_Feature_Eng.ipynb",
   "provenance": []
  },
  "kernelspec": {
   "display_name": "Python 3",
   "language": "python",
   "name": "python3"
  },
  "language_info": {
   "codemirror_mode": {
    "name": "ipython",
    "version": 3
   },
   "file_extension": ".py",
   "mimetype": "text/x-python",
   "name": "python",
   "nbconvert_exporter": "python",
   "pygments_lexer": "ipython3",
   "version": "3.7.3"
  }
 },
 "nbformat": 4,
 "nbformat_minor": 1
}
