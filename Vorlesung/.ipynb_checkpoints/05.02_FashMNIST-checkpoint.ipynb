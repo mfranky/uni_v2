{
 "cells": [
  {
   "cell_type": "markdown",
   "metadata": {
    "colab_type": "text",
    "id": "aPLuCSrgSe8C"
   },
   "source": [
    "\n",
    "# Praktikum Session 2: Neuronale Netze mit TensorFlow 2 und Keras\n",
    "In dieser Session wollen wir ein neuronales Netz zur Klassifikation von Bildern bauen. Dazu verwenden wir die Bibliotheken TensorFlow 2 und Keras (High Level API).\n",
    "\n",
    "Wir verwenden die zumn Testen von neuronalen Netzen weit verbreiteten *Fashon MNIST* Daten. Diese bestehen aus 70.000 Bildern mit jeweils 28x28 Pixeln (Graustufen). Die Bilder zeigen dabei Objekte aus 10 verscheidenen Klassen, allesamt Kleidungsstücke.\n",
    "\n",
    "**Ziel:** Entwerfe und trainiere ein neuronales Netz, das Bilder von Gegenständen dieser 10 Kategorien korrekt einordnen kann.\n",
    "\n",
    "Zu allererst importieren wir die benötigten Bibliotheken:"
   ]
  },
  {
   "cell_type": "code",
   "execution_count": 1,
   "metadata": {
    "colab": {
     "base_uri": "https://localhost:8080/",
     "height": 34
    },
    "colab_type": "code",
    "executionInfo": {
     "elapsed": 7969,
     "status": "ok",
     "timestamp": 1575284505222,
     "user": {
      "displayName": "Christian Moeller",
      "photoUrl": "",
      "userId": "02505173711259660088"
     },
     "user_tz": -60
    },
    "id": "T1Mw0HZiSe8F",
    "outputId": "40384be7-24c9-43ac-ab15-f673307eb65c"
   },
   "outputs": [
    {
     "data": {
      "text/plain": [
       "'2.0.0-rc0'"
      ]
     },
     "execution_count": 1,
     "metadata": {},
     "output_type": "execute_result"
    }
   ],
   "source": [
    "#%tensorflow_version 2.x\n",
    "\n",
    "import tensorflow as tf\n",
    "from tensorflow import keras\n",
    "import matplotlib.pyplot as plt\n",
    "import pandas as pd\n",
    "import numpy as np\n",
    "\n",
    "tf.__version__"
   ]
  },
  {
   "cell_type": "markdown",
   "metadata": {
    "colab_type": "text",
    "id": "-dZWpSFkSe8J"
   },
   "source": [
    "## 1. Vorbereitung der Daten\n",
    "Da dieser Datensatz eine wichtige Rolle beim Testen von neuronalen Netzen spielt, ist er bereits in Keras enthalten und muss nur noch geladen werden. Eine Aufteilung des gesamten Datensatzes in Trainingsdaten und Testdaten findet hier ebenfalls bereits durch das Laden der Daten statt:"
   ]
  },
  {
   "cell_type": "code",
   "execution_count": 2,
   "metadata": {
    "colab": {
     "base_uri": "https://localhost:8080/",
     "height": 153
    },
    "colab_type": "code",
    "executionInfo": {
     "elapsed": 1531,
     "status": "ok",
     "timestamp": 1575284732754,
     "user": {
      "displayName": "Christian Moeller",
      "photoUrl": "",
      "userId": "02505173711259660088"
     },
     "user_tz": -60
    },
    "id": "HxPU_ER7Se8K",
    "outputId": "8eec6027-d11d-463f-c73c-24eb2bfd0270"
   },
   "outputs": [],
   "source": [
    "fashion_mnist = keras.datasets.fashion_mnist\n",
    "(X_train_full, y_train_full), (X_test, y_test) = fashion_mnist.load_data()"
   ]
  },
  {
   "cell_type": "code",
   "execution_count": 3,
   "metadata": {
    "colab": {
     "base_uri": "https://localhost:8080/",
     "height": 34
    },
    "colab_type": "code",
    "executionInfo": {
     "elapsed": 956,
     "status": "ok",
     "timestamp": 1575284909044,
     "user": {
      "displayName": "Christian Moeller",
      "photoUrl": "",
      "userId": "02505173711259660088"
     },
     "user_tz": -60
    },
    "id": "EMWrEUcpS2PF",
    "outputId": "9657d5a8-4c5c-4370-e680-c9492c0a389f"
   },
   "outputs": [
    {
     "data": {
      "text/plain": [
       "(60000, 28, 28)"
      ]
     },
     "execution_count": 3,
     "metadata": {},
     "output_type": "execute_result"
    }
   ],
   "source": [
    "X_train_full.shape"
   ]
  },
  {
   "cell_type": "code",
   "execution_count": 4,
   "metadata": {
    "colab": {
     "base_uri": "https://localhost:8080/",
     "height": 34
    },
    "colab_type": "code",
    "executionInfo": {
     "elapsed": 1199,
     "status": "ok",
     "timestamp": 1575284933047,
     "user": {
      "displayName": "Christian Moeller",
      "photoUrl": "",
      "userId": "02505173711259660088"
     },
     "user_tz": -60
    },
    "id": "RiMaxxGPS6C3",
    "outputId": "cc741cc6-e761-4648-8d9c-a848d8d6a651"
   },
   "outputs": [
    {
     "data": {
      "text/plain": [
       "(10000, 28, 28)"
      ]
     },
     "execution_count": 4,
     "metadata": {},
     "output_type": "execute_result"
    }
   ],
   "source": [
    "X_test.shape"
   ]
  },
  {
   "cell_type": "markdown",
   "metadata": {
    "colab_type": "text",
    "id": "fjsbyF5BTA31"
   },
   "source": [
    "Jedes der Bilder wird also durch ein 28x28 Array dargestellt. Für jeden Pixel wird der Grauwert durch eine Zahle zwischen 0 und 255 angegeben."
   ]
  },
  {
   "cell_type": "code",
   "execution_count": 5,
   "metadata": {
    "colab": {
     "base_uri": "https://localhost:8080/",
     "height": 34
    },
    "colab_type": "code",
    "executionInfo": {
     "elapsed": 648,
     "status": "ok",
     "timestamp": 1575285072717,
     "user": {
      "displayName": "Christian Moeller",
      "photoUrl": "",
      "userId": "02505173711259660088"
     },
     "user_tz": -60
    },
    "id": "rYonFVzgTlMN",
    "outputId": "f504c244-3c1c-4283-e8cb-2d02d2aa390f"
   },
   "outputs": [
    {
     "data": {
      "text/plain": [
       "127"
      ]
     },
     "execution_count": 5,
     "metadata": {},
     "output_type": "execute_result"
    }
   ],
   "source": [
    "X_train_full[0][4][16]"
   ]
  },
  {
   "cell_type": "markdown",
   "metadata": {
    "colab_type": "text",
    "id": "GEgjO9VVUrlN"
   },
   "source": [
    "Typischerweise sollte man die Daten skalieren, d.h. die Werte der Inputfeatures sollten zwischen 0 und 1 liegen.\n",
    "\n",
    "Wichtig: Wenn man skaliert, müssen auch die Testdaten skaliert werden."
   ]
  },
  {
   "cell_type": "code",
   "execution_count": 6,
   "metadata": {
    "colab": {},
    "colab_type": "code",
    "id": "jzsqoU-CVRJb"
   },
   "outputs": [],
   "source": [
    "X_train_full = X_train_full/255.0\n",
    "X_test = X_test/255.0"
   ]
  },
  {
   "cell_type": "markdown",
   "metadata": {
    "colab_type": "text",
    "id": "xwXPkU_8Tno8"
   },
   "source": [
    "Es zwar bereits Testdaten vorhanden, diese dürfen wir aber im Zuge der Erstellung des Modells **gar nicht** verwenden. Sie dürfen nur verwendet werden, um die Performance des **fertigen Modells** zu testen.\n",
    "\n",
    "Um während der Erstellung dennoch Testen zu können, verwenden wir sog. Validierungsdaten. Diese entnehmen wir den Trainingsdaten. Für den vorliegenden Fall verwenden wir zur Validierung z.B. die ersten 5000 Bilder. Die restlichen Bilder bilden das Trainingsset."
   ]
  },
  {
   "cell_type": "code",
   "execution_count": 7,
   "metadata": {
    "colab": {},
    "colab_type": "code",
    "id": "_tCcPse8UhIj"
   },
   "outputs": [],
   "source": [
    "X_valid = X_train_full[:5000]\n",
    "y_valid = y_train_full[:5000]\n",
    "\n",
    "X_train = X_train_full[5000:]\n",
    "y_train = y_train_full[5000:]"
   ]
  },
  {
   "cell_type": "markdown",
   "metadata": {
    "colab_type": "text",
    "id": "i1PnFqreXN0b"
   },
   "source": [
    "Die Daten entsprechen Bildinformationen und somit bietet es sich an, sich diese entsprechend darstellen zu lassen. Hier das erste Bild der Trainingsdaten ``X_train[0]``:"
   ]
  },
  {
   "cell_type": "code",
   "execution_count": 8,
   "metadata": {
    "colab": {
     "base_uri": "https://localhost:8080/",
     "height": 248
    },
    "colab_type": "code",
    "executionInfo": {
     "elapsed": 1957,
     "status": "ok",
     "timestamp": 1575285646558,
     "user": {
      "displayName": "Christian Moeller",
      "photoUrl": "",
      "userId": "02505173711259660088"
     },
     "user_tz": -60
    },
    "id": "BHF8ozd_Wv0p",
    "outputId": "8f685b4c-7767-4caf-8555-7e921a365b8e"
   },
   "outputs": [
    {
     "data": {
      "image/png": "[encoded data removed]",
      "text/plain": [
       "<Figure size 432x288 with 1 Axes>"
      ]
     },
     "metadata": {
      "needs_background": "light"
     },
     "output_type": "display_data"
    }
   ],
   "source": [
    "plt.imshow(X_train[0], cmap=\"binary\")\n",
    "plt.axis('off')\n",
    "plt.show()"
   ]
  },
  {
   "cell_type": "markdown",
   "metadata": {
    "colab_type": "text",
    "id": "8szD5uWKVOds"
   },
   "source": [
    "Als nächstes betrachten wir die zu unterscheidenden Klassen."
   ]
  },
  {
   "cell_type": "code",
   "execution_count": 9,
   "metadata": {
    "colab": {
     "base_uri": "https://localhost:8080/",
     "height": 34
    },
    "colab_type": "code",
    "executionInfo": {
     "elapsed": 645,
     "status": "ok",
     "timestamp": 1575285658680,
     "user": {
      "displayName": "Christian Moeller",
      "photoUrl": "",
      "userId": "02505173711259660088"
     },
     "user_tz": -60
    },
    "id": "9tmKF_TxV2rb",
    "outputId": "046cdb43-ffdd-41a6-94a3-6d5d2f8051c7"
   },
   "outputs": [
    {
     "data": {
      "text/plain": [
       "array([4, 0, 7, ..., 3, 0, 5], dtype=uint8)"
      ]
     },
     "execution_count": 9,
     "metadata": {},
     "output_type": "execute_result"
    }
   ],
   "source": [
    "y_train"
   ]
  },
  {
   "cell_type": "markdown",
   "metadata": {
    "colab_type": "text",
    "id": "QKvKWltSV4wS"
   },
   "source": [
    "Hier stehen nur die Ziffern 0-9. Welche Ziffer welchem Kleidungsstück entspricht, ist in den Daten nicht mit angegeben. 4 scheint aber einer Jacke zu entsprechen. Aus der Dokumentation der Daten lernen wir:"
   ]
  },
  {
   "cell_type": "code",
   "execution_count": 10,
   "metadata": {
    "colab": {},
    "colab_type": "code",
    "id": "-8ORPe8JWmII"
   },
   "outputs": [],
   "source": [
    "class_names = [\"T-shirt/top\", \"Trouser\", \"Pullover\", \"Dress\", \"Coat\",\n",
    "               \"Sandal\", \"Shirt\", \"Sneaker\", \"Bag\", \"Ankle boot\"]"
   ]
  },
  {
   "cell_type": "markdown",
   "metadata": {
    "colab_type": "text",
    "id": "Slh7XsHzWsZn"
   },
   "source": [
    "Für die oben abgeildete Jacke ``X_train[0]`` erhalten wir:"
   ]
  },
  {
   "cell_type": "code",
   "execution_count": 11,
   "metadata": {
    "colab": {
     "base_uri": "https://localhost:8080/",
     "height": 34
    },
    "colab_type": "code",
    "executionInfo": {
     "elapsed": 897,
     "status": "ok",
     "timestamp": 1575285733093,
     "user": {
      "displayName": "Christian Moeller",
      "photoUrl": "",
      "userId": "02505173711259660088"
     },
     "user_tz": -60
    },
    "id": "aLP3yklRXwiS",
    "outputId": "3deb516c-1ba2-4c4d-cb68-e36da69bcc77"
   },
   "outputs": [
    {
     "data": {
      "text/plain": [
       "'Coat'"
      ]
     },
     "execution_count": 11,
     "metadata": {},
     "output_type": "execute_result"
    }
   ],
   "source": [
    "class_names[y_train[0]]"
   ]
  },
  {
   "cell_type": "markdown",
   "metadata": {
    "colab_type": "text",
    "id": "vT2qziEEXzIN"
   },
   "source": [
    "Betrachten wir nun einen Ausschnitt der Trainingsdaten inkl. Labels:"
   ]
  },
  {
   "cell_type": "code",
   "execution_count": null,
   "metadata": {
    "colab": {
     "base_uri": "https://localhost:8080/",
     "height": 308
    },
    "colab_type": "code",
    "executionInfo": {
     "elapsed": 2038,
     "status": "ok",
     "timestamp": 1575285747325,
     "user": {
      "displayName": "Christian Moeller",
      "photoUrl": "",
      "userId": "02505173711259660088"
     },
     "user_tz": -60
    },
    "id": "_n5oaaCRX_Hz",
    "outputId": "106c2d08-bf65-447a-9a4f-ab91fe45abe8"
   },
   "outputs": [],
   "source": [
    "n_rows = 4\n",
    "n_cols = 10\n",
    "plt.figure(figsize=(n_cols * 1.2, n_rows * 1.2))\n",
    "for row in range(n_rows):\n",
    "    for col in range(n_cols):\n",
    "        index = n_cols * row + col\n",
    "        plt.subplot(n_rows, n_cols, index + 1)\n",
    "        plt.imshow(X_train[index], cmap=\"binary\", interpolation=\"nearest\")\n",
    "        plt.axis('off')\n",
    "        plt.title(class_names[y_train[index]], fontsize=12)\n",
    "plt.subplots_adjust(wspace=0.2, hspace=0.5)\n",
    "plt.show()"
   ]
  },
  {
   "cell_type": "markdown",
   "metadata": {
    "colab_type": "text",
    "id": "Nr0imCBVYCZi"
   },
   "source": [
    "## 2. Erstellen des Modells\n",
    "Wir wollen ein MLP mit zwei Hidden Layers erstellen:\n",
    "\n",
    "\n",
    "1.   Input Layer: Jedes Input-Datum ist ein Bild, konkret ist es das oben genannte 28x28 Array.\n",
    "2.   Das erste Hidden Layer soll 300 Neuronen haben und ReLU als Aktivierungsfunktion verwenden.\n",
    "3. Das zweite Hidden Layer soll 100 Neuronen haben und ebenfalls ReLU als Aktivierungsfunktion verwenden.\n",
    "4. Das Output Layer muss dann die Informationen bereitstellen, welcher Klasse der aktuelle Input zuzuordnen ist.\n",
    "\n",
    "Zu allererst erzeugen wir ein Modell. Da wir ein einfaches Feedforward Netz wollen, verwenden wir hierzu ``keras.models.Sequential()``:\n",
    "\n"
   ]
  },
  {
   "cell_type": "code",
   "execution_count": null,
   "metadata": {
    "colab": {},
    "colab_type": "code",
    "id": "qFLlm7LCZslL"
   },
   "outputs": [],
   "source": [
    "model = keras.models.Sequential()"
   ]
  },
  {
   "cell_type": "markdown",
   "metadata": {
    "colab_type": "text",
    "id": "UCuOtFh4ZujN"
   },
   "source": [
    "Nun zum Input Layer: Da wir als Input einen Vektor benötigen, müssen wir das 28x28 Array in einen 28*28= 784 dimensionalen Vektor umwandeln. Das geschieht durch"
   ]
  },
  {
   "cell_type": "code",
   "execution_count": null,
   "metadata": {
    "colab": {},
    "colab_type": "code",
    "id": "TPRC8HQ6aLb6"
   },
   "outputs": [],
   "source": [
    "model.add(keras.layers.Flatten(input_shape=[28, 28]))"
   ]
  },
  {
   "cell_type": "markdown",
   "metadata": {
    "colab_type": "text",
    "id": "cytaSiO5aObC"
   },
   "source": [
    "Als nächstes werden die beiden Hidden Layer hinzugefügt. Diese sind ``Dense`` Layers, denn jedes Neuron ist mit jedem Input verbunden. Außerdem kümmert sich ein ``Dense`` Layer selbst um die entsprechende Matrix der Gewichte und um die Bias-Terme. Dies geschieht durch"
   ]
  },
  {
   "cell_type": "code",
   "execution_count": null,
   "metadata": {
    "colab": {},
    "colab_type": "code",
    "id": "aLo8GtabasXr"
   },
   "outputs": [],
   "source": [
    "model.add(keras.layers.Dense(300, activation=\"relu\"))\n",
    "model.add(keras.layers.Dense(100, activation=\"relu\"))"
   ]
  },
  {
   "cell_type": "markdown",
   "metadata": {
    "colab_type": "text",
    "id": "hc3p0Bzsau_a"
   },
   "source": [
    "Nun kommt die Output Schicht. Diese soll aus 10 Neuronen bestehen, da wir 10 Klassen haben. Als Aktivierungsfunktion verwenden wir hier ``softmax``. Der Output des ersten Neurons ist dann als Wahrscheinlichkeit zu interpretieren, dass es sich um Klasse 1 handelt; der Output von Neuron 2 analog als die Wahrscheinlichkeit für Klasse 2, ..."
   ]
  },
  {
   "cell_type": "code",
   "execution_count": null,
   "metadata": {
    "colab": {},
    "colab_type": "code",
    "id": "Ap_sg9EubOyC"
   },
   "outputs": [],
   "source": [
    "model.add(keras.layers.Dense(10, activation=\"softmax\"))"
   ]
  },
  {
   "cell_type": "markdown",
   "metadata": {
    "colab_type": "text",
    "id": "SvUYwA_XbQcy"
   },
   "source": [
    "Durch ``model.summary()`` können wir uns einen Überblick verschaffen:"
   ]
  },
  {
   "cell_type": "code",
   "execution_count": null,
   "metadata": {
    "colab": {
     "base_uri": "https://localhost:8080/",
     "height": 289
    },
    "colab_type": "code",
    "executionInfo": {
     "elapsed": 776,
     "status": "ok",
     "timestamp": 1575286668284,
     "user": {
      "displayName": "Christian Moeller",
      "photoUrl": "",
      "userId": "02505173711259660088"
     },
     "user_tz": -60
    },
    "id": "YA3Ewulzbic2",
    "outputId": "69e44913-2d44-4adb-ce42-13a199683594"
   },
   "outputs": [],
   "source": [
    "model.summary()"
   ]
  },
  {
   "cell_type": "markdown",
   "metadata": {
    "colab_type": "text",
    "id": "oqKrsduHbi02"
   },
   "source": [
    "Das erste Layer hat also als Parameter alle Gewicht, die 784 Inputs mit 300 Neuronen verbinden, zuzüglich eines Bias Parameters pro Neuron: 784*300+300=235500.\n",
    "\n",
    "Solche ein Modell hat also einiges an Flexibilität, birgt aber die *massive* Gefahr eines Overfittings.\n",
    "\n",
    "Auf die einzelnen Gewichte haben wir Zugriff mittels ``get_weights()``, also etwa"
   ]
  },
  {
   "cell_type": "code",
   "execution_count": null,
   "metadata": {
    "colab": {},
    "colab_type": "code",
    "id": "nNX5pCwzci6H"
   },
   "outputs": [],
   "source": [
    "weights, biases = model.layers[1].get_weights()"
   ]
  },
  {
   "cell_type": "code",
   "execution_count": null,
   "metadata": {
    "colab": {
     "base_uri": "https://localhost:8080/",
     "height": 238
    },
    "colab_type": "code",
    "executionInfo": {
     "elapsed": 753,
     "status": "ok",
     "timestamp": 1575286975888,
     "user": {
      "displayName": "Christian Moeller",
      "photoUrl": "",
      "userId": "02505173711259660088"
     },
     "user_tz": -60
    },
    "id": "1FsbZfe5dBCA",
    "outputId": "05abae3f-b979-4967-9af9-d79d3580289d"
   },
   "outputs": [],
   "source": [
    "weights"
   ]
  },
  {
   "cell_type": "markdown",
   "metadata": {
    "colab_type": "text",
    "id": "kPcRItsfdj5c"
   },
   "source": [
    "Die Gewichte scheinen zufällig initialisiert worden zu sein (wichtig, um die Symmetrie zu brechen)."
   ]
  },
  {
   "cell_type": "code",
   "execution_count": null,
   "metadata": {
    "colab": {
     "base_uri": "https://localhost:8080/",
     "height": 34
    },
    "colab_type": "code",
    "executionInfo": {
     "elapsed": 712,
     "status": "ok",
     "timestamp": 1575287022518,
     "user": {
      "displayName": "Christian Moeller",
      "photoUrl": "",
      "userId": "02505173711259660088"
     },
     "user_tz": -60
    },
    "id": "GvCSUMuTdZ96",
    "outputId": "434e0d20-0d98-484e-f155-565eac89cfc8"
   },
   "outputs": [],
   "source": [
    "weights.shape"
   ]
  },
  {
   "cell_type": "code",
   "execution_count": null,
   "metadata": {
    "colab": {
     "base_uri": "https://localhost:8080/",
     "height": 323
    },
    "colab_type": "code",
    "executionInfo": {
     "elapsed": 552,
     "status": "ok",
     "timestamp": 1575287060872,
     "user": {
      "displayName": "Christian Moeller",
      "photoUrl": "",
      "userId": "02505173711259660088"
     },
     "user_tz": -60
    },
    "id": "xsRsmc7Ldbgy",
    "outputId": "ccd5aca3-ddae-47b8-f746-192ca1e00349"
   },
   "outputs": [],
   "source": [
    "biases"
   ]
  },
  {
   "cell_type": "code",
   "execution_count": null,
   "metadata": {
    "colab": {
     "base_uri": "https://localhost:8080/",
     "height": 34
    },
    "colab_type": "code",
    "executionInfo": {
     "elapsed": 930,
     "status": "ok",
     "timestamp": 1575287065912,
     "user": {
      "displayName": "Christian Moeller",
      "photoUrl": "",
      "userId": "02505173711259660088"
     },
     "user_tz": -60
    },
    "id": "168XPDeHddE5",
    "outputId": "b11e2a67-e43b-4705-af48-9dff1457f9fb"
   },
   "outputs": [],
   "source": [
    "biases.shape"
   ]
  },
  {
   "cell_type": "markdown",
   "metadata": {
    "colab_type": "text",
    "id": "-lu-asbYdfbZ"
   },
   "source": [
    "## 3. Compilieren des Modells\n",
    "Somit haben wir also die \"Form\" des neuronalen Netzes und seine Aktivierungsfunktionen definiert. Um ein Modell anzugeben, müssen noch zwei Dinge angegeben werden:\n",
    "\n",
    "1.  Loss Funktion\n",
    "2. Optimierungsmehtode\n",
    "\n",
    "Als Loss Funktion wollen wir ``sparse_categorical_crossentropy`` verwenden, als Optimizer verwenden wir *Stochastic Gradient Descent*. ``sparse_categorical_crossentropy``  verwenden wir, da wir kategorische Daten vorliegen haben und wir für jedes Bild nur *eine* Zahl als Ziel haben. Die Optimierungsmethode gibt an, wie mit Kenntnis des Gradienten der Loss Funktion (ermittelt durch Backpropagation) ein Optimum gefunden werden soll."
   ]
  },
  {
   "cell_type": "code",
   "execution_count": null,
   "metadata": {
    "colab": {},
    "colab_type": "code",
    "id": "4w-gMPaBeaer"
   },
   "outputs": [],
   "source": [
    "model.compile(loss=\"sparse_categorical_crossentropy\",\n",
    "              optimizer=\"sgd\",\n",
    "              metrics=[\"accuracy\"])"
   ]
  },
  {
   "cell_type": "markdown",
   "metadata": {
    "colab_type": "text",
    "id": "DGqAFoEoeewC"
   },
   "source": [
    "Das zusätzliche Argument ``metrics=[\"accuracy\"]`` haben wir übergeben, damit beim Training und auch der Auswertung die Genauigkeit mit gemessen wird (rein informativ).\n",
    "\n",
    "Nun muss das Modell nur noch trainiert werden. Dafür übergeben wir der ``.fit()`` Methode die Trainingsdaten ``X_train`` mit den zugehörigen Labels ``y_train``. Das Modell soll 30 Epochen lang trainiert werden (d.h. es wird jedes der 45000 Trainingsbilder 30 mal sehen). Außerdem soll direkt eine Validierung mit durchgeführt werden. D.h. der Loss und die Genauigkeit (\"Accuracy\") werden nicht nur auf den Trainingsdaten, sondern auch auf den Validierungsdaten berechnet. Daran können wir ggf. Overfitting bemerken (wenn die Werte auf den Trainingsdaten wesentlich besser sind als auf den Validierungsdaten)."
   ]
  },
  {
   "cell_type": "code",
   "execution_count": null,
   "metadata": {
    "colab": {
     "base_uri": "https://localhost:8080/",
     "height": 1000
    },
    "colab_type": "code",
    "executionInfo": {
     "elapsed": 180009,
     "status": "ok",
     "timestamp": 1575287538443,
     "user": {
      "displayName": "Christian Moeller",
      "photoUrl": "",
      "userId": "02505173711259660088"
     },
     "user_tz": -60
    },
    "id": "CXoQdYJKf5I1",
    "outputId": "f36a5a33-e41f-4f2f-f87a-ce5e9e9bcd61"
   },
   "outputs": [],
   "source": [
    "history = model.fit(X_train, y_train, epochs=10,\n",
    "                    validation_data=(X_valid, y_valid))"
   ]
  },
  {
   "cell_type": "markdown",
   "metadata": {
    "colab_type": "text",
    "id": "4wxJ45sgf8qk"
   },
   "source": [
    "Die Genauigkeit ist mit ca. 92% auf den Trainingsdaten und 89% auf den Testdaten gut und auch vergleichbar groß, d.h. es liegt wohl kein (starkes) Overfitting vor."
   ]
  },
  {
   "cell_type": "markdown",
   "metadata": {
    "colab_type": "text",
    "id": "_4guLqKihjrZ"
   },
   "source": [
    "Das oben angelegt ``History`` Objekt enthält die Trainingsparameter (``history.params``) und die während dem Training gesammelten Daten. "
   ]
  },
  {
   "cell_type": "code",
   "execution_count": null,
   "metadata": {
    "colab": {
     "base_uri": "https://localhost:8080/",
     "height": 136
    },
    "colab_type": "code",
    "executionInfo": {
     "elapsed": 892,
     "status": "ok",
     "timestamp": 1575287698328,
     "user": {
      "displayName": "Christian Moeller",
      "photoUrl": "",
      "userId": "02505173711259660088"
     },
     "user_tz": -60
    },
    "id": "lBMo7rSZiNrS",
    "outputId": "1ee7b993-e919-4b60-c9b1-d0cc0f817842"
   },
   "outputs": [],
   "source": [
    "history.params"
   ]
  },
  {
   "cell_type": "code",
   "execution_count": null,
   "metadata": {
    "colab": {
     "base_uri": "https://localhost:8080/",
     "height": 34
    },
    "colab_type": "code",
    "executionInfo": {
     "elapsed": 1968,
     "status": "ok",
     "timestamp": 1575287706915,
     "user": {
      "displayName": "Christian Moeller",
      "photoUrl": "",
      "userId": "02505173711259660088"
     },
     "user_tz": -60
    },
    "id": "p18oCAxJiPE6",
    "outputId": "4a667fca-1394-4782-9262-4da5879d8e2e"
   },
   "outputs": [],
   "source": [
    "history.history.keys()"
   ]
  },
  {
   "cell_type": "markdown",
   "metadata": {
    "colab_type": "text",
    "id": "57g00pl1iSGR"
   },
   "source": [
    "Diese Informationen fassen wir in einem DataFrame zusammen:"
   ]
  },
  {
   "cell_type": "code",
   "execution_count": null,
   "metadata": {
    "colab": {
     "base_uri": "https://localhost:8080/",
     "height": 979
    },
    "colab_type": "code",
    "executionInfo": {
     "elapsed": 925,
     "status": "ok",
     "timestamp": 1575287709589,
     "user": {
      "displayName": "Christian Moeller",
      "photoUrl": "",
      "userId": "02505173711259660088"
     },
     "user_tz": -60
    },
    "id": "qoj0NisikI1l",
    "outputId": "bc4bbabf-fafe-4564-e874-82b4953d0174"
   },
   "outputs": [],
   "source": [
    "pd.DataFrame(history.history)"
   ]
  },
  {
   "cell_type": "markdown",
   "metadata": {
    "colab_type": "text",
    "id": "faK0Ig-XkVzj"
   },
   "source": [
    "Das können wir gut plotten:"
   ]
  },
  {
   "cell_type": "code",
   "execution_count": null,
   "metadata": {
    "colab": {
     "base_uri": "https://localhost:8080/",
     "height": 324
    },
    "colab_type": "code",
    "executionInfo": {
     "elapsed": 848,
     "status": "ok",
     "timestamp": 1575287736448,
     "user": {
      "displayName": "Christian Moeller",
      "photoUrl": "",
      "userId": "02505173711259660088"
     },
     "user_tz": -60
    },
    "id": "qGPYXFavmWt8",
    "outputId": "21fdfbcb-ac09-4c65-c09b-fb1a927a0d3c"
   },
   "outputs": [],
   "source": [
    "pd.DataFrame(history.history).plot(figsize=(8, 5))\n",
    "plt.grid(True)\n",
    "plt.gca().set_ylim(0, 1)\n",
    "plt.show()"
   ]
  },
  {
   "cell_type": "markdown",
   "metadata": {
    "colab_type": "text",
    "id": "uJhHuaP5mcCT"
   },
   "source": [
    "Interpretieren Sie diese Kurven."
   ]
  },
  {
   "cell_type": "markdown",
   "metadata": {
    "colab_type": "text",
    "id": "DwAAgXP_njLn"
   },
   "source": [
    "Wenn wir mit dem Modell soweit zufrieden sind - **und erst dann** - können wir es auf den Testdaten evaluieren:"
   ]
  },
  {
   "cell_type": "code",
   "execution_count": null,
   "metadata": {
    "colab": {
     "base_uri": "https://localhost:8080/",
     "height": 71
    },
    "colab_type": "code",
    "executionInfo": {
     "elapsed": 1960,
     "status": "ok",
     "timestamp": 1575288272181,
     "user": {
      "displayName": "Christian Moeller",
      "photoUrl": "",
      "userId": "02505173711259660088"
     },
     "user_tz": -60
    },
    "id": "yFiTcaAtnusg",
    "outputId": "aabb1cf7-5df7-469c-888c-6f59e7c9288b"
   },
   "outputs": [],
   "source": [
    "model.evaluate(X_test, y_test)"
   ]
  },
  {
   "cell_type": "markdown",
   "metadata": {
    "colab_type": "text",
    "id": "8FUYfkQCm9cE"
   },
   "source": [
    "# 4. Anwenden des Modells\n",
    "Dieses nun fertig trainierte Modell können wir nun verwenden, um neue Daten (hier: Bilder) zu klassifizieren. Dafür verwenden wir die ``predict()`` Methode. Diese Wenden wir z.B. auf folgende drei Bilder aus dem Testset an (die hat das Modell noch nie gesehen)."
   ]
  },
  {
   "cell_type": "code",
   "execution_count": null,
   "metadata": {
    "colab": {
     "base_uri": "https://localhost:8080/",
     "height": 85
    },
    "colab_type": "code",
    "executionInfo": {
     "elapsed": 618,
     "status": "ok",
     "timestamp": 1575288499110,
     "user": {
      "displayName": "Christian Moeller",
      "photoUrl": "",
      "userId": "02505173711259660088"
     },
     "user_tz": -60
    },
    "id": "xNTWJhfFniRD",
    "outputId": "f62dc809-e2bd-4031-fd84-31274cf9eb23"
   },
   "outputs": [],
   "source": [
    "X_new = X_test[:3]\n",
    "y_proba = model.predict(X_new)\n",
    "y_proba.round(2)"
   ]
  },
  {
   "cell_type": "markdown",
   "metadata": {
    "colab_type": "text",
    "id": "LKjeVRbGou_Z"
   },
   "source": [
    "Das Ergebnis sind wie wir wollten die Wahrscheinlichkeiten, dass das fragliche Objekt in Kategorie 0, ..., 9 gehört. Natürlich können wir uns auch nur die jeweils wahrscheinlichste Klasse zurückgeben lassen (das wäre die Antwort des Modells):"
   ]
  },
  {
   "cell_type": "code",
   "execution_count": null,
   "metadata": {
    "colab": {
     "base_uri": "https://localhost:8080/",
     "height": 34
    },
    "colab_type": "code",
    "executionInfo": {
     "elapsed": 996,
     "status": "ok",
     "timestamp": 1575288541949,
     "user": {
      "displayName": "Christian Moeller",
      "photoUrl": "",
      "userId": "02505173711259660088"
     },
     "user_tz": -60
    },
    "id": "cCkLBBVwpFts",
    "outputId": "9d02345f-2dd1-40dd-da3d-f10d4d31b057"
   },
   "outputs": [],
   "source": [
    "y_pred = model.predict_classes(X_new)\n",
    "y_pred"
   ]
  },
  {
   "cell_type": "markdown",
   "metadata": {
    "colab_type": "text",
    "id": "JRlXafRgpV4w"
   },
   "source": [
    "Da die drei Bilder aus den Testdaten sind, können wir auch die korrekten Antworten nachschauen:"
   ]
  },
  {
   "cell_type": "code",
   "execution_count": null,
   "metadata": {
    "colab": {
     "base_uri": "https://localhost:8080/",
     "height": 34
    },
    "colab_type": "code",
    "executionInfo": {
     "elapsed": 908,
     "status": "ok",
     "timestamp": 1575288564651,
     "user": {
      "displayName": "Christian Moeller",
      "photoUrl": "",
      "userId": "02505173711259660088"
     },
     "user_tz": -60
    },
    "id": "95168FEkpcze",
    "outputId": "d01837e6-ed0b-454a-b4ef-7b4aec9fa377"
   },
   "outputs": [],
   "source": [
    "y_new = y_test[:3]\n",
    "y_new"
   ]
  },
  {
   "cell_type": "markdown",
   "metadata": {
    "colab_type": "text",
    "id": "7SqBwnM5pHIE"
   },
   "source": [
    "Stimmt also. Konkret wären das:"
   ]
  },
  {
   "cell_type": "code",
   "execution_count": null,
   "metadata": {
    "colab": {
     "base_uri": "https://localhost:8080/",
     "height": 34
    },
    "colab_type": "code",
    "executionInfo": {
     "elapsed": 936,
     "status": "ok",
     "timestamp": 1575288572891,
     "user": {
      "displayName": "Christian Moeller",
      "photoUrl": "",
      "userId": "02505173711259660088"
     },
     "user_tz": -60
    },
    "id": "v0lwaa8rpLKa",
    "outputId": "7cc9260e-6e10-4c58-933d-ecaec72f705e"
   },
   "outputs": [],
   "source": [
    "np.array(class_names)[y_pred]"
   ]
  },
  {
   "cell_type": "markdown",
   "metadata": {
    "colab_type": "text",
    "id": "jfC5g2ZTpLqq"
   },
   "source": [
    "Oder als Bild:"
   ]
  },
  {
   "cell_type": "code",
   "execution_count": null,
   "metadata": {
    "colab": {
     "base_uri": "https://localhost:8080/",
     "height": 165
    },
    "colab_type": "code",
    "executionInfo": {
     "elapsed": 813,
     "status": "ok",
     "timestamp": 1575288577727,
     "user": {
      "displayName": "Christian Moeller",
      "photoUrl": "",
      "userId": "02505173711259660088"
     },
     "user_tz": -60
    },
    "id": "_Dg8i64epjk9",
    "outputId": "d4c8d719-ba43-4c15-b8c4-49338ffedcc5"
   },
   "outputs": [],
   "source": [
    "plt.figure(figsize=(7.2, 2.4))\n",
    "for index, image in enumerate(X_new):\n",
    "    plt.subplot(1, 3, index + 1)\n",
    "    plt.imshow(image, cmap=\"binary\", interpolation=\"nearest\")\n",
    "    plt.axis('off')\n",
    "    plt.title(class_names[y_test[index]], fontsize=12)\n",
    "plt.subplots_adjust(wspace=0.2, hspace=0.5)\n",
    "plt.show()"
   ]
  },
  {
   "cell_type": "markdown",
   "metadata": {
    "colab": {},
    "colab_type": "code",
    "id": "uClHVjvTplhs"
   },
   "source": [
    "# 5. Alternative Modelle"
   ]
  },
  {
   "cell_type": "markdown",
   "metadata": {},
   "source": [
    "## Underfitting"
   ]
  },
  {
   "cell_type": "code",
   "execution_count": 12,
   "metadata": {},
   "outputs": [],
   "source": [
    "model_uf = keras.models.Sequential()\n",
    "model_uf.add(keras.layers.Flatten(input_shape=[28,28]))\n",
    "model_uf.add(keras.layers.Dense(20, activation=\"relu\"))\n",
    "model_uf.add(keras.layers.Dense(10, activation=\"softmax\"))\n",
    "model_uf.compile(loss=\"sparse_categorical_crossentropy\",\n",
    "              optimizer=\"sgd\",\n",
    "              metrics=[\"accuracy\"])"
   ]
  },
  {
   "cell_type": "code",
   "execution_count": 13,
   "metadata": {},
   "outputs": [
    {
     "name": "stdout",
     "output_type": "stream",
     "text": [
      "Train on 55000 samples, validate on 5000 samples\n",
      "Epoch 1/10\n",
      "WARNING:tensorflow:Entity <function Function._initialize_uninitialized_variables.<locals>.initialize_variables at 0x000001B368ED96A8> could not be transformed and will be executed as-is. Please report this to the AutoGraph team. When filing the bug, set the verbosity to 10 (on Linux, `export AUTOGRAPH_VERBOSITY=10`) and attach the full output. Cause: module 'gast' has no attribute 'Num'\n",
      "WARNING: Entity <function Function._initialize_uninitialized_variables.<locals>.initialize_variables at 0x000001B368ED96A8> could not be transformed and will be executed as-is. Please report this to the AutoGraph team. When filing the bug, set the verbosity to 10 (on Linux, `export AUTOGRAPH_VERBOSITY=10`) and attach the full output. Cause: module 'gast' has no attribute 'Num'\n",
      "55000/55000 [==============================] - 4s 72us/sample - loss: 0.8485 - accuracy: 0.7233 - val_loss: 0.5850 - val_accuracy: 0.8114\n",
      "Epoch 2/10\n",
      "55000/55000 [==============================] - 3s 63us/sample - loss: 0.5531 - accuracy: 0.8128 - val_loss: 0.5128 - val_accuracy: 0.8278\n",
      "Epoch 3/10\n",
      "55000/55000 [==============================] - 3s 63us/sample - loss: 0.4997 - accuracy: 0.8278 - val_loss: 0.4703 - val_accuracy: 0.8474\n",
      "Epoch 4/10\n",
      "55000/55000 [==============================] - 3s 62us/sample - loss: 0.4722 - accuracy: 0.8351 - val_loss: 0.4537 - val_accuracy: 0.8516\n",
      "Epoch 5/10\n",
      "55000/55000 [==============================] - 3s 62us/sample - loss: 0.4543 - accuracy: 0.8415 - val_loss: 0.4483 - val_accuracy: 0.8504\n",
      "Epoch 6/10\n",
      "55000/55000 [==============================] - 3s 62us/sample - loss: 0.4410 - accuracy: 0.8459 - val_loss: 0.4409 - val_accuracy: 0.8538\n",
      "Epoch 7/10\n",
      "55000/55000 [==============================] - 4s 64us/sample - loss: 0.4295 - accuracy: 0.8517 - val_loss: 0.4184 - val_accuracy: 0.8616\n",
      "Epoch 8/10\n",
      "55000/55000 [==============================] - 3s 63us/sample - loss: 0.4219 - accuracy: 0.8531 - val_loss: 0.4166 - val_accuracy: 0.8600\n",
      "Epoch 9/10\n",
      "55000/55000 [==============================] - 3s 63us/sample - loss: 0.4140 - accuracy: 0.8555 - val_loss: 0.4109 - val_accuracy: 0.8604\n",
      "Epoch 10/10\n",
      "55000/55000 [==============================] - 3s 61us/sample - loss: 0.4087 - accuracy: 0.8577 - val_loss: 0.4101 - val_accuracy: 0.8586\n"
     ]
    }
   ],
   "source": [
    "history_uf = model_uf.fit(X_train, y_train, epochs=10,\n",
    "                    validation_data=(X_valid, y_valid))"
   ]
  },
  {
   "cell_type": "code",
   "execution_count": 14,
   "metadata": {},
   "outputs": [
    {
     "data": {
      "image/png": "[encoded data removed]",
      "text/plain": [
       "<Figure size 576x360 with 1 Axes>"
      ]
     },
     "metadata": {
      "needs_background": "light"
     },
     "output_type": "display_data"
    }
   ],
   "source": [
    "pd.DataFrame(history_uf.history).plot(figsize=(8, 5))\n",
    "plt.grid(True)\n",
    "plt.gca().set_ylim(0, 1)\n",
    "plt.show()"
   ]
  },
  {
   "cell_type": "markdown",
   "metadata": {},
   "source": [
    "## Overfitting"
   ]
  },
  {
   "cell_type": "code",
   "execution_count": 15,
   "metadata": {},
   "outputs": [],
   "source": [
    "model_of = keras.models.Sequential()\n",
    "model_of.add(keras.layers.Flatten(input_shape=[28,28]))\n",
    "model_of.add(keras.layers.Dense(500, activation=\"relu\"))\n",
    "model_of.add(keras.layers.Dense(400, activation=\"relu\"))\n",
    "model_of.add(keras.layers.Dense(200, activation=\"relu\"))\n",
    "model_of.add(keras.layers.Dense(100, activation=\"relu\"))\n",
    "model_of.add(keras.layers.Dense(10, activation=\"softmax\"))\n",
    "model_of.compile(loss=\"sparse_categorical_crossentropy\",\n",
    "              optimizer=\"sgd\",\n",
    "              metrics=[\"accuracy\"])"
   ]
  },
  {
   "cell_type": "code",
   "execution_count": 16,
   "metadata": {},
   "outputs": [
    {
     "name": "stdout",
     "output_type": "stream",
     "text": [
      "Train on 55000 samples, validate on 5000 samples\n",
      "Epoch 1/10\n",
      "55000/55000 [==============================] - 3s 63us/sample - loss: 0.4029 - accuracy: 0.8595 - val_loss: 0.3997 - val_accuracy: 0.8634\n",
      "Epoch 2/10\n",
      "55000/55000 [==============================] - 3s 61us/sample - loss: 0.3989 - accuracy: 0.8602 - val_loss: 0.4059 - val_accuracy: 0.8560\n",
      "Epoch 3/10\n",
      "55000/55000 [==============================] - 4s 65us/sample - loss: 0.3938 - accuracy: 0.8619 - val_loss: 0.3963 - val_accuracy: 0.8654\n",
      "Epoch 4/10\n",
      "55000/55000 [==============================] - 3s 63us/sample - loss: 0.3901 - accuracy: 0.8638 - val_loss: 0.3924 - val_accuracy: 0.8638\n",
      "Epoch 5/10\n",
      "55000/55000 [==============================] - 3s 62us/sample - loss: 0.3861 - accuracy: 0.8641 - val_loss: 0.3938 - val_accuracy: 0.8616\n",
      "Epoch 6/10\n",
      "55000/55000 [==============================] - 3s 62us/sample - loss: 0.3826 - accuracy: 0.8660 - val_loss: 0.3952 - val_accuracy: 0.8622\n",
      "Epoch 7/10\n",
      "55000/55000 [==============================] - 4s 64us/sample - loss: 0.3789 - accuracy: 0.8669 - val_loss: 0.3878 - val_accuracy: 0.8658\n",
      "Epoch 8/10\n",
      "55000/55000 [==============================] - 4s 65us/sample - loss: 0.3766 - accuracy: 0.8678 - val_loss: 0.3924 - val_accuracy: 0.8604\n",
      "Epoch 9/10\n",
      "55000/55000 [==============================] - 4s 66us/sample - loss: 0.3736 - accuracy: 0.8682 - val_loss: 0.3824 - val_accuracy: 0.8658\n",
      "Epoch 10/10\n",
      "55000/55000 [==============================] - 4s 66us/sample - loss: 0.3710 - accuracy: 0.8697 - val_loss: 0.3833 - val_accuracy: 0.8668\n"
     ]
    }
   ],
   "source": [
    "history_of = model_uf.fit(X_train, y_train, epochs=10,\n",
    "                    validation_data=(X_valid, y_valid))"
   ]
  },
  {
   "cell_type": "markdown",
   "metadata": {},
   "source": [
    "## CNN"
   ]
  },
  {
   "cell_type": "code",
   "execution_count": 40,
   "metadata": {},
   "outputs": [],
   "source": [
    "X_mean = X_train.mean(axis=0, keepdims=True)\n",
    "X_std = X_train.std(axis=0, keepdims=True) + 1e-7\n",
    "X_train = (X_train - X_mean) / X_std\n",
    "X_valid = (X_valid - X_mean) / X_std\n",
    "X_test = (X_test - X_mean) / X_std\n",
    "\n",
    "X_train = X_train[..., np.newaxis]\n",
    "X_valid = X_valid[..., np.newaxis]\n",
    "X_test = X_test[..., np.newaxis]"
   ]
  },
  {
   "cell_type": "code",
   "execution_count": 41,
   "metadata": {},
   "outputs": [],
   "source": [
    "from functools import partial\n",
    "\n",
    "DefaultConv2D = partial(keras.layers.Conv2D,\n",
    "                        kernel_size=3, activation='relu', padding=\"SAME\")\n",
    "model = keras.models.Sequential([\n",
    "    DefaultConv2D(filters=64, kernel_size=7, input_shape=[28, 28, 1]),\n",
    "    keras.layers.MaxPooling2D(pool_size=2),\n",
    "    DefaultConv2D(filters=128),\n",
    "    DefaultConv2D(filters=128),\n",
    "    keras.layers.MaxPooling2D(pool_size=2),\n",
    "    DefaultConv2D(filters=256),\n",
    "    DefaultConv2D(filters=256),\n",
    "    keras.layers.MaxPooling2D(pool_size=2),\n",
    "    keras.layers.Flatten(),\n",
    "    keras.layers.Dense(units=128, activation='relu'),\n",
    "    keras.layers.Dropout(0.5),\n",
    "    keras.layers.Dense(units=64, activation='relu'),\n",
    "    keras.layers.Dropout(0.5),\n",
    "    keras.layers.Dense(units=10, activation='softmax'),\n",
    "])"
   ]
  },
  {
   "cell_type": "code",
   "execution_count": 42,
   "metadata": {},
   "outputs": [],
   "source": [
    "model.compile(loss=\"sparse_categorical_crossentropy\",\n",
    "              optimizer=\"sgd\",\n",
    "              metrics=[\"accuracy\"])"
   ]
  },
  {
   "cell_type": "code",
   "execution_count": null,
   "metadata": {},
   "outputs": [
    {
     "name": "stdout",
     "output_type": "stream",
     "text": [
      "Train on 55000 samples, validate on 5000 samples\n",
      "Epoch 1/10\n",
      "WARNING:tensorflow:Entity <function Function._initialize_uninitialized_variables.<locals>.initialize_variables at 0x000001B5205402F0> could not be transformed and will be executed as-is. Please report this to the AutoGraph team. When filing the bug, set the verbosity to 10 (on Linux, `export AUTOGRAPH_VERBOSITY=10`) and attach the full output. Cause: module 'gast' has no attribute 'Num'\n",
      "WARNING: Entity <function Function._initialize_uninitialized_variables.<locals>.initialize_variables at 0x000001B5205402F0> could not be transformed and will be executed as-is. Please report this to the AutoGraph team. When filing the bug, set the verbosity to 10 (on Linux, `export AUTOGRAPH_VERBOSITY=10`) and attach the full output. Cause: module 'gast' has no attribute 'Num'\n",
      "30144/55000 [===============>..............] - ETA: 1:05 - loss: 1.4221 - accuracy: 0.4896"
     ]
    }
   ],
   "source": [
    "history_cnn = model.fit(X_train, y_train, epochs=10,\n",
    "                    validation_data=(X_valid, y_valid))"
   ]
  },
  {
   "cell_type": "code",
   "execution_count": null,
   "metadata": {},
   "outputs": [],
   "source": []
  }
 ],
 "metadata": {
  "colab": {
   "collapsed_sections": [],
   "name": "Pr2_FashMNIST.ipynb",
   "provenance": []
  },
  "kernelspec": {
   "display_name": "Python 3",
   "language": "python",
   "name": "python3"
  },
  "language_info": {
   "codemirror_mode": {
    "name": "ipython",
    "version": 3
   },
   "file_extension": ".py",
   "mimetype": "text/x-python",
   "name": "python",
   "nbconvert_exporter": "python",
   "pygments_lexer": "ipython3",
   "version": "3.6.9"
  }
 },
 "nbformat": 4,
 "nbformat_minor": 1
}
